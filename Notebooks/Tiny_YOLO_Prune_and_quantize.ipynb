{
  "nbformat": 4,
  "nbformat_minor": 0,
  "metadata": {
    "colab": {
      "provenance": []
    },
    "kernelspec": {
      "name": "python3",
      "display_name": "Python 3"
    },
    "language_info": {
      "name": "python"
    },
    "accelerator": "GPU",
    "gpuClass": "standard"
  },
  "cells": [
    {
      "cell_type": "markdown",
      "source": [
        "### Install the prerequisite."
      ],
      "metadata": {
        "id": "zSjGVE81qMw9"
      }
    },
    {
      "cell_type": "code",
      "execution_count": 1,
      "metadata": {
        "colab": {
          "base_uri": "https://localhost:8080/"
        },
        "id": "-W0ueHQpE1nR",
        "outputId": "e32fe9a7-8559-4ac8-a76a-f2901dcdc95e"
      },
      "outputs": [
        {
          "output_type": "stream",
          "name": "stdout",
          "text": [
            "Looking in indexes: https://pypi.org/simple, https://us-python.pkg.dev/colab-wheels/public/simple/\n",
            "Collecting deepsparse[yolo]\n",
            "  Downloading deepsparse-1.3.1-cp38-cp38-manylinux_2_17_x86_64.manylinux2014_x86_64.whl (39.9 MB)\n",
            "\u001b[2K     \u001b[90m━━━━━━━━━━━━━━━━━━━━━━━━━━━━━━━━━━━━━━━━\u001b[0m \u001b[32m39.9/39.9 MB\u001b[0m \u001b[31m35.7 MB/s\u001b[0m eta \u001b[36m0:00:00\u001b[0m\n",
            "\u001b[?25hRequirement already satisfied: numpy<=1.21.6,>=1.16.3 in /usr/local/lib/python3.8/dist-packages (from deepsparse[yolo]) (1.21.6)\n",
            "Collecting onnx<=1.12.0,>=1.5.0\n",
            "  Downloading onnx-1.12.0-cp38-cp38-manylinux_2_17_x86_64.manylinux2014_x86_64.whl (13.1 MB)\n",
            "\u001b[2K     \u001b[90m━━━━━━━━━━━━━━━━━━━━━━━━━━━━━━━━━━━━━━━━\u001b[0m \u001b[32m13.1/13.1 MB\u001b[0m \u001b[31m94.0 MB/s\u001b[0m eta \u001b[36m0:00:00\u001b[0m\n",
            "\u001b[?25hRequirement already satisfied: pydantic>=1.8.2 in /usr/local/lib/python3.8/dist-packages (from deepsparse[yolo]) (1.10.4)\n",
            "Requirement already satisfied: requests>=2.0.0 in /usr/local/lib/python3.8/dist-packages (from deepsparse[yolo]) (2.25.1)\n",
            "Requirement already satisfied: tqdm>=4.0.0 in /usr/local/lib/python3.8/dist-packages (from deepsparse[yolo]) (4.64.1)\n",
            "Requirement already satisfied: protobuf<=3.20.1,>=3.12.2 in /usr/local/lib/python3.8/dist-packages (from deepsparse[yolo]) (3.19.6)\n",
            "Collecting sparsezoo~=1.3.0\n",
            "  Downloading sparsezoo-1.3.1-py3-none-any.whl (92 kB)\n",
            "\u001b[2K     \u001b[90m━━━━━━━━━━━━━━━━━━━━━━━━━━━━━━━━━━━━━━━━\u001b[0m \u001b[32m92.0/92.0 KB\u001b[0m \u001b[31m13.5 MB/s\u001b[0m eta \u001b[36m0:00:00\u001b[0m\n",
            "\u001b[?25hCollecting click~=8.0.0\n",
            "  Downloading click-8.0.4-py3-none-any.whl (97 kB)\n",
            "\u001b[2K     \u001b[90m━━━━━━━━━━━━━━━━━━━━━━━━━━━━━━━━━━━━━━━━\u001b[0m \u001b[32m97.5/97.5 KB\u001b[0m \u001b[31m14.1 MB/s\u001b[0m eta \u001b[36m0:00:00\u001b[0m\n",
            "\u001b[?25hCollecting torchvision<=0.13,>=0.3.0\n",
            "  Downloading torchvision-0.13.0-cp38-cp38-manylinux1_x86_64.whl (19.1 MB)\n",
            "\u001b[2K     \u001b[90m━━━━━━━━━━━━━━━━━━━━━━━━━━━━━━━━━━━━━━━━\u001b[0m \u001b[32m19.1/19.1 MB\u001b[0m \u001b[31m61.2 MB/s\u001b[0m eta \u001b[36m0:00:00\u001b[0m\n",
            "\u001b[?25hRequirement already satisfied: opencv-python in /usr/local/lib/python3.8/dist-packages (from deepsparse[yolo]) (4.6.0.66)\n",
            "Requirement already satisfied: typing-extensions>=3.6.2.1 in /usr/local/lib/python3.8/dist-packages (from onnx<=1.12.0,>=1.5.0->deepsparse[yolo]) (4.4.0)\n",
            "Requirement already satisfied: chardet<5,>=3.0.2 in /usr/local/lib/python3.8/dist-packages (from requests>=2.0.0->deepsparse[yolo]) (4.0.0)\n",
            "Requirement already satisfied: urllib3<1.27,>=1.21.1 in /usr/local/lib/python3.8/dist-packages (from requests>=2.0.0->deepsparse[yolo]) (1.24.3)\n",
            "Requirement already satisfied: certifi>=2017.4.17 in /usr/local/lib/python3.8/dist-packages (from requests>=2.0.0->deepsparse[yolo]) (2022.12.7)\n",
            "Requirement already satisfied: idna<3,>=2.5 in /usr/local/lib/python3.8/dist-packages (from requests>=2.0.0->deepsparse[yolo]) (2.10)\n",
            "Requirement already satisfied: pyyaml>=5.1.0 in /usr/local/lib/python3.8/dist-packages (from sparsezoo~=1.3.0->deepsparse[yolo]) (6.0)\n",
            "Requirement already satisfied: pillow!=8.3.*,>=5.3.0 in /usr/local/lib/python3.8/dist-packages (from torchvision<=0.13,>=0.3.0->deepsparse[yolo]) (7.1.2)\n",
            "Collecting torch==1.12.0\n",
            "  Downloading torch-1.12.0-cp38-cp38-manylinux1_x86_64.whl (776.3 MB)\n",
            "\u001b[2K     \u001b[90m━━━━━━━━━━━━━━━━━━━━━━━━━━━━━━━━━━━━━━━\u001b[0m \u001b[32m776.3/776.3 MB\u001b[0m \u001b[31m1.8 MB/s\u001b[0m eta \u001b[36m0:00:00\u001b[0m\n",
            "\u001b[?25hInstalling collected packages: torch, onnx, click, torchvision, sparsezoo, deepsparse\n",
            "  Attempting uninstall: torch\n",
            "    Found existing installation: torch 1.13.1+cu116\n",
            "    Uninstalling torch-1.13.1+cu116:\n",
            "      Successfully uninstalled torch-1.13.1+cu116\n",
            "  Attempting uninstall: click\n",
            "    Found existing installation: click 7.1.2\n",
            "    Uninstalling click-7.1.2:\n",
            "      Successfully uninstalled click-7.1.2\n",
            "  Attempting uninstall: torchvision\n",
            "    Found existing installation: torchvision 0.14.1+cu116\n",
            "    Uninstalling torchvision-0.14.1+cu116:\n",
            "      Successfully uninstalled torchvision-0.14.1+cu116\n",
            "\u001b[31mERROR: pip's dependency resolver does not currently take into account all the packages that are installed. This behaviour is the source of the following dependency conflicts.\n",
            "torchtext 0.14.1 requires torch==1.13.1, but you have torch 1.12.0 which is incompatible.\n",
            "torchaudio 0.13.1+cu116 requires torch==1.13.1, but you have torch 1.12.0 which is incompatible.\n",
            "flask 1.1.4 requires click<8.0,>=5.1, but you have click 8.0.4 which is incompatible.\u001b[0m\u001b[31m\n",
            "\u001b[0mSuccessfully installed click-8.0.4 deepsparse-1.3.1 onnx-1.12.0 sparsezoo-1.3.1 torch-1.12.0 torchvision-0.13.0\n"
          ]
        }
      ],
      "source": [
        "!pip install deepsparse[yolo]"
      ]
    },
    {
      "cell_type": "markdown",
      "source": [
        "### Install modoptima from the source"
      ],
      "metadata": {
        "id": "pTv5HXIaqS59"
      }
    },
    {
      "cell_type": "code",
      "source": [
        "#Clone the repo.\n",
        "!git clone https://github.com/VikasOjha666/modoptima.git\n",
        "#Changing directory to the cloned.\n",
        "%cd modoptima\n",
        "#Build and install.\n",
        "!python setup.py install\n",
        "%cd ../\n",
        "#Remove the cloned folder.\n",
        "!rm -rf modoptima"
      ],
      "metadata": {
        "colab": {
          "base_uri": "https://localhost:8080/"
        },
        "id": "iL3eB2J6FqrB",
        "outputId": "eba94192-b3ec-4823-9982-d04c3576296b"
      },
      "execution_count": 2,
      "outputs": [
        {
          "output_type": "stream",
          "name": "stdout",
          "text": [
            "Cloning into 'modoptima'...\n",
            "remote: Enumerating objects: 212, done.\u001b[K\n",
            "remote: Counting objects: 100% (212/212), done.\u001b[K\n",
            "remote: Compressing objects: 100% (134/134), done.\u001b[K\n",
            "remote: Total 212 (delta 74), reused 208 (delta 70), pack-reused 0\u001b[K\n",
            "Receiving objects: 100% (212/212), 33.57 MiB | 17.10 MiB/s, done.\n",
            "Resolving deltas: 100% (74/74), done.\n",
            "/content/modoptima\n",
            "running install\n",
            "running bdist_egg\n",
            "running egg_info\n",
            "creating modoptima.egg-info\n",
            "writing modoptima.egg-info/PKG-INFO\n",
            "writing dependency_links to modoptima.egg-info/dependency_links.txt\n",
            "writing requirements to modoptima.egg-info/requires.txt\n",
            "writing top-level names to modoptima.egg-info/top_level.txt\n",
            "writing manifest file 'modoptima.egg-info/SOURCES.txt'\n",
            "package init file 'modoptima/__init__.py' not found (or not a regular file)\n",
            "writing manifest file 'modoptima.egg-info/SOURCES.txt'\n",
            "installing library code to build/bdist.linux-x86_64/egg\n",
            "running install_lib\n",
            "running build_py\n",
            "creating build\n",
            "creating build/lib\n",
            "creating build/lib/modoptima\n",
            "copying modoptima/MasterTrainer.py -> build/lib/modoptima\n",
            "copying modoptima/___init__.py -> build/lib/modoptima\n",
            "copying modoptima/MasterInferencer.py -> build/lib/modoptima\n",
            "creating build/lib/modoptima/Train\n",
            "copying modoptima/Train/__init__.py -> build/lib/modoptima/Train\n",
            "creating build/lib/modoptima/Train/yolov7tiny\n",
            "copying modoptima/Train/yolov7tiny/tester.py -> build/lib/modoptima/Train/yolov7tiny\n",
            "copying modoptima/Train/yolov7tiny/Trainer.py -> build/lib/modoptima/Train/yolov7tiny\n",
            "copying modoptima/Train/yolov7tiny/hubconf.py -> build/lib/modoptima/Train/yolov7tiny\n",
            "copying modoptima/Train/yolov7tiny/detect.py -> build/lib/modoptima/Train/yolov7tiny\n",
            "copying modoptima/Train/yolov7tiny/__init__.py -> build/lib/modoptima/Train/yolov7tiny\n",
            "creating build/lib/modoptima/Train/yolov7tiny/data\n",
            "copying modoptima/Train/yolov7tiny/data/__init__.py -> build/lib/modoptima/Train/yolov7tiny/data\n",
            "creating build/lib/modoptima/Train/yolov7tiny/models\n",
            "copying modoptima/Train/yolov7tiny/models/experimental.py -> build/lib/modoptima/Train/yolov7tiny/models\n",
            "copying modoptima/Train/yolov7tiny/models/yolo.py -> build/lib/modoptima/Train/yolov7tiny/models\n",
            "copying modoptima/Train/yolov7tiny/models/common.py -> build/lib/modoptima/Train/yolov7tiny/models\n",
            "copying modoptima/Train/yolov7tiny/models/__init__.py -> build/lib/modoptima/Train/yolov7tiny/models\n",
            "creating build/lib/modoptima/Train/yolov7tiny/utils\n",
            "copying modoptima/Train/yolov7tiny/utils/metrics.py -> build/lib/modoptima/Train/yolov7tiny/utils\n",
            "copying modoptima/Train/yolov7tiny/utils/sparse.py -> build/lib/modoptima/Train/yolov7tiny/utils\n",
            "copying modoptima/Train/yolov7tiny/utils/plots.py -> build/lib/modoptima/Train/yolov7tiny/utils\n",
            "copying modoptima/Train/yolov7tiny/utils/activations.py -> build/lib/modoptima/Train/yolov7tiny/utils\n",
            "copying modoptima/Train/yolov7tiny/utils/autoanchor.py -> build/lib/modoptima/Train/yolov7tiny/utils\n",
            "copying modoptima/Train/yolov7tiny/utils/torch_utils.py -> build/lib/modoptima/Train/yolov7tiny/utils\n",
            "copying modoptima/Train/yolov7tiny/utils/datasets.py -> build/lib/modoptima/Train/yolov7tiny/utils\n",
            "copying modoptima/Train/yolov7tiny/utils/google_utils.py -> build/lib/modoptima/Train/yolov7tiny/utils\n",
            "copying modoptima/Train/yolov7tiny/utils/loss.py -> build/lib/modoptima/Train/yolov7tiny/utils\n",
            "copying modoptima/Train/yolov7tiny/utils/general.py -> build/lib/modoptima/Train/yolov7tiny/utils\n",
            "copying modoptima/Train/yolov7tiny/utils/__init__.py -> build/lib/modoptima/Train/yolov7tiny/utils\n",
            "copying modoptima/Train/yolov7tiny/utils/add_nms.py -> build/lib/modoptima/Train/yolov7tiny/utils\n",
            "creating build/lib/modoptima/Train/yolov7tiny/utils/wandb_logging\n",
            "copying modoptima/Train/yolov7tiny/utils/wandb_logging/wandb_utils.py -> build/lib/modoptima/Train/yolov7tiny/utils/wandb_logging\n",
            "copying modoptima/Train/yolov7tiny/utils/wandb_logging/log_dataset.py -> build/lib/modoptima/Train/yolov7tiny/utils/wandb_logging\n",
            "copying modoptima/Train/yolov7tiny/utils/wandb_logging/__init__.py -> build/lib/modoptima/Train/yolov7tiny/utils/wandb_logging\n",
            "copying modoptima/Train/yolov7tiny/data/yolor-csp.yaml -> build/lib/modoptima/Train/yolov7tiny/data\n",
            "copying modoptima/Train/yolov7tiny/data/yolor-d6.yaml -> build/lib/modoptima/Train/yolov7tiny/data\n",
            "copying modoptima/Train/yolov7tiny/data/hyp.scratch.p6.yaml -> build/lib/modoptima/Train/yolov7tiny/data\n",
            "copying modoptima/Train/yolov7tiny/data/yolov7.yaml -> build/lib/modoptima/Train/yolov7tiny/data\n",
            "copying modoptima/Train/yolov7tiny/data/yolov7_tiny_pruned_ver2_quantized.md -> build/lib/modoptima/Train/yolov7tiny/data\n",
            "copying modoptima/Train/yolov7tiny/data/r50-csp.yaml -> build/lib/modoptima/Train/yolov7tiny/data\n",
            "copying modoptima/Train/yolov7tiny/data/yolor-w6.yaml -> build/lib/modoptima/Train/yolov7tiny/data\n",
            "copying modoptima/Train/yolov7tiny/data/coco.yaml -> build/lib/modoptima/Train/yolov7tiny/data\n",
            "copying modoptima/Train/yolov7tiny/data/yolov7-e6e.yaml -> build/lib/modoptima/Train/yolov7tiny/data\n",
            "copying modoptima/Train/yolov7tiny/data/yolov7-d6.yaml -> build/lib/modoptima/Train/yolov7tiny/data\n",
            "copying modoptima/Train/yolov7tiny/data/hyp.scratch.custom.yaml -> build/lib/modoptima/Train/yolov7tiny/data\n",
            "copying modoptima/Train/yolov7tiny/data/yolov7_tiny_pruned_ver2.md -> build/lib/modoptima/Train/yolov7tiny/data\n",
            "copying modoptima/Train/yolov7tiny/data/yolov7_tiny_pruned_quantized_recipe_base.md -> build/lib/modoptima/Train/yolov7tiny/data\n",
            "copying modoptima/Train/yolov7tiny/data/yolov3-spp.yaml -> build/lib/modoptima/Train/yolov7tiny/data\n",
            "copying modoptima/Train/yolov7tiny/data/yolor-e6.yaml -> build/lib/modoptima/Train/yolov7tiny/data\n",
            "copying modoptima/Train/yolov7tiny/data/x50-csp.yaml -> build/lib/modoptima/Train/yolov7tiny/data\n",
            "copying modoptima/Train/yolov7tiny/data/yolov3.yaml -> build/lib/modoptima/Train/yolov7tiny/data\n",
            "copying modoptima/Train/yolov7tiny/data/yolor-csp-x.yaml -> build/lib/modoptima/Train/yolov7tiny/data\n",
            "copying modoptima/Train/yolov7tiny/data/yolov4-csp.yaml -> build/lib/modoptima/Train/yolov7tiny/data\n",
            "copying modoptima/Train/yolov7tiny/data/yolov7x.yaml -> build/lib/modoptima/Train/yolov7tiny/data\n",
            "copying modoptima/Train/yolov7tiny/data/yolov7_tiny_pruned_quantized_recipe.md -> build/lib/modoptima/Train/yolov7tiny/data\n",
            "copying modoptima/Train/yolov7tiny/data/yolor-p6.yaml -> build/lib/modoptima/Train/yolov7tiny/data\n",
            "copying modoptima/Train/yolov7tiny/data/hyp.scratch.p5.yaml -> build/lib/modoptima/Train/yolov7tiny/data\n",
            "copying modoptima/Train/yolov7tiny/data/yolov7-e6.yaml -> build/lib/modoptima/Train/yolov7tiny/data\n",
            "copying modoptima/Train/yolov7tiny/data/yolov7_tiny_pruned_ver2_base.md -> build/lib/modoptima/Train/yolov7tiny/data\n",
            "copying modoptima/Train/yolov7tiny/data/yolov7-w6.yaml -> build/lib/modoptima/Train/yolov7tiny/data\n",
            "copying modoptima/Train/yolov7tiny/data/yolov7-tiny.yaml -> build/lib/modoptima/Train/yolov7tiny/data\n",
            "copying modoptima/Train/yolov7tiny/data/hyp.scratch.tiny.yaml -> build/lib/modoptima/Train/yolov7tiny/data\n",
            "copying modoptima/Train/yolov7tiny/requirements.txt -> build/lib/modoptima/Train/yolov7tiny\n",
            "creating build/bdist.linux-x86_64\n",
            "creating build/bdist.linux-x86_64/egg\n",
            "creating build/bdist.linux-x86_64/egg/modoptima\n",
            "creating build/bdist.linux-x86_64/egg/modoptima/Train\n",
            "creating build/bdist.linux-x86_64/egg/modoptima/Train/yolov7tiny\n",
            "creating build/bdist.linux-x86_64/egg/modoptima/Train/yolov7tiny/models\n",
            "copying build/lib/modoptima/Train/yolov7tiny/models/experimental.py -> build/bdist.linux-x86_64/egg/modoptima/Train/yolov7tiny/models\n",
            "copying build/lib/modoptima/Train/yolov7tiny/models/yolo.py -> build/bdist.linux-x86_64/egg/modoptima/Train/yolov7tiny/models\n",
            "copying build/lib/modoptima/Train/yolov7tiny/models/common.py -> build/bdist.linux-x86_64/egg/modoptima/Train/yolov7tiny/models\n",
            "copying build/lib/modoptima/Train/yolov7tiny/models/__init__.py -> build/bdist.linux-x86_64/egg/modoptima/Train/yolov7tiny/models\n",
            "copying build/lib/modoptima/Train/yolov7tiny/tester.py -> build/bdist.linux-x86_64/egg/modoptima/Train/yolov7tiny\n",
            "copying build/lib/modoptima/Train/yolov7tiny/requirements.txt -> build/bdist.linux-x86_64/egg/modoptima/Train/yolov7tiny\n",
            "copying build/lib/modoptima/Train/yolov7tiny/Trainer.py -> build/bdist.linux-x86_64/egg/modoptima/Train/yolov7tiny\n",
            "creating build/bdist.linux-x86_64/egg/modoptima/Train/yolov7tiny/data\n",
            "copying build/lib/modoptima/Train/yolov7tiny/data/yolor-csp.yaml -> build/bdist.linux-x86_64/egg/modoptima/Train/yolov7tiny/data\n",
            "copying build/lib/modoptima/Train/yolov7tiny/data/yolor-d6.yaml -> build/bdist.linux-x86_64/egg/modoptima/Train/yolov7tiny/data\n",
            "copying build/lib/modoptima/Train/yolov7tiny/data/hyp.scratch.p6.yaml -> build/bdist.linux-x86_64/egg/modoptima/Train/yolov7tiny/data\n",
            "copying build/lib/modoptima/Train/yolov7tiny/data/yolov7.yaml -> build/bdist.linux-x86_64/egg/modoptima/Train/yolov7tiny/data\n",
            "copying build/lib/modoptima/Train/yolov7tiny/data/yolov7_tiny_pruned_ver2_quantized.md -> build/bdist.linux-x86_64/egg/modoptima/Train/yolov7tiny/data\n",
            "copying build/lib/modoptima/Train/yolov7tiny/data/r50-csp.yaml -> build/bdist.linux-x86_64/egg/modoptima/Train/yolov7tiny/data\n",
            "copying build/lib/modoptima/Train/yolov7tiny/data/yolor-w6.yaml -> build/bdist.linux-x86_64/egg/modoptima/Train/yolov7tiny/data\n",
            "copying build/lib/modoptima/Train/yolov7tiny/data/coco.yaml -> build/bdist.linux-x86_64/egg/modoptima/Train/yolov7tiny/data\n",
            "copying build/lib/modoptima/Train/yolov7tiny/data/yolov7-e6e.yaml -> build/bdist.linux-x86_64/egg/modoptima/Train/yolov7tiny/data\n",
            "copying build/lib/modoptima/Train/yolov7tiny/data/yolov7-d6.yaml -> build/bdist.linux-x86_64/egg/modoptima/Train/yolov7tiny/data\n",
            "copying build/lib/modoptima/Train/yolov7tiny/data/hyp.scratch.custom.yaml -> build/bdist.linux-x86_64/egg/modoptima/Train/yolov7tiny/data\n",
            "copying build/lib/modoptima/Train/yolov7tiny/data/yolov7_tiny_pruned_ver2.md -> build/bdist.linux-x86_64/egg/modoptima/Train/yolov7tiny/data\n",
            "copying build/lib/modoptima/Train/yolov7tiny/data/yolov7_tiny_pruned_quantized_recipe_base.md -> build/bdist.linux-x86_64/egg/modoptima/Train/yolov7tiny/data\n",
            "copying build/lib/modoptima/Train/yolov7tiny/data/yolov3-spp.yaml -> build/bdist.linux-x86_64/egg/modoptima/Train/yolov7tiny/data\n",
            "copying build/lib/modoptima/Train/yolov7tiny/data/yolor-e6.yaml -> build/bdist.linux-x86_64/egg/modoptima/Train/yolov7tiny/data\n",
            "copying build/lib/modoptima/Train/yolov7tiny/data/x50-csp.yaml -> build/bdist.linux-x86_64/egg/modoptima/Train/yolov7tiny/data\n",
            "copying build/lib/modoptima/Train/yolov7tiny/data/yolov3.yaml -> build/bdist.linux-x86_64/egg/modoptima/Train/yolov7tiny/data\n",
            "copying build/lib/modoptima/Train/yolov7tiny/data/yolor-csp-x.yaml -> build/bdist.linux-x86_64/egg/modoptima/Train/yolov7tiny/data\n",
            "copying build/lib/modoptima/Train/yolov7tiny/data/yolov4-csp.yaml -> build/bdist.linux-x86_64/egg/modoptima/Train/yolov7tiny/data\n",
            "copying build/lib/modoptima/Train/yolov7tiny/data/yolov7x.yaml -> build/bdist.linux-x86_64/egg/modoptima/Train/yolov7tiny/data\n",
            "copying build/lib/modoptima/Train/yolov7tiny/data/yolov7_tiny_pruned_quantized_recipe.md -> build/bdist.linux-x86_64/egg/modoptima/Train/yolov7tiny/data\n",
            "copying build/lib/modoptima/Train/yolov7tiny/data/yolor-p6.yaml -> build/bdist.linux-x86_64/egg/modoptima/Train/yolov7tiny/data\n",
            "copying build/lib/modoptima/Train/yolov7tiny/data/hyp.scratch.p5.yaml -> build/bdist.linux-x86_64/egg/modoptima/Train/yolov7tiny/data\n",
            "copying build/lib/modoptima/Train/yolov7tiny/data/yolov7-e6.yaml -> build/bdist.linux-x86_64/egg/modoptima/Train/yolov7tiny/data\n",
            "copying build/lib/modoptima/Train/yolov7tiny/data/yolov7_tiny_pruned_ver2_base.md -> build/bdist.linux-x86_64/egg/modoptima/Train/yolov7tiny/data\n",
            "copying build/lib/modoptima/Train/yolov7tiny/data/yolov7-w6.yaml -> build/bdist.linux-x86_64/egg/modoptima/Train/yolov7tiny/data\n",
            "copying build/lib/modoptima/Train/yolov7tiny/data/__init__.py -> build/bdist.linux-x86_64/egg/modoptima/Train/yolov7tiny/data\n",
            "copying build/lib/modoptima/Train/yolov7tiny/data/yolov7-tiny.yaml -> build/bdist.linux-x86_64/egg/modoptima/Train/yolov7tiny/data\n",
            "copying build/lib/modoptima/Train/yolov7tiny/data/hyp.scratch.tiny.yaml -> build/bdist.linux-x86_64/egg/modoptima/Train/yolov7tiny/data\n",
            "creating build/bdist.linux-x86_64/egg/modoptima/Train/yolov7tiny/utils\n",
            "copying build/lib/modoptima/Train/yolov7tiny/utils/metrics.py -> build/bdist.linux-x86_64/egg/modoptima/Train/yolov7tiny/utils\n",
            "copying build/lib/modoptima/Train/yolov7tiny/utils/sparse.py -> build/bdist.linux-x86_64/egg/modoptima/Train/yolov7tiny/utils\n",
            "creating build/bdist.linux-x86_64/egg/modoptima/Train/yolov7tiny/utils/wandb_logging\n",
            "copying build/lib/modoptima/Train/yolov7tiny/utils/wandb_logging/wandb_utils.py -> build/bdist.linux-x86_64/egg/modoptima/Train/yolov7tiny/utils/wandb_logging\n",
            "copying build/lib/modoptima/Train/yolov7tiny/utils/wandb_logging/log_dataset.py -> build/bdist.linux-x86_64/egg/modoptima/Train/yolov7tiny/utils/wandb_logging\n",
            "copying build/lib/modoptima/Train/yolov7tiny/utils/wandb_logging/__init__.py -> build/bdist.linux-x86_64/egg/modoptima/Train/yolov7tiny/utils/wandb_logging\n",
            "copying build/lib/modoptima/Train/yolov7tiny/utils/plots.py -> build/bdist.linux-x86_64/egg/modoptima/Train/yolov7tiny/utils\n",
            "copying build/lib/modoptima/Train/yolov7tiny/utils/activations.py -> build/bdist.linux-x86_64/egg/modoptima/Train/yolov7tiny/utils\n",
            "copying build/lib/modoptima/Train/yolov7tiny/utils/autoanchor.py -> build/bdist.linux-x86_64/egg/modoptima/Train/yolov7tiny/utils\n",
            "copying build/lib/modoptima/Train/yolov7tiny/utils/torch_utils.py -> build/bdist.linux-x86_64/egg/modoptima/Train/yolov7tiny/utils\n",
            "copying build/lib/modoptima/Train/yolov7tiny/utils/datasets.py -> build/bdist.linux-x86_64/egg/modoptima/Train/yolov7tiny/utils\n",
            "copying build/lib/modoptima/Train/yolov7tiny/utils/google_utils.py -> build/bdist.linux-x86_64/egg/modoptima/Train/yolov7tiny/utils\n",
            "copying build/lib/modoptima/Train/yolov7tiny/utils/loss.py -> build/bdist.linux-x86_64/egg/modoptima/Train/yolov7tiny/utils\n",
            "copying build/lib/modoptima/Train/yolov7tiny/utils/general.py -> build/bdist.linux-x86_64/egg/modoptima/Train/yolov7tiny/utils\n",
            "copying build/lib/modoptima/Train/yolov7tiny/utils/__init__.py -> build/bdist.linux-x86_64/egg/modoptima/Train/yolov7tiny/utils\n",
            "copying build/lib/modoptima/Train/yolov7tiny/utils/add_nms.py -> build/bdist.linux-x86_64/egg/modoptima/Train/yolov7tiny/utils\n",
            "copying build/lib/modoptima/Train/yolov7tiny/hubconf.py -> build/bdist.linux-x86_64/egg/modoptima/Train/yolov7tiny\n",
            "copying build/lib/modoptima/Train/yolov7tiny/detect.py -> build/bdist.linux-x86_64/egg/modoptima/Train/yolov7tiny\n",
            "copying build/lib/modoptima/Train/yolov7tiny/__init__.py -> build/bdist.linux-x86_64/egg/modoptima/Train/yolov7tiny\n",
            "copying build/lib/modoptima/Train/__init__.py -> build/bdist.linux-x86_64/egg/modoptima/Train\n",
            "copying build/lib/modoptima/MasterTrainer.py -> build/bdist.linux-x86_64/egg/modoptima\n",
            "copying build/lib/modoptima/___init__.py -> build/bdist.linux-x86_64/egg/modoptima\n",
            "copying build/lib/modoptima/MasterInferencer.py -> build/bdist.linux-x86_64/egg/modoptima\n",
            "byte-compiling build/bdist.linux-x86_64/egg/modoptima/Train/yolov7tiny/models/experimental.py to experimental.cpython-38.pyc\n",
            "byte-compiling build/bdist.linux-x86_64/egg/modoptima/Train/yolov7tiny/models/yolo.py to yolo.cpython-38.pyc\n",
            "byte-compiling build/bdist.linux-x86_64/egg/modoptima/Train/yolov7tiny/models/common.py to common.cpython-38.pyc\n",
            "byte-compiling build/bdist.linux-x86_64/egg/modoptima/Train/yolov7tiny/models/__init__.py to __init__.cpython-38.pyc\n",
            "byte-compiling build/bdist.linux-x86_64/egg/modoptima/Train/yolov7tiny/tester.py to tester.cpython-38.pyc\n",
            "byte-compiling build/bdist.linux-x86_64/egg/modoptima/Train/yolov7tiny/Trainer.py to Trainer.cpython-38.pyc\n",
            "byte-compiling build/bdist.linux-x86_64/egg/modoptima/Train/yolov7tiny/data/__init__.py to __init__.cpython-38.pyc\n",
            "byte-compiling build/bdist.linux-x86_64/egg/modoptima/Train/yolov7tiny/utils/metrics.py to metrics.cpython-38.pyc\n",
            "byte-compiling build/bdist.linux-x86_64/egg/modoptima/Train/yolov7tiny/utils/sparse.py to sparse.cpython-38.pyc\n",
            "byte-compiling build/bdist.linux-x86_64/egg/modoptima/Train/yolov7tiny/utils/wandb_logging/wandb_utils.py to wandb_utils.cpython-38.pyc\n",
            "byte-compiling build/bdist.linux-x86_64/egg/modoptima/Train/yolov7tiny/utils/wandb_logging/log_dataset.py to log_dataset.cpython-38.pyc\n",
            "byte-compiling build/bdist.linux-x86_64/egg/modoptima/Train/yolov7tiny/utils/wandb_logging/__init__.py to __init__.cpython-38.pyc\n",
            "byte-compiling build/bdist.linux-x86_64/egg/modoptima/Train/yolov7tiny/utils/plots.py to plots.cpython-38.pyc\n",
            "byte-compiling build/bdist.linux-x86_64/egg/modoptima/Train/yolov7tiny/utils/activations.py to activations.cpython-38.pyc\n",
            "byte-compiling build/bdist.linux-x86_64/egg/modoptima/Train/yolov7tiny/utils/autoanchor.py to autoanchor.cpython-38.pyc\n",
            "byte-compiling build/bdist.linux-x86_64/egg/modoptima/Train/yolov7tiny/utils/torch_utils.py to torch_utils.cpython-38.pyc\n",
            "byte-compiling build/bdist.linux-x86_64/egg/modoptima/Train/yolov7tiny/utils/datasets.py to datasets.cpython-38.pyc\n",
            "byte-compiling build/bdist.linux-x86_64/egg/modoptima/Train/yolov7tiny/utils/google_utils.py to google_utils.cpython-38.pyc\n",
            "byte-compiling build/bdist.linux-x86_64/egg/modoptima/Train/yolov7tiny/utils/loss.py to loss.cpython-38.pyc\n",
            "byte-compiling build/bdist.linux-x86_64/egg/modoptima/Train/yolov7tiny/utils/general.py to general.cpython-38.pyc\n",
            "byte-compiling build/bdist.linux-x86_64/egg/modoptima/Train/yolov7tiny/utils/__init__.py to __init__.cpython-38.pyc\n",
            "byte-compiling build/bdist.linux-x86_64/egg/modoptima/Train/yolov7tiny/utils/add_nms.py to add_nms.cpython-38.pyc\n",
            "byte-compiling build/bdist.linux-x86_64/egg/modoptima/Train/yolov7tiny/hubconf.py to hubconf.cpython-38.pyc\n",
            "byte-compiling build/bdist.linux-x86_64/egg/modoptima/Train/yolov7tiny/detect.py to detect.cpython-38.pyc\n",
            "byte-compiling build/bdist.linux-x86_64/egg/modoptima/Train/yolov7tiny/__init__.py to __init__.cpython-38.pyc\n",
            "byte-compiling build/bdist.linux-x86_64/egg/modoptima/Train/__init__.py to __init__.cpython-38.pyc\n",
            "byte-compiling build/bdist.linux-x86_64/egg/modoptima/MasterTrainer.py to MasterTrainer.cpython-38.pyc\n",
            "byte-compiling build/bdist.linux-x86_64/egg/modoptima/___init__.py to ___init__.cpython-38.pyc\n",
            "byte-compiling build/bdist.linux-x86_64/egg/modoptima/MasterInferencer.py to MasterInferencer.cpython-38.pyc\n",
            "creating build/bdist.linux-x86_64/egg/EGG-INFO\n",
            "copying modoptima.egg-info/PKG-INFO -> build/bdist.linux-x86_64/egg/EGG-INFO\n",
            "copying modoptima.egg-info/SOURCES.txt -> build/bdist.linux-x86_64/egg/EGG-INFO\n",
            "copying modoptima.egg-info/dependency_links.txt -> build/bdist.linux-x86_64/egg/EGG-INFO\n",
            "copying modoptima.egg-info/requires.txt -> build/bdist.linux-x86_64/egg/EGG-INFO\n",
            "copying modoptima.egg-info/top_level.txt -> build/bdist.linux-x86_64/egg/EGG-INFO\n",
            "zip_safe flag not set; analyzing archive contents...\n",
            "modoptima.Train.yolov7tiny.__pycache__.hubconf.cpython-38: module references __file__\n",
            "modoptima.Train.yolov7tiny.utils.__pycache__.torch_utils.cpython-38: module references __file__\n",
            "creating dist\n",
            "creating 'dist/modoptima-0.1.0-py3.8.egg' and adding 'build/bdist.linux-x86_64/egg' to it\n",
            "removing 'build/bdist.linux-x86_64/egg' (and everything under it)\n",
            "Processing modoptima-0.1.0-py3.8.egg\n",
            "creating /usr/local/lib/python3.8/dist-packages/modoptima-0.1.0-py3.8.egg\n",
            "Extracting modoptima-0.1.0-py3.8.egg to /usr/local/lib/python3.8/dist-packages\n",
            "Adding modoptima 0.1.0 to easy-install.pth file\n",
            "\n",
            "Installed /usr/local/lib/python3.8/dist-packages/modoptima-0.1.0-py3.8.egg\n",
            "Processing dependencies for modoptima==0.1.0\n",
            "Searching for onnxruntime\n",
            "Reading https://pypi.org/simple/onnxruntime/\n",
            "Downloading https://files.pythonhosted.org/packages/6c/df/75e9f842a8ff1e51f6f0cbc7bd6a84cc4855b8b6c1f6a138bb73b6a20e60/onnxruntime-1.13.1-cp38-cp38-manylinux_2_17_x86_64.manylinux2014_x86_64.whl#sha256=a436eb49c488ef01b4bd42ecad0a363ebf32ea7af3daa3a9e1cc35fdb8a8ad01\n",
            "Best match: onnxruntime 1.13.1\n",
            "Processing onnxruntime-1.13.1-cp38-cp38-manylinux_2_17_x86_64.manylinux2014_x86_64.whl\n",
            "Installing onnxruntime-1.13.1-cp38-cp38-manylinux_2_17_x86_64.manylinux2014_x86_64.whl to /usr/local/lib/python3.8/dist-packages\n",
            "Adding onnxruntime 1.13.1 to easy-install.pth file\n",
            "Installing onnxruntime_test script to /usr/local/bin\n",
            "\n",
            "Installed /usr/local/lib/python3.8/dist-packages/onnxruntime-1.13.1-py3.8-linux-x86_64.egg\n",
            "Searching for sparseml\n",
            "Reading https://pypi.org/simple/sparseml/\n",
            "Downloading https://files.pythonhosted.org/packages/c0/21/a6400acfa266583d2dd09f28ba583675197f95fe61373c9a06e0d5b5e80b/sparseml-1.3.1-py3-none-any.whl#sha256=d738e3196ae35da77030953a83a57b0e9c393338ee31f884b6aaf6c76a5e1cdc\n",
            "Best match: sparseml 1.3.1\n",
            "Processing sparseml-1.3.1-py3-none-any.whl\n",
            "Installing sparseml-1.3.1-py3-none-any.whl to /usr/local/lib/python3.8/dist-packages\n",
            "Adding sparseml 1.3.1 to easy-install.pth file\n",
            "Installing sparseml.benchmark script to /usr/local/bin\n",
            "Installing sparseml.framework script to /usr/local/bin\n",
            "Installing sparseml.image_classification.export_onnx script to /usr/local/bin\n",
            "Installing sparseml.image_classification.train script to /usr/local/bin\n",
            "Installing sparseml.pytorch.image_classification.export_onnx script to /usr/local/bin\n",
            "Installing sparseml.pytorch.image_classification.lr_analysis script to /usr/local/bin\n",
            "Installing sparseml.pytorch.image_classification.pr_sensitivity script to /usr/local/bin\n",
            "Installing sparseml.pytorch.image_classification.train script to /usr/local/bin\n",
            "Installing sparseml.recipe_template script to /usr/local/bin\n",
            "Installing sparseml.sparsification script to /usr/local/bin\n",
            "Installing sparseml.transformers.export_onnx script to /usr/local/bin\n",
            "Installing sparseml.transformers.masked_language_modeling script to /usr/local/bin\n",
            "Installing sparseml.transformers.question_answering script to /usr/local/bin\n",
            "Installing sparseml.transformers.text_classification script to /usr/local/bin\n",
            "Installing sparseml.transformers.token_classification script to /usr/local/bin\n",
            "Installing sparseml.transformers.train.masked_language_modeling script to /usr/local/bin\n",
            "Installing sparseml.transformers.train.question_answering script to /usr/local/bin\n",
            "Installing sparseml.transformers.train.text_classification script to /usr/local/bin\n",
            "Installing sparseml.transformers.train.token_classification script to /usr/local/bin\n",
            "Installing sparseml.yolact.download script to /usr/local/bin\n",
            "Installing sparseml.yolact.export_onnx script to /usr/local/bin\n",
            "Installing sparseml.yolact.train script to /usr/local/bin\n",
            "Installing sparseml.yolact.validation script to /usr/local/bin\n",
            "Installing sparseml.yolov5.export_onnx script to /usr/local/bin\n",
            "Installing sparseml.yolov5.train script to /usr/local/bin\n",
            "Installing sparseml.yolov5.val_onnx script to /usr/local/bin\n",
            "Installing sparseml.yolov5.validation script to /usr/local/bin\n",
            "\n",
            "Installed /usr/local/lib/python3.8/dist-packages/sparseml-1.3.1-py3.8.egg\n",
            "Searching for coloredlogs\n",
            "Reading https://pypi.org/simple/coloredlogs/\n",
            "Downloading https://files.pythonhosted.org/packages/a7/06/3d6badcf13db419e25b07041d9c7b4a2c331d3f4e7134445ec5df57714cd/coloredlogs-15.0.1-py2.py3-none-any.whl#sha256=612ee75c546f53e92e70049c9dbfcc18c935a2b9a53b66085ce9ef6a6e5c0934\n",
            "Best match: coloredlogs 15.0.1\n",
            "Processing coloredlogs-15.0.1-py2.py3-none-any.whl\n",
            "Installing coloredlogs-15.0.1-py2.py3-none-any.whl to /usr/local/lib/python3.8/dist-packages\n",
            "Adding coloredlogs 15.0.1 to easy-install.pth file\n",
            "Installing coloredlogs script to /usr/local/bin\n",
            "\n",
            "Installed /usr/local/lib/python3.8/dist-packages/coloredlogs-15.0.1-py3.8.egg\n",
            "Searching for toposort>=1.0\n",
            "Reading https://pypi.org/simple/toposort/\n",
            "Downloading https://files.pythonhosted.org/packages/ba/d8/494820a2dc0c03ea8594011b9dac352125c0bd26d5d9db5852fb1663d4b1/toposort-1.9-py3-none-any.whl#sha256=9f434c815e1bd2f9ad05152b6b0071b1f56e288c107869708f2463ec932e2637\n",
            "Best match: toposort 1.9\n",
            "Processing toposort-1.9-py3-none-any.whl\n",
            "Installing toposort-1.9-py3-none-any.whl to /usr/local/lib/python3.8/dist-packages\n",
            "Adding toposort 1.9 to easy-install.pth file\n",
            "\n",
            "Installed /usr/local/lib/python3.8/dist-packages/toposort-1.9-py3.8.egg\n",
            "Searching for merge-args>=0.1.0\n",
            "Reading https://pypi.org/simple/merge-args/\n",
            "Downloading https://files.pythonhosted.org/packages/84/dd/8b9bf1b36927707ae04ec6f8e63f36cdce8c32cea2ed3ecffb04565264d0/merge_args-0.1.5-py2.py3-none-any.whl#sha256=f296a2dd9156dd055e3f540f0fb5784b94933457a4e0e8d0031a763c26bf24a8\n",
            "Best match: merge-args 0.1.5\n",
            "Processing merge_args-0.1.5-py2.py3-none-any.whl\n",
            "Installing merge_args-0.1.5-py2.py3-none-any.whl to /usr/local/lib/python3.8/dist-packages\n",
            "Adding merge-args 0.1.5 to easy-install.pth file\n",
            "\n",
            "Installed /usr/local/lib/python3.8/dist-packages/merge_args-0.1.5-py3.8.egg\n",
            "Searching for jupyter>=1.0.0\n",
            "Reading https://pypi.org/simple/jupyter/\n",
            "Downloading https://files.pythonhosted.org/packages/83/df/0f5dd132200728a86190397e1ea87cd76244e42d39ec5e88efd25b2abd7e/jupyter-1.0.0-py2.py3-none-any.whl#sha256=5b290f93b98ffbc21c0c7e749f054b3267782166d72fa5e3ed1ed4eaf34a2b78\n",
            "Best match: jupyter 1.0.0\n",
            "Processing jupyter-1.0.0-py2.py3-none-any.whl\n",
            "Installing jupyter-1.0.0-py2.py3-none-any.whl to /usr/local/lib/python3.8/dist-packages\n",
            "Adding jupyter 1.0.0 to easy-install.pth file\n",
            "\n",
            "Installed /usr/local/lib/python3.8/dist-packages/jupyter-1.0.0-py3.8.egg\n",
            "Searching for GPUtil>=1.4.0\n",
            "Reading https://pypi.org/simple/GPUtil/\n",
            "Downloading https://files.pythonhosted.org/packages/ed/0e/5c61eedde9f6c87713e89d794f01e378cfd9565847d4576fa627d758c554/GPUtil-1.4.0.tar.gz#sha256=099e52c65e512cdfa8c8763fca67f5a5c2afb63469602d5dcb4d296b3661efb9\n",
            "Best match: GPUtil 1.4.0\n",
            "Processing GPUtil-1.4.0.tar.gz\n",
            "Writing /tmp/easy_install-xm4nej62/GPUtil-1.4.0/setup.cfg\n",
            "Running GPUtil-1.4.0/setup.py -q bdist_egg --dist-dir /tmp/easy_install-xm4nej62/GPUtil-1.4.0/egg-dist-tmp-rozzgxw_\n",
            "/usr/local/lib/python3.8/dist-packages/setuptools/dist.py:697: UserWarning: Usage of dash-separated 'description-file' will not be supported in future versions. Please use the underscore name 'description_file' instead\n",
            "  warnings.warn(\n",
            "zip_safe flag not set; analyzing archive contents...\n",
            "Moving GPUtil-1.4.0-py3.8.egg to /usr/local/lib/python3.8/dist-packages\n",
            "Adding GPUtil 1.4.0 to easy-install.pth file\n",
            "\n",
            "Installed /usr/local/lib/python3.8/dist-packages/GPUtil-1.4.0-py3.8.egg\n",
            "Searching for humanfriendly>=9.1\n",
            "Reading https://pypi.org/simple/humanfriendly/\n",
            "Downloading https://files.pythonhosted.org/packages/f0/0f/310fb31e39e2d734ccaa2c0fb981ee41f7bd5056ce9bc29b2248bd569169/humanfriendly-10.0-py2.py3-none-any.whl#sha256=1697e1a8a8f550fd43c2865cd84542fc175a61dcb779b6fee18cf6b6ccba1477\n",
            "Best match: humanfriendly 10.0\n",
            "Processing humanfriendly-10.0-py2.py3-none-any.whl\n",
            "Installing humanfriendly-10.0-py2.py3-none-any.whl to /usr/local/lib/python3.8/dist-packages\n",
            "Adding humanfriendly 10.0 to easy-install.pth file\n",
            "Installing humanfriendly script to /usr/local/bin\n",
            "\n",
            "Installed /usr/local/lib/python3.8/dist-packages/humanfriendly-10.0-py3.8.egg\n",
            "Searching for qtconsole\n",
            "Reading https://pypi.org/simple/qtconsole/\n",
            "Downloading https://files.pythonhosted.org/packages/cc/00/4133199dc738e7f497385af86e619f5c29592aaa4c1731fbbc3ec7bb7080/qtconsole-5.4.0-py3-none-any.whl#sha256=be13560c19bdb3b54ed9741a915aa701a68d424519e8341ac479a91209e694b2\n",
            "Best match: qtconsole 5.4.0\n",
            "Processing qtconsole-5.4.0-py3-none-any.whl\n",
            "Installing qtconsole-5.4.0-py3-none-any.whl to /usr/local/lib/python3.8/dist-packages\n",
            "Adding qtconsole 5.4.0 to easy-install.pth file\n",
            "Installing jupyter-qtconsole script to /usr/local/bin\n",
            "\n",
            "Installed /usr/local/lib/python3.8/dist-packages/qtconsole-5.4.0-py3.8.egg\n",
            "Searching for qtpy>=2.0.1\n",
            "Reading https://pypi.org/simple/qtpy/\n",
            "Downloading https://files.pythonhosted.org/packages/ca/56/3dfbcf8a6808d2b3566b75759c48a281bcdc2b9547760e5d044e6ec7e33b/QtPy-2.3.0-py3-none-any.whl#sha256=8d6d544fc20facd27360ea189592e6135c614785f0dec0b4f083289de6beb408\n",
            "Best match: QtPy 2.3.0\n",
            "Processing QtPy-2.3.0-py3-none-any.whl\n",
            "Installing QtPy-2.3.0-py3-none-any.whl to /usr/local/lib/python3.8/dist-packages\n",
            "Adding QtPy 2.3.0 to easy-install.pth file\n",
            "Installing qtpy script to /usr/local/bin\n",
            "\n",
            "Installed /usr/local/lib/python3.8/dist-packages/QtPy-2.3.0-py3.8.egg\n",
            "Searching for jedi>=0.10\n",
            "Reading https://pypi.org/simple/jedi/\n",
            "Downloading https://files.pythonhosted.org/packages/6d/60/4acda63286ef6023515eb914543ba36496b8929cb7af49ecce63afde09c6/jedi-0.18.2-py2.py3-none-any.whl#sha256=203c1fd9d969ab8f2119ec0a3342e0b49910045abe6af0a3ae83a5764d54639e\n",
            "Best match: jedi 0.18.2\n",
            "Processing jedi-0.18.2-py2.py3-none-any.whl\n",
            "Installing jedi-0.18.2-py2.py3-none-any.whl to /usr/local/lib/python3.8/dist-packages\n",
            "Adding jedi 0.18.2 to easy-install.pth file\n",
            "\n",
            "Installed /usr/local/lib/python3.8/dist-packages/jedi-0.18.2-py3.8.egg\n",
            "Searching for tqdm==4.64.1\n",
            "Best match: tqdm 4.64.1\n",
            "Adding tqdm 4.64.1 to easy-install.pth file\n",
            "Installing tqdm script to /usr/local/bin\n",
            "\n",
            "Using /usr/local/lib/python3.8/dist-packages\n",
            "Searching for onnx==1.12.0\n",
            "Best match: onnx 1.12.0\n",
            "Adding onnx 1.12.0 to easy-install.pth file\n",
            "Installing backend-test-tools script to /usr/local/bin\n",
            "Installing check-model script to /usr/local/bin\n",
            "Installing check-node script to /usr/local/bin\n",
            "\n",
            "Using /usr/local/lib/python3.8/dist-packages\n",
            "Searching for opencv-python==4.6.0.66\n",
            "Best match: opencv-python 4.6.0.66\n",
            "Adding opencv-python 4.6.0.66 to easy-install.pth file\n",
            "\n",
            "Using /usr/local/lib/python3.8/dist-packages\n",
            "Searching for numpy==1.21.6\n",
            "Best match: numpy 1.21.6\n",
            "Adding numpy 1.21.6 to easy-install.pth file\n",
            "Installing f2py script to /usr/local/bin\n",
            "Installing f2py3 script to /usr/local/bin\n",
            "Installing f2py3.8 script to /usr/local/bin\n",
            "\n",
            "Using /usr/local/lib/python3.8/dist-packages\n",
            "Searching for sympy==1.7.1\n",
            "Best match: sympy 1.7.1\n",
            "Adding sympy 1.7.1 to easy-install.pth file\n",
            "Installing isympy script to /usr/local/bin\n",
            "\n",
            "Using /usr/local/lib/python3.8/dist-packages\n",
            "Searching for protobuf==3.19.6\n",
            "Best match: protobuf 3.19.6\n",
            "Adding protobuf 3.19.6 to easy-install.pth file\n",
            "\n",
            "Using /usr/local/lib/python3.8/dist-packages\n",
            "Searching for packaging==21.3\n",
            "Best match: packaging 21.3\n",
            "Adding packaging 21.3 to easy-install.pth file\n",
            "\n",
            "Using /usr/local/lib/python3.8/dist-packages\n",
            "Searching for flatbuffers==1.12\n",
            "Best match: flatbuffers 1.12\n",
            "Adding flatbuffers 1.12 to easy-install.pth file\n",
            "\n",
            "Using /usr/local/lib/python3.8/dist-packages\n",
            "Searching for typing-extensions==4.4.0\n",
            "Best match: typing-extensions 4.4.0\n",
            "Adding typing-extensions 4.4.0 to easy-install.pth file\n",
            "\n",
            "Using /usr/local/lib/python3.8/dist-packages\n",
            "Searching for sparsezoo==1.3.1\n",
            "Best match: sparsezoo 1.3.1\n",
            "Adding sparsezoo 1.3.1 to easy-install.pth file\n",
            "Installing sparsezoo script to /usr/local/bin\n",
            "Installing sparsezoo.download script to /usr/local/bin\n",
            "\n",
            "Using /usr/local/lib/python3.8/dist-packages\n",
            "Searching for setuptools==57.4.0\n",
            "Best match: setuptools 57.4.0\n",
            "Adding setuptools 57.4.0 to easy-install.pth file\n",
            "\n",
            "Using /usr/local/lib/python3.8/dist-packages\n",
            "Searching for scipy==1.7.3\n",
            "Best match: scipy 1.7.3\n",
            "Adding scipy 1.7.3 to easy-install.pth file\n",
            "\n",
            "Using /usr/local/lib/python3.8/dist-packages\n",
            "Searching for scikit-learn==1.0.2\n",
            "Best match: scikit-learn 1.0.2\n",
            "Adding scikit-learn 1.0.2 to easy-install.pth file\n",
            "\n",
            "Using /usr/local/lib/python3.8/dist-packages\n",
            "Searching for scikit-image==0.18.3\n",
            "Best match: scikit-image 0.18.3\n",
            "Adding scikit-image 0.18.3 to easy-install.pth file\n",
            "Installing skivi script to /usr/local/bin\n",
            "\n",
            "Using /usr/local/lib/python3.8/dist-packages\n",
            "Searching for requests==2.25.1\n",
            "Best match: requests 2.25.1\n",
            "Adding requests 2.25.1 to easy-install.pth file\n",
            "\n",
            "Using /usr/local/lib/python3.8/dist-packages\n",
            "Searching for PyYAML==6.0\n",
            "Best match: PyYAML 6.0\n",
            "Adding PyYAML 6.0 to easy-install.pth file\n",
            "\n",
            "Using /usr/local/lib/python3.8/dist-packages\n",
            "Searching for pydantic==1.10.4\n",
            "Best match: pydantic 1.10.4\n",
            "Adding pydantic 1.10.4 to easy-install.pth file\n",
            "\n",
            "Using /usr/local/lib/python3.8/dist-packages\n",
            "Searching for psutil==5.4.8\n",
            "Best match: psutil 5.4.8\n",
            "Adding psutil 5.4.8 to easy-install.pth file\n",
            "\n",
            "Using /usr/local/lib/python3.8/dist-packages\n",
            "Searching for progressbar2==3.38.0\n",
            "Best match: progressbar2 3.38.0\n",
            "Adding progressbar2 3.38.0 to easy-install.pth file\n",
            "\n",
            "Using /usr/local/lib/python3.8/dist-packages\n",
            "Searching for pandas==1.3.5\n",
            "Best match: pandas 1.3.5\n",
            "Adding pandas 1.3.5 to easy-install.pth file\n",
            "\n",
            "Using /usr/local/lib/python3.8/dist-packages\n",
            "Searching for matplotlib==3.2.2\n",
            "Best match: matplotlib 3.2.2\n",
            "Adding matplotlib 3.2.2 to easy-install.pth file\n",
            "\n",
            "Using /usr/local/lib/python3.8/dist-packages\n",
            "Searching for ipywidgets==7.7.1\n",
            "Best match: ipywidgets 7.7.1\n",
            "Adding ipywidgets 7.7.1 to easy-install.pth file\n",
            "\n",
            "Using /usr/local/lib/python3.8/dist-packages\n",
            "Searching for click==8.0.4\n",
            "Best match: click 8.0.4\n",
            "Adding click 8.0.4 to easy-install.pth file\n",
            "\n",
            "Using /usr/local/lib/python3.8/dist-packages\n",
            "Searching for mpmath==1.2.1\n",
            "Best match: mpmath 1.2.1\n",
            "Adding mpmath 1.2.1 to easy-install.pth file\n",
            "\n",
            "Using /usr/local/lib/python3.8/dist-packages\n",
            "Searching for pyparsing==3.0.9\n",
            "Best match: pyparsing 3.0.9\n",
            "Adding pyparsing 3.0.9 to easy-install.pth file\n",
            "\n",
            "Using /usr/local/lib/python3.8/dist-packages\n",
            "Searching for joblib==1.2.0\n",
            "Best match: joblib 1.2.0\n",
            "Adding joblib 1.2.0 to easy-install.pth file\n",
            "\n",
            "Using /usr/local/lib/python3.8/dist-packages\n",
            "Searching for threadpoolctl==3.1.0\n",
            "Best match: threadpoolctl 3.1.0\n",
            "Adding threadpoolctl 3.1.0 to easy-install.pth file\n",
            "\n",
            "Using /usr/local/lib/python3.8/dist-packages\n",
            "Searching for imageio==2.9.0\n",
            "Best match: imageio 2.9.0\n",
            "Adding imageio 2.9.0 to easy-install.pth file\n",
            "Installing imageio_download_bin script to /usr/local/bin\n",
            "Installing imageio_remove_bin script to /usr/local/bin\n",
            "\n",
            "Using /usr/local/lib/python3.8/dist-packages\n",
            "Searching for networkx==3.0\n",
            "Best match: networkx 3.0\n",
            "Adding networkx 3.0 to easy-install.pth file\n",
            "\n",
            "Using /usr/local/lib/python3.8/dist-packages\n",
            "Searching for PyWavelets==1.4.1\n",
            "Best match: PyWavelets 1.4.1\n",
            "Adding PyWavelets 1.4.1 to easy-install.pth file\n",
            "\n",
            "Using /usr/local/lib/python3.8/dist-packages\n",
            "Searching for tifffile==2022.10.10\n",
            "Best match: tifffile 2022.10.10\n",
            "Adding tifffile 2022.10.10 to easy-install.pth file\n",
            "Installing lsm2bin script to /usr/local/bin\n",
            "Installing tiff2fsspec script to /usr/local/bin\n",
            "Installing tiffcomment script to /usr/local/bin\n",
            "Installing tifffile script to /usr/local/bin\n",
            "\n",
            "Using /usr/local/lib/python3.8/dist-packages\n",
            "Searching for Pillow==7.1.2\n",
            "Best match: Pillow 7.1.2\n",
            "Adding Pillow 7.1.2 to easy-install.pth file\n",
            "\n",
            "Using /usr/local/lib/python3.8/dist-packages\n",
            "Searching for chardet==4.0.0\n",
            "Best match: chardet 4.0.0\n",
            "Adding chardet 4.0.0 to easy-install.pth file\n",
            "Installing chardetect script to /usr/local/bin\n",
            "\n",
            "Using /usr/local/lib/python3.8/dist-packages\n",
            "Searching for idna==2.10\n",
            "Best match: idna 2.10\n",
            "Adding idna 2.10 to easy-install.pth file\n",
            "\n",
            "Using /usr/local/lib/python3.8/dist-packages\n",
            "Searching for urllib3==1.24.3\n",
            "Best match: urllib3 1.24.3\n",
            "Adding urllib3 1.24.3 to easy-install.pth file\n",
            "\n",
            "Using /usr/local/lib/python3.8/dist-packages\n",
            "Searching for certifi==2022.12.7\n",
            "Best match: certifi 2022.12.7\n",
            "Adding certifi 2022.12.7 to easy-install.pth file\n",
            "\n",
            "Using /usr/local/lib/python3.8/dist-packages\n",
            "Searching for python-utils==3.4.5\n",
            "Best match: python-utils 3.4.5\n",
            "Adding python-utils 3.4.5 to easy-install.pth file\n",
            "\n",
            "Using /usr/local/lib/python3.8/dist-packages\n",
            "Searching for six==1.15.0\n",
            "Best match: six 1.15.0\n",
            "Adding six 1.15.0 to easy-install.pth file\n",
            "\n",
            "Using /usr/local/lib/python3.8/dist-packages\n",
            "Searching for python-dateutil==2.8.2\n",
            "Best match: python-dateutil 2.8.2\n",
            "Adding python-dateutil 2.8.2 to easy-install.pth file\n",
            "\n",
            "Using /usr/local/lib/python3.8/dist-packages\n",
            "Searching for pytz==2022.7\n",
            "Best match: pytz 2022.7\n",
            "Adding pytz 2022.7 to easy-install.pth file\n",
            "\n",
            "Using /usr/local/lib/python3.8/dist-packages\n",
            "Searching for kiwisolver==1.4.4\n",
            "Best match: kiwisolver 1.4.4\n",
            "Adding kiwisolver 1.4.4 to easy-install.pth file\n",
            "\n",
            "Using /usr/local/lib/python3.8/dist-packages\n",
            "Searching for cycler==0.11.0\n",
            "Best match: cycler 0.11.0\n",
            "Adding cycler 0.11.0 to easy-install.pth file\n",
            "\n",
            "Using /usr/local/lib/python3.8/dist-packages\n",
            "Searching for notebook==5.7.16\n",
            "Best match: notebook 5.7.16\n",
            "Adding notebook 5.7.16 to easy-install.pth file\n",
            "Installing jupyter-bundlerextension script to /usr/local/bin\n",
            "Installing jupyter-nbextension script to /usr/local/bin\n",
            "Installing jupyter-notebook script to /usr/local/bin\n",
            "Installing jupyter-serverextension script to /usr/local/bin\n",
            "\n",
            "Using /usr/local/lib/python3.8/dist-packages\n",
            "Searching for nbconvert==5.6.1\n",
            "Best match: nbconvert 5.6.1\n",
            "Adding nbconvert 5.6.1 to easy-install.pth file\n",
            "Installing jupyter-nbconvert script to /usr/local/bin\n",
            "\n",
            "Using /usr/local/lib/python3.8/dist-packages\n",
            "Searching for jupyter-console==6.1.0\n",
            "Best match: jupyter-console 6.1.0\n",
            "Adding jupyter-console 6.1.0 to easy-install.pth file\n",
            "Installing jupyter-console script to /usr/local/bin\n",
            "\n",
            "Using /usr/local/lib/python3.8/dist-packages\n",
            "Searching for ipykernel==5.3.4\n",
            "Best match: ipykernel 5.3.4\n",
            "Adding ipykernel 5.3.4 to easy-install.pth file\n",
            "\n",
            "Using /usr/local/lib/python3.8/dist-packages\n",
            "Searching for ipython-genutils==0.2.0\n",
            "Best match: ipython-genutils 0.2.0\n",
            "Adding ipython-genutils 0.2.0 to easy-install.pth file\n",
            "\n",
            "Using /usr/local/lib/python3.8/dist-packages\n",
            "Searching for traitlets==5.7.1\n",
            "Best match: traitlets 5.7.1\n",
            "Adding traitlets 5.7.1 to easy-install.pth file\n",
            "\n",
            "Using /usr/local/lib/python3.8/dist-packages\n",
            "Searching for ipython==7.9.0\n",
            "Best match: ipython 7.9.0\n",
            "Adding ipython 7.9.0 to easy-install.pth file\n",
            "Installing iptest script to /usr/local/bin\n",
            "Installing iptest3 script to /usr/local/bin\n",
            "Installing ipython script to /usr/local/bin\n",
            "Installing ipython3 script to /usr/local/bin\n",
            "\n",
            "Using /usr/local/lib/python3.8/dist-packages\n",
            "Searching for jupyterlab-widgets==3.0.5\n",
            "Best match: jupyterlab-widgets 3.0.5\n",
            "Adding jupyterlab-widgets 3.0.5 to easy-install.pth file\n",
            "\n",
            "Using /usr/local/lib/python3.8/dist-packages\n",
            "Searching for widgetsnbextension==3.6.1\n",
            "Best match: widgetsnbextension 3.6.1\n",
            "Adding widgetsnbextension 3.6.1 to easy-install.pth file\n",
            "\n",
            "Using /usr/local/lib/python3.8/dist-packages\n",
            "Searching for pyzmq==23.2.1\n",
            "Best match: pyzmq 23.2.1\n",
            "Adding pyzmq 23.2.1 to easy-install.pth file\n",
            "\n",
            "Using /usr/local/lib/python3.8/dist-packages\n",
            "Searching for Pygments==2.6.1\n",
            "Best match: Pygments 2.6.1\n",
            "Adding Pygments 2.6.1 to easy-install.pth file\n",
            "Installing pygmentize script to /usr/local/bin\n",
            "\n",
            "Using /usr/local/lib/python3.8/dist-packages\n",
            "Searching for jupyter-core==5.1.2\n",
            "Best match: jupyter-core 5.1.2\n",
            "Adding jupyter-core 5.1.2 to easy-install.pth file\n",
            "Installing jupyter script to /usr/local/bin\n",
            "Installing jupyter-migrate script to /usr/local/bin\n",
            "Installing jupyter-troubleshoot script to /usr/local/bin\n",
            "\n",
            "Using /usr/local/lib/python3.8/dist-packages\n",
            "Searching for jupyter-client==6.1.12\n",
            "Best match: jupyter-client 6.1.12\n",
            "Adding jupyter-client 6.1.12 to easy-install.pth file\n",
            "Installing jupyter-kernel script to /usr/local/bin\n",
            "Installing jupyter-kernelspec script to /usr/local/bin\n",
            "Installing jupyter-run script to /usr/local/bin\n",
            "\n",
            "Using /usr/local/lib/python3.8/dist-packages\n",
            "Searching for tornado==6.0.4\n",
            "Best match: tornado 6.0.4\n",
            "Adding tornado 6.0.4 to easy-install.pth file\n",
            "\n",
            "Using /usr/local/lib/python3.8/dist-packages\n",
            "Searching for terminado==0.13.3\n",
            "Best match: terminado 0.13.3\n",
            "Adding terminado 0.13.3 to easy-install.pth file\n",
            "\n",
            "Using /usr/local/lib/python3.8/dist-packages\n",
            "Searching for prometheus-client==0.15.0\n",
            "Best match: prometheus-client 0.15.0\n",
            "Adding prometheus-client 0.15.0 to easy-install.pth file\n",
            "\n",
            "Using /usr/local/lib/python3.8/dist-packages\n",
            "Searching for Jinja2==2.11.3\n",
            "Best match: Jinja2 2.11.3\n",
            "Adding Jinja2 2.11.3 to easy-install.pth file\n",
            "\n",
            "Using /usr/local/lib/python3.8/dist-packages\n",
            "Searching for Send2Trash==1.8.0\n",
            "Best match: Send2Trash 1.8.0\n",
            "Adding Send2Trash 1.8.0 to easy-install.pth file\n",
            "Installing send2trash script to /usr/local/bin\n",
            "\n",
            "Using /usr/local/lib/python3.8/dist-packages\n",
            "Searching for nbformat==5.7.1\n",
            "Best match: nbformat 5.7.1\n",
            "Adding nbformat 5.7.1 to easy-install.pth file\n",
            "Installing jupyter-trust script to /usr/local/bin\n",
            "\n",
            "Using /usr/local/lib/python3.8/dist-packages\n",
            "Searching for pandocfilters==1.5.0\n",
            "Best match: pandocfilters 1.5.0\n",
            "Adding pandocfilters 1.5.0 to easy-install.pth file\n",
            "\n",
            "Using /usr/local/lib/python3.8/dist-packages\n",
            "Searching for bleach==5.0.1\n",
            "Best match: bleach 5.0.1\n",
            "Adding bleach 5.0.1 to easy-install.pth file\n",
            "\n",
            "Using /usr/local/lib/python3.8/dist-packages\n",
            "Searching for entrypoints==0.4\n",
            "Best match: entrypoints 0.4\n",
            "Adding entrypoints 0.4 to easy-install.pth file\n",
            "\n",
            "Using /usr/local/lib/python3.8/dist-packages\n",
            "Searching for testpath==0.6.0\n",
            "Best match: testpath 0.6.0\n",
            "Adding testpath 0.6.0 to easy-install.pth file\n",
            "\n",
            "Using /usr/local/lib/python3.8/dist-packages\n",
            "Searching for defusedxml==0.7.1\n",
            "Best match: defusedxml 0.7.1\n",
            "Adding defusedxml 0.7.1 to easy-install.pth file\n",
            "\n",
            "Using /usr/local/lib/python3.8/dist-packages\n",
            "Searching for mistune==0.8.4\n",
            "Best match: mistune 0.8.4\n",
            "Adding mistune 0.8.4 to easy-install.pth file\n",
            "\n",
            "Using /usr/local/lib/python3.8/dist-packages\n",
            "Searching for prompt-toolkit==2.0.10\n",
            "Best match: prompt-toolkit 2.0.10\n",
            "Adding prompt-toolkit 2.0.10 to easy-install.pth file\n",
            "\n",
            "Using /usr/local/lib/python3.8/dist-packages\n",
            "Searching for backcall==0.2.0\n",
            "Best match: backcall 0.2.0\n",
            "Adding backcall 0.2.0 to easy-install.pth file\n",
            "\n",
            "Using /usr/local/lib/python3.8/dist-packages\n",
            "Searching for pickleshare==0.7.5\n",
            "Best match: pickleshare 0.7.5\n",
            "Adding pickleshare 0.7.5 to easy-install.pth file\n",
            "\n",
            "Using /usr/local/lib/python3.8/dist-packages\n",
            "Searching for pexpect==4.8.0\n",
            "Best match: pexpect 4.8.0\n",
            "Adding pexpect 4.8.0 to easy-install.pth file\n",
            "\n",
            "Using /usr/local/lib/python3.8/dist-packages\n",
            "Searching for decorator==4.4.2\n",
            "Best match: decorator 4.4.2\n",
            "Adding decorator 4.4.2 to easy-install.pth file\n",
            "\n",
            "Using /usr/local/lib/python3.8/dist-packages\n",
            "Searching for platformdirs==2.6.2\n",
            "Best match: platformdirs 2.6.2\n",
            "Adding platformdirs 2.6.2 to easy-install.pth file\n",
            "\n",
            "Using /usr/local/lib/python3.8/dist-packages\n",
            "Searching for ptyprocess==0.7.0\n",
            "Best match: ptyprocess 0.7.0\n",
            "Adding ptyprocess 0.7.0 to easy-install.pth file\n",
            "\n",
            "Using /usr/local/lib/python3.8/dist-packages\n",
            "Searching for MarkupSafe==2.0.1\n",
            "Best match: MarkupSafe 2.0.1\n",
            "Adding MarkupSafe 2.0.1 to easy-install.pth file\n",
            "\n",
            "Using /usr/local/lib/python3.8/dist-packages\n",
            "Searching for fastjsonschema==2.16.2\n",
            "Best match: fastjsonschema 2.16.2\n",
            "Adding fastjsonschema 2.16.2 to easy-install.pth file\n",
            "\n",
            "Using /usr/local/lib/python3.8/dist-packages\n",
            "Searching for jsonschema==4.3.3\n",
            "Best match: jsonschema 4.3.3\n",
            "Adding jsonschema 4.3.3 to easy-install.pth file\n",
            "Installing jsonschema script to /usr/local/bin\n",
            "\n",
            "Using /usr/local/lib/python3.8/dist-packages\n",
            "Searching for webencodings==0.5.1\n",
            "Best match: webencodings 0.5.1\n",
            "Adding webencodings 0.5.1 to easy-install.pth file\n",
            "\n",
            "Using /usr/local/lib/python3.8/dist-packages\n",
            "Searching for wcwidth==0.2.5\n",
            "Best match: wcwidth 0.2.5\n",
            "Adding wcwidth 0.2.5 to easy-install.pth file\n",
            "\n",
            "Using /usr/local/lib/python3.8/dist-packages\n",
            "Searching for parso==0.8.3\n",
            "Best match: parso 0.8.3\n",
            "Adding parso 0.8.3 to easy-install.pth file\n",
            "\n",
            "Using /usr/local/lib/python3.8/dist-packages\n",
            "Searching for pyrsistent==0.19.3\n",
            "Best match: pyrsistent 0.19.3\n",
            "Adding pyrsistent 0.19.3 to easy-install.pth file\n",
            "\n",
            "Using /usr/local/lib/python3.8/dist-packages\n",
            "Searching for attrs==22.2.0\n",
            "Best match: attrs 22.2.0\n",
            "Adding attrs 22.2.0 to easy-install.pth file\n",
            "\n",
            "Using /usr/local/lib/python3.8/dist-packages\n",
            "Searching for importlib-resources==5.10.2\n",
            "Best match: importlib-resources 5.10.2\n",
            "Adding importlib-resources 5.10.2 to easy-install.pth file\n",
            "\n",
            "Using /usr/local/lib/python3.8/dist-packages\n",
            "Searching for zipp==3.11.0\n",
            "Best match: zipp 3.11.0\n",
            "Adding zipp 3.11.0 to easy-install.pth file\n",
            "\n",
            "Using /usr/local/lib/python3.8/dist-packages\n",
            "Finished processing dependencies for modoptima==0.1.0\n",
            "/content\n"
          ]
        }
      ]
    },
    {
      "cell_type": "markdown",
      "source": [
        "### Download and install stop sign dataset."
      ],
      "metadata": {
        "id": "VSeCrGqTqZ9U"
      }
    },
    {
      "cell_type": "code",
      "source": [
        "!gdown --id 1j4w1UXzCTkzkiKnwj1Luo1x0ie9Yse_b"
      ],
      "metadata": {
        "colab": {
          "base_uri": "https://localhost:8080/"
        },
        "id": "4gwaAHAnFtMO",
        "outputId": "f03c4213-7cb6-44c4-b3b2-0d75536368c0"
      },
      "execution_count": 3,
      "outputs": [
        {
          "output_type": "stream",
          "name": "stdout",
          "text": [
            "/usr/local/lib/python3.8/dist-packages/gdown/cli.py:127: FutureWarning: Option `--id` was deprecated in version 4.3.1 and will be removed in 5.0. You don't need to pass it anymore to use a file ID.\n",
            "  warnings.warn(\n",
            "Downloading...\n",
            "From: https://drive.google.com/uc?id=1j4w1UXzCTkzkiKnwj1Luo1x0ie9Yse_b\n",
            "To: /content/stop_sign_dataset_yolov7.zip\n",
            "100% 19.8M/19.8M [00:00<00:00, 95.9MB/s]\n"
          ]
        }
      ]
    },
    {
      "cell_type": "code",
      "source": [
        "!unzip /content/stop_sign_dataset_yolov7.zip"
      ],
      "metadata": {
        "colab": {
          "base_uri": "https://localhost:8080/"
        },
        "id": "-Y5x_1aXGKd7",
        "outputId": "e04442f0-4a05-42c4-db03-8cdb0aa7576f"
      },
      "execution_count": 4,
      "outputs": [
        {
          "output_type": "stream",
          "name": "stdout",
          "text": [
            "Archive:  /content/stop_sign_dataset_yolov7.zip\n",
            " extracting: README.roboflow.txt     \n",
            " extracting: data.yaml               \n",
            "   creating: train/\n",
            "   creating: train/images/\n",
            " extracting: train/images/100_jpg.rf.115423eaad5395c8601884eed2ada5aa.jpg  \n",
            " extracting: train/images/100_jpg.rf.194be21decf7c42daa4953dc405ef058.jpg  \n",
            " extracting: train/images/100_jpg.rf.bbd52ac7f66fa9d0257b468194340db8.jpg  \n",
            " extracting: train/images/101_jpg.rf.636d5d5efd5430193a2884a82f9cd8d6.jpg  \n",
            " extracting: train/images/101_jpg.rf.667bd1f34722e629c6a82d7c20c33025.jpg  \n",
            " extracting: train/images/101_jpg.rf.70f647939a526a6d6825566e4f605116.jpg  \n",
            " extracting: train/images/102_jpg.rf.1960e83ca1f6422ccd0593413126c041.jpg  \n",
            " extracting: train/images/102_jpg.rf.b2ed75cc599aa9ff5d4525dca11dd833.jpg  \n",
            " extracting: train/images/102_jpg.rf.ee234980138898c1818e647ecfd38c27.jpg  \n",
            " extracting: train/images/103_jpg.rf.0464471a861f5d6fef87ccaf93a7cead.jpg  \n",
            " extracting: train/images/103_jpg.rf.d4c936acdf1931fddad67264ac19772e.jpg  \n",
            " extracting: train/images/103_jpg.rf.f572e7e3303ed96c291d7990e404c083.jpg  \n",
            " extracting: train/images/104_jpg.rf.4ecb54d2fa75bb24a7c7f37a6b2cefdf.jpg  \n",
            " extracting: train/images/104_jpg.rf.aae694812271dfeb2fe5b9594e02fe02.jpg  \n",
            " extracting: train/images/104_jpg.rf.f5e677a74de2e90d58f1e424b85aebab.jpg  \n",
            " extracting: train/images/106_jpg.rf.470c68f61ce1937c1b97a4b75c4fb8ce.jpg  \n",
            " extracting: train/images/106_jpg.rf.bc485831f15e941c334d0d7d44b6184a.jpg  \n",
            " extracting: train/images/106_jpg.rf.dc1e787258482aa62ad95a7e8e19889d.jpg  \n",
            " extracting: train/images/107_jpg.rf.9240ab773265092e6305975aae84214a.jpg  \n",
            " extracting: train/images/107_jpg.rf.9a2f1403768213e3924406265cddb481.jpg  \n",
            " extracting: train/images/107_jpg.rf.f271f5002e376870110ff0d2226e9089.jpg  \n",
            " extracting: train/images/108_jpg.rf.0b0ff7f4dcbe70f97541c6b567c3e6eb.jpg  \n",
            " extracting: train/images/108_jpg.rf.50b76dff69905954aeaea856e20d6ec7.jpg  \n",
            " extracting: train/images/108_jpg.rf.7f384331f03099dbdc0c03a85ffc8581.jpg  \n",
            " extracting: train/images/109_jpg.rf.40f8410d999a8d2ef3ff930cc552fe07.jpg  \n",
            " extracting: train/images/109_jpg.rf.c51e8caadca0b5f13fc8efc26d0ef853.jpg  \n",
            " extracting: train/images/109_jpg.rf.f611682b8d2e74900251d1911a19fe70.jpg  \n",
            " extracting: train/images/10_jpg.rf.35e106d4f3b62d1c88160a1f21e86a16.jpg  \n",
            " extracting: train/images/10_jpg.rf.38c9c2d595cbf348e014bda513308162.jpg  \n",
            " extracting: train/images/10_jpg.rf.7eb287bb6bd85f064c8697824aebb59d.jpg  \n",
            " extracting: train/images/110_jpg.rf.47389e25caa81853f0c4fec50b99b281.jpg  \n",
            " extracting: train/images/110_jpg.rf.a642e6cf3425be3c19d90258421558b2.jpg  \n",
            " extracting: train/images/110_jpg.rf.d2a59e9a5686c19953ed742353be2570.jpg  \n",
            " extracting: train/images/111_jpg.rf.03ae9eab7aead59e295e13af3d433025.jpg  \n",
            " extracting: train/images/111_jpg.rf.44bc27190b1d76e8ad126222a6415597.jpg  \n",
            " extracting: train/images/111_jpg.rf.6efef9cfb1a4f558ba673a3d23b4e048.jpg  \n",
            " extracting: train/images/112_jpg.rf.31970b51f4e452e61bf89f985f2d760e.jpg  \n",
            " extracting: train/images/112_jpg.rf.782eb12b61e41ada5170a89da395a79c.jpg  \n",
            " extracting: train/images/112_jpg.rf.c483275f17654b97f74de4e5b299133a.jpg  \n",
            " extracting: train/images/113_jpg.rf.1c7162500b21200c39f29f138bd2202b.jpg  \n",
            " extracting: train/images/113_jpg.rf.352989d28813ee2c06799175e74da3dc.jpg  \n",
            " extracting: train/images/113_jpg.rf.4dd13ba5cd0c14d327304b3905cb63f4.jpg  \n",
            " extracting: train/images/114_jpg.rf.68ef3f343552e62297546f7d875a5de0.jpg  \n",
            " extracting: train/images/114_jpg.rf.a4dc03ec9183689ffe81a9c57b9a2c65.jpg  \n",
            " extracting: train/images/114_jpg.rf.dcc7d5c9538fb54d07796c453b95f726.jpg  \n",
            " extracting: train/images/115_jpg.rf.29d575264070125b310bd096c7fb9899.jpg  \n",
            " extracting: train/images/115_jpg.rf.419c8ba61280d1069489d9066b092db6.jpg  \n",
            " extracting: train/images/115_jpg.rf.89bf9a2efc2a7155957e1fbdce01f21e.jpg  \n",
            " extracting: train/images/116_jpg.rf.5507279a95164cbd904a3f558dfc0771.jpg  \n",
            " extracting: train/images/116_jpg.rf.8da802ce773a8c2719e094f4d87c7863.jpg  \n",
            " extracting: train/images/116_jpg.rf.ecfe417207a5bfa43457903de2adbe23.jpg  \n",
            " extracting: train/images/117_png.rf.1922a6bb15f7a79c7a2b50f7f6f19db1.jpg  \n",
            " extracting: train/images/117_png.rf.722a58eedc685b8a03075ec6aad819ff.jpg  \n",
            " extracting: train/images/117_png.rf.f8bf19b3bf7c5cc7b3837832ef96a640.jpg  \n",
            " extracting: train/images/119_jpg.rf.45c51e1b68bae4b26fad274307a69d25.jpg  \n",
            " extracting: train/images/119_jpg.rf.903f20e772cbd83782cff9d00aafe30d.jpg  \n",
            " extracting: train/images/119_jpg.rf.c829a4a5c19f103f3e085721632df3d4.jpg  \n",
            " extracting: train/images/11_jpg.rf.42295e0bef90aa0f0421132e3bdbd792.jpg  \n",
            " extracting: train/images/11_jpg.rf.d89f4458afc06f2db131032a6e37f585.jpg  \n",
            " extracting: train/images/11_jpg.rf.f182eae69d8a4a74c6fa5eafe449a882.jpg  \n",
            " extracting: train/images/120_jpg.rf.46b8d6e2b73c744c9a49c87b8266367b.jpg  \n",
            " extracting: train/images/120_jpg.rf.841817137c302aef86336aafa72067e8.jpg  \n",
            " extracting: train/images/120_jpg.rf.e4ccc3b7f5078223677dbd9d14e2bfb1.jpg  \n",
            " extracting: train/images/121_jpg.rf.3eb6293c39c1bb010ced923c510b6abc.jpg  \n",
            " extracting: train/images/121_jpg.rf.d668e8b1aaca3f7b47f276982118b407.jpg  \n",
            " extracting: train/images/121_jpg.rf.ece5961614fa1084c4e6e4659eb8ec2c.jpg  \n",
            " extracting: train/images/122_jpg.rf.02aebef7609e5fc265629045dd995ca8.jpg  \n",
            " extracting: train/images/122_jpg.rf.56d1831d491f5a90a77c9918eab112be.jpg  \n",
            " extracting: train/images/122_jpg.rf.59aff8ef4746b5ced2cbc90e1cd40920.jpg  \n",
            " extracting: train/images/123_jpg.rf.6cb0ed0fea4451437c6075b137aff9c0.jpg  \n",
            " extracting: train/images/123_jpg.rf.6dc3813e54b8c85970e5fb81a7a24837.jpg  \n",
            " extracting: train/images/123_jpg.rf.c5a851ee9560902979dd0420045b776f.jpg  \n",
            " extracting: train/images/124_jpg.rf.40e923feb259c6765f212a9a9d88649c.jpg  \n",
            " extracting: train/images/124_jpg.rf.633a5b0e8eda20a584e8371c125681f4.jpg  \n",
            " extracting: train/images/124_jpg.rf.fb1dd2f1772a9ad1f6adbb6d409ff420.jpg  \n",
            " extracting: train/images/125_jpg.rf.76b1075302df04decc9c45bee4fd58e9.jpg  \n",
            " extracting: train/images/125_jpg.rf.bd8414d0d27a4869a32fde0638b51c1d.jpg  \n",
            " extracting: train/images/125_jpg.rf.df1cfa95b7bdd551bc2abb851bfa750f.jpg  \n",
            " extracting: train/images/126_jpg.rf.2ae1d5ee9f337f7957d169f4ac0b4e1b.jpg  \n",
            " extracting: train/images/126_jpg.rf.e2bd132aa4b7e36f8c2d19ac51e92d5b.jpg  \n",
            " extracting: train/images/126_jpg.rf.e6b8e1aff86c00d400d0f6ed469b0501.jpg  \n",
            " extracting: train/images/127_jpg.rf.8ddaf82bcd40e2a2138b784b6db05e40.jpg  \n",
            " extracting: train/images/127_jpg.rf.a8d1998741ae2f5d30be4c1cf07bc923.jpg  \n",
            " extracting: train/images/127_jpg.rf.d553f9aa1b12cdefd01c4b4c58dd711a.jpg  \n",
            " extracting: train/images/128_jpg.rf.1bb92401325039dc87ea86fe27800eed.jpg  \n",
            " extracting: train/images/128_jpg.rf.6d4f234a7edafd2f31558ad061b686ff.jpg  \n",
            " extracting: train/images/128_jpg.rf.70ac19cc44d7a7be7b06bf6ce650c545.jpg  \n",
            " extracting: train/images/129_jpg.rf.6b34bc58820f81fcc5471a8c6203855d.jpg  \n",
            " extracting: train/images/129_jpg.rf.6b62d0332bc8aaec97d058c61d3eb4d1.jpg  \n",
            " extracting: train/images/129_jpg.rf.9a16657be04df8fb7910b7e7afd16d0f.jpg  \n",
            " extracting: train/images/12_jpg.rf.715328a7fed38e199da8f65404b8c5d1.jpg  \n",
            " extracting: train/images/12_jpg.rf.e92234068abdbab1b382ef996671aaa9.jpg  \n",
            " extracting: train/images/12_jpg.rf.ef22a8faf67640b7c8bcb03f548949ec.jpg  \n",
            " extracting: train/images/130_jpg.rf.67c13bba4052ff9bc6edd739b5d76c3a.jpg  \n",
            " extracting: train/images/130_jpg.rf.970a9fbff4f3647136e9b725e6cd71da.jpg  \n",
            " extracting: train/images/130_jpg.rf.f5cbedc6f9fe0289354738e8c7ae6ad3.jpg  \n",
            " extracting: train/images/131_jpg.rf.62f24e14b519044f879e372fd5a0ddeb.jpg  \n",
            " extracting: train/images/131_jpg.rf.959e5f76066a1edef494b127ed00aeb7.jpg  \n",
            " extracting: train/images/131_jpg.rf.b9baf9ccaa9c811dfaa901afa3996f5f.jpg  \n",
            " extracting: train/images/132_jpg.rf.0f61db6543e4364072568c7631430fc9.jpg  \n",
            " extracting: train/images/132_jpg.rf.abcff4ebfa80fc0ab4870ff196b67fee.jpg  \n",
            " extracting: train/images/132_jpg.rf.fdcdff29087a9f7b3ab62955ebf020c0.jpg  \n",
            " extracting: train/images/133_jpg.rf.9502915f32ba447d16bed7723aa7d76f.jpg  \n",
            " extracting: train/images/133_jpg.rf.9c008c96a0756c8919fab9ed3a4f6c0d.jpg  \n",
            " extracting: train/images/133_jpg.rf.ab3fd98740bb9af222b8ea167c1f736b.jpg  \n",
            " extracting: train/images/134_jpg.rf.8f0e22e841ce645dadcb996bd556d39a.jpg  \n",
            " extracting: train/images/134_jpg.rf.9ae96eb0c281660a6aa8c583fcbbbe93.jpg  \n",
            " extracting: train/images/134_jpg.rf.d163b1fb6caaaec25b9cb6be5b30b276.jpg  \n",
            " extracting: train/images/135_jpg.rf.4f635fee0f0a254bd3c216716a555cb1.jpg  \n",
            " extracting: train/images/135_jpg.rf.5b146a3c9c7497c01bfd1fd972c8583c.jpg  \n",
            " extracting: train/images/135_jpg.rf.74ced4be7529f932e20c4e5e1a18b4e2.jpg  \n",
            " extracting: train/images/136_jpg.rf.2f494dcac87f413d78da781b0f451dba.jpg  \n",
            " extracting: train/images/136_jpg.rf.c0f2bd133ef858efa9d474dcb8e9ed3b.jpg  \n",
            " extracting: train/images/136_jpg.rf.dc05623cf9e55f0d4f66659001093d90.jpg  \n",
            " extracting: train/images/137_jpg.rf.6cac63b472be0481ab572ec5b0d14e49.jpg  \n",
            " extracting: train/images/137_jpg.rf.6d953148e5758b8713a3d01bcc42abee.jpg  \n",
            " extracting: train/images/137_jpg.rf.9f48be169f876eecdf7b45dabddf5a1a.jpg  \n",
            " extracting: train/images/139_jpg.rf.0bed39659c158eee2b472c6259c361e4.jpg  \n",
            " extracting: train/images/139_jpg.rf.a209c029deb5575ac37a010f48d81c1c.jpg  \n",
            " extracting: train/images/139_jpg.rf.f2a7ab594a2b17b9afebf4a9ea6858b9.jpg  \n",
            " extracting: train/images/13_jpg.rf.2c99d6ea6cc98b668c638a80290150be.jpg  \n",
            " extracting: train/images/13_jpg.rf.922310f6facaf8dc9a3c27168024e8d7.jpg  \n",
            " extracting: train/images/13_jpg.rf.fac5495efe8d7ceb9878f24fda543072.jpg  \n",
            " extracting: train/images/140_jpg.rf.2dfb96d6df62fa88baf1bb9fdd60e5ca.jpg  \n",
            " extracting: train/images/140_jpg.rf.7c2cc11431f860237147b710ec6de817.jpg  \n",
            " extracting: train/images/140_jpg.rf.90f3b8c2728c8754a965b5d90a3f59b1.jpg  \n",
            " extracting: train/images/141_jpg.rf.0e45ff1ee1866df8d28956686ca1579d.jpg  \n",
            " extracting: train/images/141_jpg.rf.44c67af3db46cf93939370d775ec1a09.jpg  \n",
            " extracting: train/images/141_jpg.rf.a40cf5f91432c4e7ee92b61637886281.jpg  \n",
            " extracting: train/images/142_jpg.rf.0e977af7ba69d6a3eb7345b8e70209ee.jpg  \n",
            " extracting: train/images/142_jpg.rf.1cbdba39c0b0af9cdbe7cfe018c1a110.jpg  \n",
            " extracting: train/images/142_jpg.rf.d88644352d6bf2ad260579fcf8f85900.jpg  \n",
            " extracting: train/images/143_jpg.rf.a85819266ca93301d688340178cdd43e.jpg  \n",
            " extracting: train/images/143_jpg.rf.b19138c55a8de5e1bf6f154676e1c08e.jpg  \n",
            " extracting: train/images/143_jpg.rf.d350aabe1805d42becbd1e005b6b48f2.jpg  \n",
            " extracting: train/images/144_jpg.rf.1bdb71c4f9e6c2525d0b24e74bf396ea.jpg  \n",
            " extracting: train/images/144_jpg.rf.5d31bee05cf5a9949d09f0480b4d11aa.jpg  \n",
            " extracting: train/images/144_jpg.rf.b1ecdc8df982fa869f1bb2273b570ed4.jpg  \n",
            " extracting: train/images/145_jpg.rf.550f6342346b2bf7422d2b7b0aa6e486.jpg  \n",
            " extracting: train/images/145_jpg.rf.6d92b5133e7b60d92046b64db47e818b.jpg  \n",
            " extracting: train/images/145_jpg.rf.f8d31102eb08aea614724b44afa6711d.jpg  \n",
            " extracting: train/images/146_jpg.rf.88c6ac174999f384a1ef33e45cb0d09d.jpg  \n",
            " extracting: train/images/146_jpg.rf.e95d37955b3a9783c6ce2ffc69ffd285.jpg  \n",
            " extracting: train/images/146_jpg.rf.eded0bd6e383272773235a0274c986a2.jpg  \n",
            " extracting: train/images/147_jpg.rf.0f8353c6de3ec402ff9a972f57122ed8.jpg  \n",
            " extracting: train/images/147_jpg.rf.7d10c44d58c957ac050c0e1daecdb4b8.jpg  \n",
            " extracting: train/images/147_jpg.rf.ba0542a2d2779eaa32c0f080334797d9.jpg  \n",
            " extracting: train/images/148_jpg.rf.1a6bc0653573f7b7fdfcbedaedf03506.jpg  \n",
            " extracting: train/images/148_jpg.rf.a28af12bfa8c2a6f0602e82fe00c62fd.jpg  \n",
            " extracting: train/images/148_jpg.rf.dc3bc6edd91c568fc70c901049173837.jpg  \n",
            " extracting: train/images/149_jpg.rf.325d66ef2a1cfaf989d744d6e510e9a4.jpg  \n",
            " extracting: train/images/149_jpg.rf.48eb41ff4eeb6ea937183bf605f4c62c.jpg  \n",
            " extracting: train/images/149_jpg.rf.de547283c53999c6690c6c8d749df029.jpg  \n",
            " extracting: train/images/150_jpg.rf.37d3fe33fe66b0bfc1df73e00575a701.jpg  \n",
            " extracting: train/images/150_jpg.rf.9d07ebf3ba7524d34dd6a770ad062269.jpg  \n",
            " extracting: train/images/150_jpg.rf.b8b91d3c960a75cc65d6ecea7485f0b2.jpg  \n",
            " extracting: train/images/151_jpg.rf.171538ccdd5e0f5019b8dcd1a5a20366.jpg  \n",
            " extracting: train/images/151_jpg.rf.e46b38a6b870c1c10b13f21e7161b104.jpg  \n",
            " extracting: train/images/151_jpg.rf.f39a60ecb8fe70769e62123ff5e38700.jpg  \n",
            " extracting: train/images/15_jpg.rf.9fdde76a447bc4f6676eb31e5b54129a.jpg  \n",
            " extracting: train/images/15_jpg.rf.e05ff948addd6dec19f4fd4f65679426.jpg  \n",
            " extracting: train/images/15_jpg.rf.ebc9000194b0c24e8834ae3381f4e1c3.jpg  \n",
            " extracting: train/images/16_jpg.rf.00b3b6b611762e11e46a497c17aafb08.jpg  \n",
            " extracting: train/images/16_jpg.rf.237110891773e82c1eb39932095c32ed.jpg  \n",
            " extracting: train/images/16_jpg.rf.cbe102fdd2508513a3af149935985664.jpg  \n",
            " extracting: train/images/17_jpg.rf.7a0b8563e7b2ae8a2f400350612aa3d5.jpg  \n",
            " extracting: train/images/17_jpg.rf.8860d594318b509d1e43d717b9c7fab0.jpg  \n",
            " extracting: train/images/17_jpg.rf.cac8757c1a57d038d308c340bdb178ce.jpg  \n",
            " extracting: train/images/19_jpg.rf.61889e3f7d5c0334f516ebeee02b3b51.jpg  \n",
            " extracting: train/images/19_jpg.rf.b3fdcb66600e840ce3b355cd50041a7c.jpg  \n",
            " extracting: train/images/19_jpg.rf.da96516e09a3d24fc15cc8cdc7e72d95.jpg  \n",
            " extracting: train/images/1_jpg.rf.2648fe86500ea3a90493a160e64dab89.jpg  \n",
            " extracting: train/images/1_jpg.rf.3c67ee792ef9c7307b96610dcc1ea5e5.jpg  \n",
            " extracting: train/images/1_jpg.rf.9f4566e5318bb58f3e48aa6d0acd3e3d.jpg  \n",
            " extracting: train/images/20_jpg.rf.06b7fff0aa80a60016f35a5a58bfc418.jpg  \n",
            " extracting: train/images/20_jpg.rf.1fffa599f1f699ac1a7e22ad15da493e.jpg  \n",
            " extracting: train/images/20_jpg.rf.24a6934af1b5fb93e5ec9963140d18fe.jpg  \n",
            " extracting: train/images/21_jpg.rf.765ecd5d355192ef80b50b467b7962c4.jpg  \n",
            " extracting: train/images/21_jpg.rf.acc663a6566363fcd7f616c796f35d36.jpg  \n",
            " extracting: train/images/21_jpg.rf.e3f9414af99976a48fd50225d5982c30.jpg  \n",
            " extracting: train/images/22_jpg.rf.2ff01157d604e20a724a6604504c9f39.jpg  \n",
            " extracting: train/images/22_jpg.rf.8417d3b1c17e1a3e2c45c3bc760bc834.jpg  \n",
            " extracting: train/images/22_jpg.rf.8ae0b87e19f981a31e855a529499ec3f.jpg  \n",
            " extracting: train/images/24_jpg.rf.2834adafed95dff4503fed762d5d1c23.jpg  \n",
            " extracting: train/images/24_jpg.rf.425abaa6c1310e243472e2161de8194b.jpg  \n",
            " extracting: train/images/24_jpg.rf.be0468fc521778e40e84b3c5e0259afd.jpg  \n",
            " extracting: train/images/25_png.rf.7a01fd240bed52ed4cdc82c217cde711.jpg  \n",
            " extracting: train/images/25_png.rf.d29eedb8ff648e561d65818738587e15.jpg  \n",
            " extracting: train/images/25_png.rf.d7a7da02188061d2c7da8428afaac72e.jpg  \n",
            " extracting: train/images/26_jpg.rf.0f534c3d827fbae809b5e444caf2353c.jpg  \n",
            " extracting: train/images/26_jpg.rf.d67ab6b127d47018d5c5fb7791686336.jpg  \n",
            " extracting: train/images/26_jpg.rf.ddd2b850994eeb6668e90555e1e145ce.jpg  \n",
            " extracting: train/images/29_jpg.rf.03e3c233c1a6aad4f0bb62d33fdddb40.jpg  \n",
            " extracting: train/images/29_jpg.rf.69ad0b300206aaa2db31c0fd801a31cf.jpg  \n",
            " extracting: train/images/29_jpg.rf.76bdb60c4a6ffad34e6177148781e1a3.jpg  \n",
            " extracting: train/images/2_jpg.rf.06d5982e6b5ba1f9895a702e3a45b7ae.jpg  \n",
            " extracting: train/images/2_jpg.rf.4952d3466a77ab742608ef223804fe7f.jpg  \n",
            " extracting: train/images/2_jpg.rf.6e5588332e89907c3a54eb24aafd25e4.jpg  \n",
            " extracting: train/images/30_jpg.rf.098107810087a9f25ae0fe05414374ab.jpg  \n",
            " extracting: train/images/30_jpg.rf.235040151b5f4dab1ef6f30cb1e1a0b0.jpg  \n",
            " extracting: train/images/30_jpg.rf.b6eff3b211edeadb1421fa59c92f8f70.jpg  \n",
            " extracting: train/images/31_jpg.rf.2e1a557f91e1db7b3962c2cfa2da1b11.jpg  \n",
            " extracting: train/images/31_jpg.rf.4000d2770fef6919c3dccda043bef427.jpg  \n",
            " extracting: train/images/31_jpg.rf.6fcbedf3be08562db13cb9a1b9a0d65e.jpg  \n",
            " extracting: train/images/32_jpg.rf.03896251921708b3d12f0cb225b29a6f.jpg  \n",
            " extracting: train/images/32_jpg.rf.be186fab5a40a5611cb351be54ba7a9a.jpg  \n",
            " extracting: train/images/32_jpg.rf.eddacca0c9bb0051664f5fabd3f8c0cc.jpg  \n",
            " extracting: train/images/33_jpg.rf.3ea6b52acada238a77c4f7a831df095f.jpg  \n",
            " extracting: train/images/33_jpg.rf.731b9df05aeb4bef2ee20fa33924f1e3.jpg  \n",
            " extracting: train/images/33_jpg.rf.98df89169440770734f8ef2b3afcb325.jpg  \n",
            " extracting: train/images/34_jpg.rf.1fde3ba89f9d690b81cfc61937d66106.jpg  \n",
            " extracting: train/images/34_jpg.rf.56f87c14dd015d302a1bc984c7dccc55.jpg  \n",
            " extracting: train/images/34_jpg.rf.91576891b3d5f3686c8541fabdf8f496.jpg  \n",
            " extracting: train/images/35_jpg.rf.12baaafa321ce3852ca1ea4ae9e82626.jpg  \n",
            " extracting: train/images/35_jpg.rf.64a320a5a8641583a7482c05d8c51d9a.jpg  \n",
            " extracting: train/images/35_jpg.rf.eeebc6bc3949761fc08888e366a3707c.jpg  \n",
            " extracting: train/images/36_jpg.rf.1b927e7a3b866f91a5e7971ce1c6f4d0.jpg  \n",
            " extracting: train/images/36_jpg.rf.8116186e2e82a71cb056dc30d52f56ea.jpg  \n",
            " extracting: train/images/36_jpg.rf.b3773c8e5a6a0fdeef602957f06f915b.jpg  \n",
            " extracting: train/images/37_jpg.rf.00d69a724d67ebbb70358273d282e5ac.jpg  \n",
            " extracting: train/images/37_jpg.rf.1c40e459ad221b274a715b982fd13ccb.jpg  \n",
            " extracting: train/images/37_jpg.rf.dd4cc558062ace4374a965e49f5e053f.jpg  \n",
            " extracting: train/images/3_jpg.rf.163d2db16a6534d0654f148429d25432.jpg  \n",
            " extracting: train/images/3_jpg.rf.87801659b195004af35ef521e5095663.jpg  \n",
            " extracting: train/images/3_jpg.rf.8fe5b500da1fbd946f00fe7b04c84906.jpg  \n",
            " extracting: train/images/40_jpg.rf.39853ceac499684960cfa5e55abc9987.jpg  \n",
            " extracting: train/images/40_jpg.rf.82af0cb99c01f8252693dbb52b9cbb5c.jpg  \n",
            " extracting: train/images/40_jpg.rf.e5dd7d77ae63f664ba82fb7c161aa3e0.jpg  \n",
            " extracting: train/images/41_png.rf.008ff7c50196b0115a32ca7e02076597.jpg  \n",
            " extracting: train/images/41_png.rf.7c9622cd6cf3a5444ec6ca38901217dc.jpg  \n",
            " extracting: train/images/41_png.rf.a923a14b2580958f14a13f2e06ddc893.jpg  \n",
            " extracting: train/images/42_jpg.rf.a83551beb1191add51d03887a0a28a76.jpg  \n",
            " extracting: train/images/42_jpg.rf.b596d01a8ab258214dc8b5b8f903d443.jpg  \n",
            " extracting: train/images/42_jpg.rf.eb8a021f4c901c3bc780d7c75311a277.jpg  \n",
            " extracting: train/images/43_jpg.rf.23b17a32cb32d634babb578f9fbb99db.jpg  \n",
            " extracting: train/images/43_jpg.rf.6ad277a6a6dfb5f05ce8180485c04852.jpg  \n",
            " extracting: train/images/43_jpg.rf.eadb8de06ecf70cd35c6ddc876861dc6.jpg  \n",
            " extracting: train/images/44_jpg.rf.83f2568c56fafcee5a2b457b5b1973ee.jpg  \n",
            " extracting: train/images/44_jpg.rf.bbc01dea4e9e148fd11c70f8e8842e90.jpg  \n",
            " extracting: train/images/44_jpg.rf.d572746f45f1bb90754cfa9190b12094.jpg  \n",
            " extracting: train/images/45_jpg.rf.16522fe3681d48015917683105b909d4.jpg  \n",
            " extracting: train/images/45_jpg.rf.2ea0db87f852b2303498895a6e66c811.jpg  \n",
            " extracting: train/images/45_jpg.rf.a3bbe2f48fdf868f2c8fd077f885f70d.jpg  \n",
            " extracting: train/images/46_jpg.rf.3f66a682fc9fe55934d137845b3d8bcb.jpg  \n",
            " extracting: train/images/46_jpg.rf.590dc50901068457f963a49cd6369eaa.jpg  \n",
            " extracting: train/images/46_jpg.rf.77546d4a16b44d9c88af7460ab94e171.jpg  \n",
            " extracting: train/images/47_jpg.rf.037735c28b5c942391df20a729ba1274.jpg  \n",
            " extracting: train/images/47_jpg.rf.6fad1ad7ea8b051554a28801537cd16d.jpg  \n",
            " extracting: train/images/47_jpg.rf.dcdc36e536fc9470594e72b05a96aa2c.jpg  \n",
            " extracting: train/images/48_jpg.rf.6689d550974cd817f281066677ae45c1.jpg  \n",
            " extracting: train/images/48_jpg.rf.bbd1c34822a280fb1efa10d59e2009af.jpg  \n",
            " extracting: train/images/48_jpg.rf.ff810965aaf8973a99b15b2c793dd264.jpg  \n",
            " extracting: train/images/49_jpg.rf.002533ae13be5a336cf3fa342e1912fc.jpg  \n",
            " extracting: train/images/49_jpg.rf.0c34306cb80378d742f5b61105d1976e.jpg  \n",
            " extracting: train/images/49_jpg.rf.712a46d1c78542a5e62fc5eed8adf4c2.jpg  \n",
            " extracting: train/images/4_jpg.rf.9f80e2622296af3cda039690e347df5f.jpg  \n",
            " extracting: train/images/4_jpg.rf.c35f1e1f6589453fb6ce80777c6d6733.jpg  \n",
            " extracting: train/images/4_jpg.rf.e3c75d8c107abf34b0316725dac1a881.jpg  \n",
            " extracting: train/images/50_jpg.rf.268ecd7728ccd952fa71f204b60d81bc.jpg  \n",
            " extracting: train/images/50_jpg.rf.4bf7420008de8a385d15ef106fa17f6c.jpg  \n",
            " extracting: train/images/50_jpg.rf.81859fa5491a1ca03735315b40448695.jpg  \n",
            " extracting: train/images/51_jpg.rf.07de20794a3ce416a67a00a9aae15e47.jpg  \n",
            " extracting: train/images/51_jpg.rf.165ac0316e1fab758f59f611b8a25965.jpg  \n",
            " extracting: train/images/51_jpg.rf.c6419c4016d5d8db887c9229f9162721.jpg  \n",
            " extracting: train/images/52_jpg.rf.37c213ef676530bdf6ddd3bfa9d51607.jpg  \n",
            " extracting: train/images/52_jpg.rf.3a3d9da420d4c8450bd3673dbe5e7349.jpg  \n",
            " extracting: train/images/52_jpg.rf.4860a579d14720f9c197741119c297d1.jpg  \n",
            " extracting: train/images/53_jpg.rf.390b05be464617c6d3657bbc4d715716.jpg  \n",
            " extracting: train/images/53_jpg.rf.d55dbad30e1fb459055388f3502945c6.jpg  \n",
            " extracting: train/images/53_jpg.rf.f709e068f0eb90c6de6e57526990e117.jpg  \n",
            " extracting: train/images/54_jpg.rf.4c2cd2b137b34d78c4849d2d0b7da0fe.jpg  \n",
            " extracting: train/images/54_jpg.rf.cbeeec152677fbf21323f51265dcd69b.jpg  \n",
            " extracting: train/images/54_jpg.rf.d5dbc3da478dd700def01116941a0788.jpg  \n",
            " extracting: train/images/55_jpg.rf.0174e4af0200aafeae7d01dd8d288312.jpg  \n",
            " extracting: train/images/55_jpg.rf.ab21b9a32a67adeb165fc9243a1b45bf.jpg  \n",
            " extracting: train/images/55_jpg.rf.b0d7d158018bf1bb21d64b5e7b905edd.jpg  \n",
            " extracting: train/images/56_jpg.rf.227b50a62e40d54dfa85fbd4adf00821.jpg  \n",
            " extracting: train/images/56_jpg.rf.4149bff26a6d8f779df35962b1a2f200.jpg  \n",
            " extracting: train/images/56_jpg.rf.7f84a4457878a35ca5b8b1753287ee96.jpg  \n",
            " extracting: train/images/57_jpg.rf.30eb998e87186c8f3cb1688681d38c54.jpg  \n",
            " extracting: train/images/57_jpg.rf.8b30d481257e713f6bc316df093149a5.jpg  \n",
            " extracting: train/images/57_jpg.rf.f0024020f5ec9e2fa524e9a8031d8a86.jpg  \n",
            " extracting: train/images/58_jpg.rf.674e8eb840b4ef5dd47c426759b8d7fa.jpg  \n",
            " extracting: train/images/58_jpg.rf.9f7c022f93ec10671ba52eff3bb9778b.jpg  \n",
            " extracting: train/images/58_jpg.rf.e03cca0d3bcf57d106c0574c2256203d.jpg  \n",
            " extracting: train/images/59_jpg.rf.051ef9db26477f7863288114c38b1de5.jpg  \n",
            " extracting: train/images/59_jpg.rf.be247ce9afd57e27b1b399a22ff0343e.jpg  \n",
            " extracting: train/images/59_jpg.rf.d3af80b791ce0519fae61a68ceed4797.jpg  \n",
            " extracting: train/images/5_jpg.rf.51111306eba2011261cc6d418dc781dd.jpg  \n",
            " extracting: train/images/5_jpg.rf.592b3dc29f41dd7514733f211fbb020e.jpg  \n",
            " extracting: train/images/5_jpg.rf.6f87af48698817cdf4fa7c6b52db5a9e.jpg  \n",
            " extracting: train/images/60_png.rf.72ec91594bad8e8662609ed68b3b9a48.jpg  \n",
            " extracting: train/images/60_png.rf.a10ff81f0a75afada227fa5c5461199f.jpg  \n",
            " extracting: train/images/60_png.rf.cfa4af583d4c6e517dccd764e67d143f.jpg  \n",
            " extracting: train/images/61_jpg.rf.088465ed8ecf21ce7dd33b077690865f.jpg  \n",
            " extracting: train/images/61_jpg.rf.34dcf6c5440a7d51c5fa2db1c7b2f6c5.jpg  \n",
            " extracting: train/images/61_jpg.rf.76f24e5847900f00ce72280c2755b812.jpg  \n",
            " extracting: train/images/62_jpg.rf.38d670e5dc8e5e94f1c509a2fbc15cd6.jpg  \n",
            " extracting: train/images/62_jpg.rf.6daae316d425dcf2e67949d4679a9950.jpg  \n",
            " extracting: train/images/62_jpg.rf.6f31ddcd8214d13dd2999609ee0370c7.jpg  \n",
            " extracting: train/images/63_jpg.rf.711cec395c09897f64b56d13d96bfef5.jpg  \n",
            " extracting: train/images/63_jpg.rf.88025ccab93c050bf77402ca35965999.jpg  \n",
            " extracting: train/images/63_jpg.rf.cd540e2200824ec879624511215da23a.jpg  \n",
            " extracting: train/images/65_jpg.rf.9c3083a0fc152938b17ee9e9c8fe818d.jpg  \n",
            " extracting: train/images/65_jpg.rf.bdf0c1d1dc535626391861ddc167cf1d.jpg  \n",
            " extracting: train/images/65_jpg.rf.f0c7b8f21de9fac4341064bea21c470e.jpg  \n",
            " extracting: train/images/66_jpg.rf.231fe82c06522d6d1a07db408d0c12eb.jpg  \n",
            " extracting: train/images/66_jpg.rf.7e9fa128f3dd38fb03e90971f2006423.jpg  \n",
            " extracting: train/images/66_jpg.rf.c89fc4f8e1f42f257626a99ebdc2390c.jpg  \n",
            " extracting: train/images/67_jpg.rf.36c8888a510851154b90dbf98b78043f.jpg  \n",
            " extracting: train/images/67_jpg.rf.426691e266211a826da7b3eca129fb75.jpg  \n",
            " extracting: train/images/67_jpg.rf.c35c9646fd51e610a614b8f2cc8baa5e.jpg  \n",
            " extracting: train/images/69_jpg.rf.88d667249f63329449b08c73f6a32d15.jpg  \n",
            " extracting: train/images/69_jpg.rf.96014f5834caecec4a04e549e3edcd46.jpg  \n",
            " extracting: train/images/69_jpg.rf.b7b1178bd73a77396c22945f086271c9.jpg  \n",
            " extracting: train/images/6_jpg.rf.bcec6c4b44ba8d1a7d0730f220d99f69.jpg  \n",
            " extracting: train/images/6_jpg.rf.c7c10aab76d16c1edb3725ec93fe7bef.jpg  \n",
            " extracting: train/images/6_jpg.rf.e3c6dcb9511864f4b8a10f6a5ecf1ad4.jpg  \n",
            " extracting: train/images/70_jpg.rf.14c6be90eaecaf578d848a82d09765b7.jpg  \n",
            " extracting: train/images/70_jpg.rf.2baa9f494ee8a424d888946eecfddc4f.jpg  \n",
            " extracting: train/images/70_jpg.rf.a65f594a718ba99f07659dfcce91e8ed.jpg  \n",
            " extracting: train/images/71_jpg.rf.02318a85f55cf4a0fb0a1c3768427bd4.jpg  \n",
            " extracting: train/images/71_jpg.rf.a7ac7dd3da4ab648b74e6694d33c36f6.jpg  \n",
            " extracting: train/images/71_jpg.rf.b320417b6901990903f7f637153ee0c7.jpg  \n",
            " extracting: train/images/72_jpg.rf.0c4b85b92f24370c39e3aa44fbb18d45.jpg  \n",
            " extracting: train/images/72_jpg.rf.655ab3813058dc59a7ce35e1ddc12223.jpg  \n",
            " extracting: train/images/72_jpg.rf.6a6a7574cf109ad9492d5ef40180ee50.jpg  \n",
            " extracting: train/images/73_jpg.rf.516dfe6d057e381c29e7a458fae124d5.jpg  \n",
            " extracting: train/images/73_jpg.rf.ce80a1bb335d4f064413632e7a6ba3a4.jpg  \n",
            " extracting: train/images/73_jpg.rf.dca05db9f9756e40fb3a577631aae1ab.jpg  \n",
            " extracting: train/images/74_jpg.rf.a25515f69926769e8b5647842335c240.jpg  \n",
            " extracting: train/images/74_jpg.rf.e94a0cd68b6a31061cd11f7243ea9255.jpg  \n",
            " extracting: train/images/74_jpg.rf.edc809141edb380331622ed3f6dd5c76.jpg  \n",
            " extracting: train/images/75_jpg.rf.337acd2020fe843e10692efbc594d202.jpg  \n",
            " extracting: train/images/75_jpg.rf.35506d3e39e88b0f7983863843b4c879.jpg  \n",
            " extracting: train/images/75_jpg.rf.b996b821dc69d45f4dfd677e4fe4ddd1.jpg  \n",
            " extracting: train/images/77_jpg.rf.38cdf164843ab98385f6bdc6ae690c80.jpg  \n",
            " extracting: train/images/77_jpg.rf.a1f0af98ffa7c2f721f24995fe46d10c.jpg  \n",
            " extracting: train/images/77_jpg.rf.a991b6cb4dd53f8f5f4327564dcdf8b9.jpg  \n",
            " extracting: train/images/78_jpg.rf.71a19daf7be4c99d698a88e47a998598.jpg  \n",
            " extracting: train/images/78_jpg.rf.7fff6de7b65bc3b5999c76cbc5fad699.jpg  \n",
            " extracting: train/images/78_jpg.rf.b01ede24730f0e31892cee0e52336d93.jpg  \n",
            " extracting: train/images/79_jpg.rf.1de025de4ee4381fea02fb4cf6a01431.jpg  \n",
            " extracting: train/images/79_jpg.rf.6604457846ca9eca3492ccff5e3d4b5e.jpg  \n",
            " extracting: train/images/79_jpg.rf.d754cee5dd4f509a36e054a992a1c7db.jpg  \n",
            " extracting: train/images/7_jpg.rf.00c010f41526d33bcfa5ba4ff7b25dcb.jpg  \n",
            " extracting: train/images/7_jpg.rf.26f7529f3ddcfa595a005b5393520d9b.jpg  \n",
            " extracting: train/images/7_jpg.rf.be403d2c3f4b2225e763dfa04c09f420.jpg  \n",
            " extracting: train/images/80_jpg.rf.01c56129406e270bf513e9d962d2e4ad.jpg  \n",
            " extracting: train/images/80_jpg.rf.62323ca048adebf298535268f4289e5f.jpg  \n",
            " extracting: train/images/80_jpg.rf.c4838dfffc6ced633996902cdc334dfc.jpg  \n",
            " extracting: train/images/81_jpg.rf.55cf94222584b1df06b04d3ea9d0e721.jpg  \n",
            " extracting: train/images/81_jpg.rf.d6b76678e44855b9ec623d3df7bc4698.jpg  \n",
            " extracting: train/images/81_jpg.rf.f2c7dc407a51da8adb11cccc5cf1e2e9.jpg  \n",
            " extracting: train/images/83_jpg.rf.83729a9864f2b31c29310be0db33889f.jpg  \n",
            " extracting: train/images/83_jpg.rf.b8f2344f94e5da144c2e00c30b30020e.jpg  \n",
            " extracting: train/images/83_jpg.rf.f51dcb46169ca5de7560123fb6cd4dd2.jpg  \n",
            " extracting: train/images/84_jpg.rf.099e8b9795a3b06252411cea32d794d2.jpg  \n",
            " extracting: train/images/84_jpg.rf.1bd861495a254ddbcf9d660a2a0a5b24.jpg  \n",
            " extracting: train/images/84_jpg.rf.4a48f5e7caa36f0146e3c204544cbbd9.jpg  \n",
            " extracting: train/images/85_jpg.rf.66308937a331bfd96f9abf16ef798638.jpg  \n",
            " extracting: train/images/85_jpg.rf.af2c97ca683da2ba2a7175d01da95df0.jpg  \n",
            " extracting: train/images/85_jpg.rf.cc70e4bd355909aa7f905fa866e16f9e.jpg  \n",
            " extracting: train/images/86_jpg.rf.0591417141e0ede6af5b5ab894f5a9f7.jpg  \n",
            " extracting: train/images/86_jpg.rf.2fe04dcdf160f826115c541e105eacc9.jpg  \n",
            " extracting: train/images/86_jpg.rf.6d5aa7ae4d8061d59f74c1b308fd58af.jpg  \n",
            " extracting: train/images/87_jpg.rf.1256e681a7dcb45d24bd4da8b8aea58f.jpg  \n",
            " extracting: train/images/87_jpg.rf.9a623c521bdc6a976e27ae3da0e4c44f.jpg  \n",
            " extracting: train/images/87_jpg.rf.d8fcc0733e4545a9e980219c6c659d46.jpg  \n",
            " extracting: train/images/88_jpg.rf.4ba03dbc739d94473ccf9eec4e4aa4a8.jpg  \n",
            " extracting: train/images/88_jpg.rf.8de4add4334196fb84b58e165797bc8d.jpg  \n",
            " extracting: train/images/88_jpg.rf.fe5c3e536ac4514997855b3f7a79be9e.jpg  \n",
            " extracting: train/images/89_jpg.rf.639ebe7fed3c3e2464bebfaab9903699.jpg  \n",
            " extracting: train/images/89_jpg.rf.8b45beb8cbe196fcb33fbc8fda6ed0ea.jpg  \n",
            " extracting: train/images/89_jpg.rf.9ec76f71374516286c5a99344c3e8cf3.jpg  \n",
            " extracting: train/images/8_jpg.rf.010302cfbf484305fb5cd94a2cba056c.jpg  \n",
            " extracting: train/images/8_jpg.rf.b394ab61aae8380075e631c5f72e9fe7.jpg  \n",
            " extracting: train/images/8_jpg.rf.c67987c092800041060bf2ebe7e1dca1.jpg  \n",
            " extracting: train/images/90_jpg.rf.c1dc063f3261ce0743e280a21b3b44a3.jpg  \n",
            " extracting: train/images/90_jpg.rf.d4455e0a5370c7a464dc8b1bfaffcb8b.jpg  \n",
            " extracting: train/images/90_jpg.rf.fa9b8ea09922f8a0eaef3b2b5c15d9e1.jpg  \n",
            " extracting: train/images/91_png.rf.97d53157e80d3110fae7791b4a8ecf5c.jpg  \n",
            " extracting: train/images/91_png.rf.a53ddaa83e7c35de0767d69ac4db7bc4.jpg  \n",
            " extracting: train/images/91_png.rf.fec100566c87cf50098679ed490c7413.jpg  \n",
            " extracting: train/images/94_jpg.rf.1cf666b273f4aec72966ebc44b39cc6d.jpg  \n",
            " extracting: train/images/94_jpg.rf.cf7ec5909c8971ed7735267b0ee59abb.jpg  \n",
            " extracting: train/images/94_jpg.rf.d131cb3b7154b22f50ba57869eb5017e.jpg  \n",
            " extracting: train/images/95_png.rf.25984b3115188910932165c734241a90.jpg  \n",
            " extracting: train/images/95_png.rf.4b93ba44a478fde6d0579ac5331a1670.jpg  \n",
            " extracting: train/images/95_png.rf.7dd3f272b4b14180611c365fa878866a.jpg  \n",
            " extracting: train/images/96_jpg.rf.094f7be147a97ee6645c9c7bea19c80f.jpg  \n",
            " extracting: train/images/96_jpg.rf.3129db27715efd3e8837bd79badb1b56.jpg  \n",
            " extracting: train/images/96_jpg.rf.83c992164ff43082ab0c4ba585a3041d.jpg  \n",
            " extracting: train/images/97_jpg.rf.82e4f413e18c811832737ada5e7e7edb.jpg  \n",
            " extracting: train/images/97_jpg.rf.a2e4b31f4ccbfa640249299c88d6a132.jpg  \n",
            " extracting: train/images/97_jpg.rf.f7d17cf52e8780c4788dc50cd71b170b.jpg  \n",
            " extracting: train/images/98_jpg.rf.2245a44386e9892a35a8c4cdf17887b5.jpg  \n",
            " extracting: train/images/98_jpg.rf.3a5686f5dd18146b37ea629f638357d6.jpg  \n",
            " extracting: train/images/98_jpg.rf.a022284476a91e5b1e5b892d90c9676f.jpg  \n",
            " extracting: train/images/99_jpg.rf.755ab04cef04acb298b2b29fb053db11.jpg  \n",
            " extracting: train/images/99_jpg.rf.878d5498cf6c0dfb50c79fef28c86dda.jpg  \n",
            " extracting: train/images/99_jpg.rf.aad9b472840a968f2477be329bcdd736.jpg  \n",
            " extracting: train/images/9_jpg.rf.50b05b2df85130b2fa3b6caf9eb44a51.jpg  \n",
            " extracting: train/images/9_jpg.rf.b533334c18d423100acb39441e74c757.jpg  \n",
            " extracting: train/images/9_jpg.rf.d5497c0ab5b267ec207dc66080f85b9c.jpg  \n",
            " extracting: train/images/yellow_stop_sign_jpg.rf.98a0ab4cc51aa30c0ac197828bf0d11c.jpg  \n",
            " extracting: train/images/yellow_stop_sign_jpg.rf.a84d7bea214f06a54f97ba0970ed53f7.jpg  \n",
            " extracting: train/images/yellow_stop_sign_jpg.rf.f5860588faf88a3b6f4d6b85fc0febc8.jpg  \n",
            "   creating: train/labels/\n",
            " extracting: train/labels/100_jpg.rf.115423eaad5395c8601884eed2ada5aa.txt  \n",
            " extracting: train/labels/100_jpg.rf.194be21decf7c42daa4953dc405ef058.txt  \n",
            " extracting: train/labels/100_jpg.rf.bbd52ac7f66fa9d0257b468194340db8.txt  \n",
            " extracting: train/labels/101_jpg.rf.636d5d5efd5430193a2884a82f9cd8d6.txt  \n",
            " extracting: train/labels/101_jpg.rf.667bd1f34722e629c6a82d7c20c33025.txt  \n",
            " extracting: train/labels/101_jpg.rf.70f647939a526a6d6825566e4f605116.txt  \n",
            " extracting: train/labels/102_jpg.rf.1960e83ca1f6422ccd0593413126c041.txt  \n",
            " extracting: train/labels/102_jpg.rf.b2ed75cc599aa9ff5d4525dca11dd833.txt  \n",
            " extracting: train/labels/102_jpg.rf.ee234980138898c1818e647ecfd38c27.txt  \n",
            " extracting: train/labels/103_jpg.rf.0464471a861f5d6fef87ccaf93a7cead.txt  \n",
            " extracting: train/labels/103_jpg.rf.d4c936acdf1931fddad67264ac19772e.txt  \n",
            " extracting: train/labels/103_jpg.rf.f572e7e3303ed96c291d7990e404c083.txt  \n",
            " extracting: train/labels/104_jpg.rf.4ecb54d2fa75bb24a7c7f37a6b2cefdf.txt  \n",
            " extracting: train/labels/104_jpg.rf.aae694812271dfeb2fe5b9594e02fe02.txt  \n",
            " extracting: train/labels/104_jpg.rf.f5e677a74de2e90d58f1e424b85aebab.txt  \n",
            " extracting: train/labels/106_jpg.rf.470c68f61ce1937c1b97a4b75c4fb8ce.txt  \n",
            " extracting: train/labels/106_jpg.rf.bc485831f15e941c334d0d7d44b6184a.txt  \n",
            " extracting: train/labels/106_jpg.rf.dc1e787258482aa62ad95a7e8e19889d.txt  \n",
            " extracting: train/labels/107_jpg.rf.9240ab773265092e6305975aae84214a.txt  \n",
            " extracting: train/labels/107_jpg.rf.9a2f1403768213e3924406265cddb481.txt  \n",
            " extracting: train/labels/107_jpg.rf.f271f5002e376870110ff0d2226e9089.txt  \n",
            " extracting: train/labels/108_jpg.rf.0b0ff7f4dcbe70f97541c6b567c3e6eb.txt  \n",
            " extracting: train/labels/108_jpg.rf.50b76dff69905954aeaea856e20d6ec7.txt  \n",
            " extracting: train/labels/108_jpg.rf.7f384331f03099dbdc0c03a85ffc8581.txt  \n",
            " extracting: train/labels/109_jpg.rf.40f8410d999a8d2ef3ff930cc552fe07.txt  \n",
            " extracting: train/labels/109_jpg.rf.c51e8caadca0b5f13fc8efc26d0ef853.txt  \n",
            " extracting: train/labels/109_jpg.rf.f611682b8d2e74900251d1911a19fe70.txt  \n",
            " extracting: train/labels/10_jpg.rf.35e106d4f3b62d1c88160a1f21e86a16.txt  \n",
            " extracting: train/labels/10_jpg.rf.38c9c2d595cbf348e014bda513308162.txt  \n",
            " extracting: train/labels/10_jpg.rf.7eb287bb6bd85f064c8697824aebb59d.txt  \n",
            " extracting: train/labels/110_jpg.rf.47389e25caa81853f0c4fec50b99b281.txt  \n",
            " extracting: train/labels/110_jpg.rf.a642e6cf3425be3c19d90258421558b2.txt  \n",
            " extracting: train/labels/110_jpg.rf.d2a59e9a5686c19953ed742353be2570.txt  \n",
            " extracting: train/labels/111_jpg.rf.03ae9eab7aead59e295e13af3d433025.txt  \n",
            " extracting: train/labels/111_jpg.rf.44bc27190b1d76e8ad126222a6415597.txt  \n",
            " extracting: train/labels/111_jpg.rf.6efef9cfb1a4f558ba673a3d23b4e048.txt  \n",
            " extracting: train/labels/112_jpg.rf.31970b51f4e452e61bf89f985f2d760e.txt  \n",
            " extracting: train/labels/112_jpg.rf.782eb12b61e41ada5170a89da395a79c.txt  \n",
            " extracting: train/labels/112_jpg.rf.c483275f17654b97f74de4e5b299133a.txt  \n",
            " extracting: train/labels/113_jpg.rf.1c7162500b21200c39f29f138bd2202b.txt  \n",
            " extracting: train/labels/113_jpg.rf.352989d28813ee2c06799175e74da3dc.txt  \n",
            " extracting: train/labels/113_jpg.rf.4dd13ba5cd0c14d327304b3905cb63f4.txt  \n",
            " extracting: train/labels/114_jpg.rf.68ef3f343552e62297546f7d875a5de0.txt  \n",
            " extracting: train/labels/114_jpg.rf.a4dc03ec9183689ffe81a9c57b9a2c65.txt  \n",
            " extracting: train/labels/114_jpg.rf.dcc7d5c9538fb54d07796c453b95f726.txt  \n",
            " extracting: train/labels/115_jpg.rf.29d575264070125b310bd096c7fb9899.txt  \n",
            " extracting: train/labels/115_jpg.rf.419c8ba61280d1069489d9066b092db6.txt  \n",
            " extracting: train/labels/115_jpg.rf.89bf9a2efc2a7155957e1fbdce01f21e.txt  \n",
            " extracting: train/labels/116_jpg.rf.5507279a95164cbd904a3f558dfc0771.txt  \n",
            " extracting: train/labels/116_jpg.rf.8da802ce773a8c2719e094f4d87c7863.txt  \n",
            " extracting: train/labels/116_jpg.rf.ecfe417207a5bfa43457903de2adbe23.txt  \n",
            " extracting: train/labels/117_png.rf.1922a6bb15f7a79c7a2b50f7f6f19db1.txt  \n",
            " extracting: train/labels/117_png.rf.722a58eedc685b8a03075ec6aad819ff.txt  \n",
            " extracting: train/labels/117_png.rf.f8bf19b3bf7c5cc7b3837832ef96a640.txt  \n",
            " extracting: train/labels/119_jpg.rf.45c51e1b68bae4b26fad274307a69d25.txt  \n",
            " extracting: train/labels/119_jpg.rf.903f20e772cbd83782cff9d00aafe30d.txt  \n",
            " extracting: train/labels/119_jpg.rf.c829a4a5c19f103f3e085721632df3d4.txt  \n",
            " extracting: train/labels/11_jpg.rf.42295e0bef90aa0f0421132e3bdbd792.txt  \n",
            " extracting: train/labels/11_jpg.rf.d89f4458afc06f2db131032a6e37f585.txt  \n",
            " extracting: train/labels/11_jpg.rf.f182eae69d8a4a74c6fa5eafe449a882.txt  \n",
            " extracting: train/labels/120_jpg.rf.46b8d6e2b73c744c9a49c87b8266367b.txt  \n",
            " extracting: train/labels/120_jpg.rf.841817137c302aef86336aafa72067e8.txt  \n",
            " extracting: train/labels/120_jpg.rf.e4ccc3b7f5078223677dbd9d14e2bfb1.txt  \n",
            " extracting: train/labels/121_jpg.rf.3eb6293c39c1bb010ced923c510b6abc.txt  \n",
            " extracting: train/labels/121_jpg.rf.d668e8b1aaca3f7b47f276982118b407.txt  \n",
            " extracting: train/labels/121_jpg.rf.ece5961614fa1084c4e6e4659eb8ec2c.txt  \n",
            " extracting: train/labels/122_jpg.rf.02aebef7609e5fc265629045dd995ca8.txt  \n",
            " extracting: train/labels/122_jpg.rf.56d1831d491f5a90a77c9918eab112be.txt  \n",
            " extracting: train/labels/122_jpg.rf.59aff8ef4746b5ced2cbc90e1cd40920.txt  \n",
            " extracting: train/labels/123_jpg.rf.6cb0ed0fea4451437c6075b137aff9c0.txt  \n",
            " extracting: train/labels/123_jpg.rf.6dc3813e54b8c85970e5fb81a7a24837.txt  \n",
            " extracting: train/labels/123_jpg.rf.c5a851ee9560902979dd0420045b776f.txt  \n",
            " extracting: train/labels/124_jpg.rf.40e923feb259c6765f212a9a9d88649c.txt  \n",
            " extracting: train/labels/124_jpg.rf.633a5b0e8eda20a584e8371c125681f4.txt  \n",
            " extracting: train/labels/124_jpg.rf.fb1dd2f1772a9ad1f6adbb6d409ff420.txt  \n",
            " extracting: train/labels/125_jpg.rf.76b1075302df04decc9c45bee4fd58e9.txt  \n",
            " extracting: train/labels/125_jpg.rf.bd8414d0d27a4869a32fde0638b51c1d.txt  \n",
            " extracting: train/labels/125_jpg.rf.df1cfa95b7bdd551bc2abb851bfa750f.txt  \n",
            " extracting: train/labels/126_jpg.rf.2ae1d5ee9f337f7957d169f4ac0b4e1b.txt  \n",
            " extracting: train/labels/126_jpg.rf.e2bd132aa4b7e36f8c2d19ac51e92d5b.txt  \n",
            " extracting: train/labels/126_jpg.rf.e6b8e1aff86c00d400d0f6ed469b0501.txt  \n",
            " extracting: train/labels/127_jpg.rf.8ddaf82bcd40e2a2138b784b6db05e40.txt  \n",
            " extracting: train/labels/127_jpg.rf.a8d1998741ae2f5d30be4c1cf07bc923.txt  \n",
            " extracting: train/labels/127_jpg.rf.d553f9aa1b12cdefd01c4b4c58dd711a.txt  \n",
            " extracting: train/labels/128_jpg.rf.1bb92401325039dc87ea86fe27800eed.txt  \n",
            " extracting: train/labels/128_jpg.rf.6d4f234a7edafd2f31558ad061b686ff.txt  \n",
            " extracting: train/labels/128_jpg.rf.70ac19cc44d7a7be7b06bf6ce650c545.txt  \n",
            " extracting: train/labels/129_jpg.rf.6b34bc58820f81fcc5471a8c6203855d.txt  \n",
            " extracting: train/labels/129_jpg.rf.6b62d0332bc8aaec97d058c61d3eb4d1.txt  \n",
            " extracting: train/labels/129_jpg.rf.9a16657be04df8fb7910b7e7afd16d0f.txt  \n",
            " extracting: train/labels/12_jpg.rf.715328a7fed38e199da8f65404b8c5d1.txt  \n",
            " extracting: train/labels/12_jpg.rf.e92234068abdbab1b382ef996671aaa9.txt  \n",
            " extracting: train/labels/12_jpg.rf.ef22a8faf67640b7c8bcb03f548949ec.txt  \n",
            " extracting: train/labels/130_jpg.rf.67c13bba4052ff9bc6edd739b5d76c3a.txt  \n",
            " extracting: train/labels/130_jpg.rf.970a9fbff4f3647136e9b725e6cd71da.txt  \n",
            " extracting: train/labels/130_jpg.rf.f5cbedc6f9fe0289354738e8c7ae6ad3.txt  \n",
            " extracting: train/labels/131_jpg.rf.62f24e14b519044f879e372fd5a0ddeb.txt  \n",
            " extracting: train/labels/131_jpg.rf.959e5f76066a1edef494b127ed00aeb7.txt  \n",
            " extracting: train/labels/131_jpg.rf.b9baf9ccaa9c811dfaa901afa3996f5f.txt  \n",
            " extracting: train/labels/132_jpg.rf.0f61db6543e4364072568c7631430fc9.txt  \n",
            " extracting: train/labels/132_jpg.rf.abcff4ebfa80fc0ab4870ff196b67fee.txt  \n",
            " extracting: train/labels/132_jpg.rf.fdcdff29087a9f7b3ab62955ebf020c0.txt  \n",
            " extracting: train/labels/133_jpg.rf.9502915f32ba447d16bed7723aa7d76f.txt  \n",
            " extracting: train/labels/133_jpg.rf.9c008c96a0756c8919fab9ed3a4f6c0d.txt  \n",
            " extracting: train/labels/133_jpg.rf.ab3fd98740bb9af222b8ea167c1f736b.txt  \n",
            " extracting: train/labels/134_jpg.rf.8f0e22e841ce645dadcb996bd556d39a.txt  \n",
            " extracting: train/labels/134_jpg.rf.9ae96eb0c281660a6aa8c583fcbbbe93.txt  \n",
            " extracting: train/labels/134_jpg.rf.d163b1fb6caaaec25b9cb6be5b30b276.txt  \n",
            " extracting: train/labels/135_jpg.rf.4f635fee0f0a254bd3c216716a555cb1.txt  \n",
            " extracting: train/labels/135_jpg.rf.5b146a3c9c7497c01bfd1fd972c8583c.txt  \n",
            " extracting: train/labels/135_jpg.rf.74ced4be7529f932e20c4e5e1a18b4e2.txt  \n",
            " extracting: train/labels/136_jpg.rf.2f494dcac87f413d78da781b0f451dba.txt  \n",
            " extracting: train/labels/136_jpg.rf.c0f2bd133ef858efa9d474dcb8e9ed3b.txt  \n",
            " extracting: train/labels/136_jpg.rf.dc05623cf9e55f0d4f66659001093d90.txt  \n",
            " extracting: train/labels/137_jpg.rf.6cac63b472be0481ab572ec5b0d14e49.txt  \n",
            " extracting: train/labels/137_jpg.rf.6d953148e5758b8713a3d01bcc42abee.txt  \n",
            " extracting: train/labels/137_jpg.rf.9f48be169f876eecdf7b45dabddf5a1a.txt  \n",
            " extracting: train/labels/139_jpg.rf.0bed39659c158eee2b472c6259c361e4.txt  \n",
            " extracting: train/labels/139_jpg.rf.a209c029deb5575ac37a010f48d81c1c.txt  \n",
            " extracting: train/labels/139_jpg.rf.f2a7ab594a2b17b9afebf4a9ea6858b9.txt  \n",
            " extracting: train/labels/13_jpg.rf.2c99d6ea6cc98b668c638a80290150be.txt  \n",
            " extracting: train/labels/13_jpg.rf.922310f6facaf8dc9a3c27168024e8d7.txt  \n",
            " extracting: train/labels/13_jpg.rf.fac5495efe8d7ceb9878f24fda543072.txt  \n",
            " extracting: train/labels/140_jpg.rf.2dfb96d6df62fa88baf1bb9fdd60e5ca.txt  \n",
            " extracting: train/labels/140_jpg.rf.7c2cc11431f860237147b710ec6de817.txt  \n",
            " extracting: train/labels/140_jpg.rf.90f3b8c2728c8754a965b5d90a3f59b1.txt  \n",
            " extracting: train/labels/141_jpg.rf.0e45ff1ee1866df8d28956686ca1579d.txt  \n",
            " extracting: train/labels/141_jpg.rf.44c67af3db46cf93939370d775ec1a09.txt  \n",
            " extracting: train/labels/141_jpg.rf.a40cf5f91432c4e7ee92b61637886281.txt  \n",
            " extracting: train/labels/142_jpg.rf.0e977af7ba69d6a3eb7345b8e70209ee.txt  \n",
            " extracting: train/labels/142_jpg.rf.1cbdba39c0b0af9cdbe7cfe018c1a110.txt  \n",
            " extracting: train/labels/142_jpg.rf.d88644352d6bf2ad260579fcf8f85900.txt  \n",
            " extracting: train/labels/143_jpg.rf.a85819266ca93301d688340178cdd43e.txt  \n",
            " extracting: train/labels/143_jpg.rf.b19138c55a8de5e1bf6f154676e1c08e.txt  \n",
            " extracting: train/labels/143_jpg.rf.d350aabe1805d42becbd1e005b6b48f2.txt  \n",
            " extracting: train/labels/144_jpg.rf.1bdb71c4f9e6c2525d0b24e74bf396ea.txt  \n",
            " extracting: train/labels/144_jpg.rf.5d31bee05cf5a9949d09f0480b4d11aa.txt  \n",
            " extracting: train/labels/144_jpg.rf.b1ecdc8df982fa869f1bb2273b570ed4.txt  \n",
            " extracting: train/labels/145_jpg.rf.550f6342346b2bf7422d2b7b0aa6e486.txt  \n",
            " extracting: train/labels/145_jpg.rf.6d92b5133e7b60d92046b64db47e818b.txt  \n",
            " extracting: train/labels/145_jpg.rf.f8d31102eb08aea614724b44afa6711d.txt  \n",
            " extracting: train/labels/146_jpg.rf.88c6ac174999f384a1ef33e45cb0d09d.txt  \n",
            " extracting: train/labels/146_jpg.rf.e95d37955b3a9783c6ce2ffc69ffd285.txt  \n",
            " extracting: train/labels/146_jpg.rf.eded0bd6e383272773235a0274c986a2.txt  \n",
            " extracting: train/labels/147_jpg.rf.0f8353c6de3ec402ff9a972f57122ed8.txt  \n",
            " extracting: train/labels/147_jpg.rf.7d10c44d58c957ac050c0e1daecdb4b8.txt  \n",
            " extracting: train/labels/147_jpg.rf.ba0542a2d2779eaa32c0f080334797d9.txt  \n",
            " extracting: train/labels/148_jpg.rf.1a6bc0653573f7b7fdfcbedaedf03506.txt  \n",
            " extracting: train/labels/148_jpg.rf.a28af12bfa8c2a6f0602e82fe00c62fd.txt  \n",
            " extracting: train/labels/148_jpg.rf.dc3bc6edd91c568fc70c901049173837.txt  \n",
            " extracting: train/labels/149_jpg.rf.325d66ef2a1cfaf989d744d6e510e9a4.txt  \n",
            " extracting: train/labels/149_jpg.rf.48eb41ff4eeb6ea937183bf605f4c62c.txt  \n",
            " extracting: train/labels/149_jpg.rf.de547283c53999c6690c6c8d749df029.txt  \n",
            " extracting: train/labels/150_jpg.rf.37d3fe33fe66b0bfc1df73e00575a701.txt  \n",
            " extracting: train/labels/150_jpg.rf.9d07ebf3ba7524d34dd6a770ad062269.txt  \n",
            " extracting: train/labels/150_jpg.rf.b8b91d3c960a75cc65d6ecea7485f0b2.txt  \n",
            " extracting: train/labels/151_jpg.rf.171538ccdd5e0f5019b8dcd1a5a20366.txt  \n",
            " extracting: train/labels/151_jpg.rf.e46b38a6b870c1c10b13f21e7161b104.txt  \n",
            " extracting: train/labels/151_jpg.rf.f39a60ecb8fe70769e62123ff5e38700.txt  \n",
            " extracting: train/labels/15_jpg.rf.9fdde76a447bc4f6676eb31e5b54129a.txt  \n",
            " extracting: train/labels/15_jpg.rf.e05ff948addd6dec19f4fd4f65679426.txt  \n",
            " extracting: train/labels/15_jpg.rf.ebc9000194b0c24e8834ae3381f4e1c3.txt  \n",
            " extracting: train/labels/16_jpg.rf.00b3b6b611762e11e46a497c17aafb08.txt  \n",
            " extracting: train/labels/16_jpg.rf.237110891773e82c1eb39932095c32ed.txt  \n",
            " extracting: train/labels/16_jpg.rf.cbe102fdd2508513a3af149935985664.txt  \n",
            " extracting: train/labels/17_jpg.rf.7a0b8563e7b2ae8a2f400350612aa3d5.txt  \n",
            " extracting: train/labels/17_jpg.rf.8860d594318b509d1e43d717b9c7fab0.txt  \n",
            " extracting: train/labels/17_jpg.rf.cac8757c1a57d038d308c340bdb178ce.txt  \n",
            " extracting: train/labels/19_jpg.rf.61889e3f7d5c0334f516ebeee02b3b51.txt  \n",
            " extracting: train/labels/19_jpg.rf.b3fdcb66600e840ce3b355cd50041a7c.txt  \n",
            " extracting: train/labels/19_jpg.rf.da96516e09a3d24fc15cc8cdc7e72d95.txt  \n",
            " extracting: train/labels/1_jpg.rf.2648fe86500ea3a90493a160e64dab89.txt  \n",
            " extracting: train/labels/1_jpg.rf.3c67ee792ef9c7307b96610dcc1ea5e5.txt  \n",
            " extracting: train/labels/1_jpg.rf.9f4566e5318bb58f3e48aa6d0acd3e3d.txt  \n",
            " extracting: train/labels/20_jpg.rf.06b7fff0aa80a60016f35a5a58bfc418.txt  \n",
            " extracting: train/labels/20_jpg.rf.1fffa599f1f699ac1a7e22ad15da493e.txt  \n",
            " extracting: train/labels/20_jpg.rf.24a6934af1b5fb93e5ec9963140d18fe.txt  \n",
            " extracting: train/labels/21_jpg.rf.765ecd5d355192ef80b50b467b7962c4.txt  \n",
            " extracting: train/labels/21_jpg.rf.acc663a6566363fcd7f616c796f35d36.txt  \n",
            " extracting: train/labels/21_jpg.rf.e3f9414af99976a48fd50225d5982c30.txt  \n",
            " extracting: train/labels/22_jpg.rf.2ff01157d604e20a724a6604504c9f39.txt  \n",
            " extracting: train/labels/22_jpg.rf.8417d3b1c17e1a3e2c45c3bc760bc834.txt  \n",
            " extracting: train/labels/22_jpg.rf.8ae0b87e19f981a31e855a529499ec3f.txt  \n",
            " extracting: train/labels/24_jpg.rf.2834adafed95dff4503fed762d5d1c23.txt  \n",
            " extracting: train/labels/24_jpg.rf.425abaa6c1310e243472e2161de8194b.txt  \n",
            " extracting: train/labels/24_jpg.rf.be0468fc521778e40e84b3c5e0259afd.txt  \n",
            " extracting: train/labels/25_png.rf.7a01fd240bed52ed4cdc82c217cde711.txt  \n",
            " extracting: train/labels/25_png.rf.d29eedb8ff648e561d65818738587e15.txt  \n",
            " extracting: train/labels/25_png.rf.d7a7da02188061d2c7da8428afaac72e.txt  \n",
            " extracting: train/labels/26_jpg.rf.0f534c3d827fbae809b5e444caf2353c.txt  \n",
            " extracting: train/labels/26_jpg.rf.d67ab6b127d47018d5c5fb7791686336.txt  \n",
            " extracting: train/labels/26_jpg.rf.ddd2b850994eeb6668e90555e1e145ce.txt  \n",
            " extracting: train/labels/29_jpg.rf.03e3c233c1a6aad4f0bb62d33fdddb40.txt  \n",
            " extracting: train/labels/29_jpg.rf.69ad0b300206aaa2db31c0fd801a31cf.txt  \n",
            " extracting: train/labels/29_jpg.rf.76bdb60c4a6ffad34e6177148781e1a3.txt  \n",
            " extracting: train/labels/2_jpg.rf.06d5982e6b5ba1f9895a702e3a45b7ae.txt  \n",
            " extracting: train/labels/2_jpg.rf.4952d3466a77ab742608ef223804fe7f.txt  \n",
            " extracting: train/labels/2_jpg.rf.6e5588332e89907c3a54eb24aafd25e4.txt  \n",
            " extracting: train/labels/30_jpg.rf.098107810087a9f25ae0fe05414374ab.txt  \n",
            " extracting: train/labels/30_jpg.rf.235040151b5f4dab1ef6f30cb1e1a0b0.txt  \n",
            " extracting: train/labels/30_jpg.rf.b6eff3b211edeadb1421fa59c92f8f70.txt  \n",
            " extracting: train/labels/31_jpg.rf.2e1a557f91e1db7b3962c2cfa2da1b11.txt  \n",
            " extracting: train/labels/31_jpg.rf.4000d2770fef6919c3dccda043bef427.txt  \n",
            " extracting: train/labels/31_jpg.rf.6fcbedf3be08562db13cb9a1b9a0d65e.txt  \n",
            " extracting: train/labels/32_jpg.rf.03896251921708b3d12f0cb225b29a6f.txt  \n",
            " extracting: train/labels/32_jpg.rf.be186fab5a40a5611cb351be54ba7a9a.txt  \n",
            " extracting: train/labels/32_jpg.rf.eddacca0c9bb0051664f5fabd3f8c0cc.txt  \n",
            " extracting: train/labels/33_jpg.rf.3ea6b52acada238a77c4f7a831df095f.txt  \n",
            " extracting: train/labels/33_jpg.rf.731b9df05aeb4bef2ee20fa33924f1e3.txt  \n",
            " extracting: train/labels/33_jpg.rf.98df89169440770734f8ef2b3afcb325.txt  \n",
            " extracting: train/labels/34_jpg.rf.1fde3ba89f9d690b81cfc61937d66106.txt  \n",
            " extracting: train/labels/34_jpg.rf.56f87c14dd015d302a1bc984c7dccc55.txt  \n",
            " extracting: train/labels/34_jpg.rf.91576891b3d5f3686c8541fabdf8f496.txt  \n",
            " extracting: train/labels/35_jpg.rf.12baaafa321ce3852ca1ea4ae9e82626.txt  \n",
            " extracting: train/labels/35_jpg.rf.64a320a5a8641583a7482c05d8c51d9a.txt  \n",
            " extracting: train/labels/35_jpg.rf.eeebc6bc3949761fc08888e366a3707c.txt  \n",
            " extracting: train/labels/36_jpg.rf.1b927e7a3b866f91a5e7971ce1c6f4d0.txt  \n",
            " extracting: train/labels/36_jpg.rf.8116186e2e82a71cb056dc30d52f56ea.txt  \n",
            " extracting: train/labels/36_jpg.rf.b3773c8e5a6a0fdeef602957f06f915b.txt  \n",
            " extracting: train/labels/37_jpg.rf.00d69a724d67ebbb70358273d282e5ac.txt  \n",
            " extracting: train/labels/37_jpg.rf.1c40e459ad221b274a715b982fd13ccb.txt  \n",
            " extracting: train/labels/37_jpg.rf.dd4cc558062ace4374a965e49f5e053f.txt  \n",
            " extracting: train/labels/3_jpg.rf.163d2db16a6534d0654f148429d25432.txt  \n",
            " extracting: train/labels/3_jpg.rf.87801659b195004af35ef521e5095663.txt  \n",
            " extracting: train/labels/3_jpg.rf.8fe5b500da1fbd946f00fe7b04c84906.txt  \n",
            " extracting: train/labels/40_jpg.rf.39853ceac499684960cfa5e55abc9987.txt  \n",
            " extracting: train/labels/40_jpg.rf.82af0cb99c01f8252693dbb52b9cbb5c.txt  \n",
            " extracting: train/labels/40_jpg.rf.e5dd7d77ae63f664ba82fb7c161aa3e0.txt  \n",
            " extracting: train/labels/41_png.rf.008ff7c50196b0115a32ca7e02076597.txt  \n",
            " extracting: train/labels/41_png.rf.7c9622cd6cf3a5444ec6ca38901217dc.txt  \n",
            " extracting: train/labels/41_png.rf.a923a14b2580958f14a13f2e06ddc893.txt  \n",
            " extracting: train/labels/42_jpg.rf.a83551beb1191add51d03887a0a28a76.txt  \n",
            " extracting: train/labels/42_jpg.rf.b596d01a8ab258214dc8b5b8f903d443.txt  \n",
            " extracting: train/labels/42_jpg.rf.eb8a021f4c901c3bc780d7c75311a277.txt  \n",
            " extracting: train/labels/43_jpg.rf.23b17a32cb32d634babb578f9fbb99db.txt  \n",
            " extracting: train/labels/43_jpg.rf.6ad277a6a6dfb5f05ce8180485c04852.txt  \n",
            " extracting: train/labels/43_jpg.rf.eadb8de06ecf70cd35c6ddc876861dc6.txt  \n",
            " extracting: train/labels/44_jpg.rf.83f2568c56fafcee5a2b457b5b1973ee.txt  \n",
            " extracting: train/labels/44_jpg.rf.bbc01dea4e9e148fd11c70f8e8842e90.txt  \n",
            " extracting: train/labels/44_jpg.rf.d572746f45f1bb90754cfa9190b12094.txt  \n",
            " extracting: train/labels/45_jpg.rf.16522fe3681d48015917683105b909d4.txt  \n",
            " extracting: train/labels/45_jpg.rf.2ea0db87f852b2303498895a6e66c811.txt  \n",
            " extracting: train/labels/45_jpg.rf.a3bbe2f48fdf868f2c8fd077f885f70d.txt  \n",
            " extracting: train/labels/46_jpg.rf.3f66a682fc9fe55934d137845b3d8bcb.txt  \n",
            " extracting: train/labels/46_jpg.rf.590dc50901068457f963a49cd6369eaa.txt  \n",
            " extracting: train/labels/46_jpg.rf.77546d4a16b44d9c88af7460ab94e171.txt  \n",
            " extracting: train/labels/47_jpg.rf.037735c28b5c942391df20a729ba1274.txt  \n",
            " extracting: train/labels/47_jpg.rf.6fad1ad7ea8b051554a28801537cd16d.txt  \n",
            " extracting: train/labels/47_jpg.rf.dcdc36e536fc9470594e72b05a96aa2c.txt  \n",
            " extracting: train/labels/48_jpg.rf.6689d550974cd817f281066677ae45c1.txt  \n",
            " extracting: train/labels/48_jpg.rf.bbd1c34822a280fb1efa10d59e2009af.txt  \n",
            " extracting: train/labels/48_jpg.rf.ff810965aaf8973a99b15b2c793dd264.txt  \n",
            " extracting: train/labels/49_jpg.rf.002533ae13be5a336cf3fa342e1912fc.txt  \n",
            " extracting: train/labels/49_jpg.rf.0c34306cb80378d742f5b61105d1976e.txt  \n",
            " extracting: train/labels/49_jpg.rf.712a46d1c78542a5e62fc5eed8adf4c2.txt  \n",
            " extracting: train/labels/4_jpg.rf.9f80e2622296af3cda039690e347df5f.txt  \n",
            " extracting: train/labels/4_jpg.rf.c35f1e1f6589453fb6ce80777c6d6733.txt  \n",
            " extracting: train/labels/4_jpg.rf.e3c75d8c107abf34b0316725dac1a881.txt  \n",
            " extracting: train/labels/50_jpg.rf.268ecd7728ccd952fa71f204b60d81bc.txt  \n",
            " extracting: train/labels/50_jpg.rf.4bf7420008de8a385d15ef106fa17f6c.txt  \n",
            " extracting: train/labels/50_jpg.rf.81859fa5491a1ca03735315b40448695.txt  \n",
            " extracting: train/labels/51_jpg.rf.07de20794a3ce416a67a00a9aae15e47.txt  \n",
            " extracting: train/labels/51_jpg.rf.165ac0316e1fab758f59f611b8a25965.txt  \n",
            " extracting: train/labels/51_jpg.rf.c6419c4016d5d8db887c9229f9162721.txt  \n",
            " extracting: train/labels/52_jpg.rf.37c213ef676530bdf6ddd3bfa9d51607.txt  \n",
            " extracting: train/labels/52_jpg.rf.3a3d9da420d4c8450bd3673dbe5e7349.txt  \n",
            " extracting: train/labels/52_jpg.rf.4860a579d14720f9c197741119c297d1.txt  \n",
            " extracting: train/labels/53_jpg.rf.390b05be464617c6d3657bbc4d715716.txt  \n",
            " extracting: train/labels/53_jpg.rf.d55dbad30e1fb459055388f3502945c6.txt  \n",
            " extracting: train/labels/53_jpg.rf.f709e068f0eb90c6de6e57526990e117.txt  \n",
            " extracting: train/labels/54_jpg.rf.4c2cd2b137b34d78c4849d2d0b7da0fe.txt  \n",
            " extracting: train/labels/54_jpg.rf.cbeeec152677fbf21323f51265dcd69b.txt  \n",
            " extracting: train/labels/54_jpg.rf.d5dbc3da478dd700def01116941a0788.txt  \n",
            " extracting: train/labels/55_jpg.rf.0174e4af0200aafeae7d01dd8d288312.txt  \n",
            " extracting: train/labels/55_jpg.rf.ab21b9a32a67adeb165fc9243a1b45bf.txt  \n",
            " extracting: train/labels/55_jpg.rf.b0d7d158018bf1bb21d64b5e7b905edd.txt  \n",
            " extracting: train/labels/56_jpg.rf.227b50a62e40d54dfa85fbd4adf00821.txt  \n",
            " extracting: train/labels/56_jpg.rf.4149bff26a6d8f779df35962b1a2f200.txt  \n",
            " extracting: train/labels/56_jpg.rf.7f84a4457878a35ca5b8b1753287ee96.txt  \n",
            " extracting: train/labels/57_jpg.rf.30eb998e87186c8f3cb1688681d38c54.txt  \n",
            " extracting: train/labels/57_jpg.rf.8b30d481257e713f6bc316df093149a5.txt  \n",
            " extracting: train/labels/57_jpg.rf.f0024020f5ec9e2fa524e9a8031d8a86.txt  \n",
            " extracting: train/labels/58_jpg.rf.674e8eb840b4ef5dd47c426759b8d7fa.txt  \n",
            " extracting: train/labels/58_jpg.rf.9f7c022f93ec10671ba52eff3bb9778b.txt  \n",
            " extracting: train/labels/58_jpg.rf.e03cca0d3bcf57d106c0574c2256203d.txt  \n",
            " extracting: train/labels/59_jpg.rf.051ef9db26477f7863288114c38b1de5.txt  \n",
            " extracting: train/labels/59_jpg.rf.be247ce9afd57e27b1b399a22ff0343e.txt  \n",
            " extracting: train/labels/59_jpg.rf.d3af80b791ce0519fae61a68ceed4797.txt  \n",
            " extracting: train/labels/5_jpg.rf.51111306eba2011261cc6d418dc781dd.txt  \n",
            " extracting: train/labels/5_jpg.rf.592b3dc29f41dd7514733f211fbb020e.txt  \n",
            " extracting: train/labels/5_jpg.rf.6f87af48698817cdf4fa7c6b52db5a9e.txt  \n",
            " extracting: train/labels/60_png.rf.72ec91594bad8e8662609ed68b3b9a48.txt  \n",
            " extracting: train/labels/60_png.rf.a10ff81f0a75afada227fa5c5461199f.txt  \n",
            " extracting: train/labels/60_png.rf.cfa4af583d4c6e517dccd764e67d143f.txt  \n",
            " extracting: train/labels/61_jpg.rf.088465ed8ecf21ce7dd33b077690865f.txt  \n",
            " extracting: train/labels/61_jpg.rf.34dcf6c5440a7d51c5fa2db1c7b2f6c5.txt  \n",
            " extracting: train/labels/61_jpg.rf.76f24e5847900f00ce72280c2755b812.txt  \n",
            " extracting: train/labels/62_jpg.rf.38d670e5dc8e5e94f1c509a2fbc15cd6.txt  \n",
            " extracting: train/labels/62_jpg.rf.6daae316d425dcf2e67949d4679a9950.txt  \n",
            " extracting: train/labels/62_jpg.rf.6f31ddcd8214d13dd2999609ee0370c7.txt  \n",
            " extracting: train/labels/63_jpg.rf.711cec395c09897f64b56d13d96bfef5.txt  \n",
            " extracting: train/labels/63_jpg.rf.88025ccab93c050bf77402ca35965999.txt  \n",
            " extracting: train/labels/63_jpg.rf.cd540e2200824ec879624511215da23a.txt  \n",
            " extracting: train/labels/65_jpg.rf.9c3083a0fc152938b17ee9e9c8fe818d.txt  \n",
            " extracting: train/labels/65_jpg.rf.bdf0c1d1dc535626391861ddc167cf1d.txt  \n",
            " extracting: train/labels/65_jpg.rf.f0c7b8f21de9fac4341064bea21c470e.txt  \n",
            " extracting: train/labels/66_jpg.rf.231fe82c06522d6d1a07db408d0c12eb.txt  \n",
            " extracting: train/labels/66_jpg.rf.7e9fa128f3dd38fb03e90971f2006423.txt  \n",
            " extracting: train/labels/66_jpg.rf.c89fc4f8e1f42f257626a99ebdc2390c.txt  \n",
            " extracting: train/labels/67_jpg.rf.36c8888a510851154b90dbf98b78043f.txt  \n",
            " extracting: train/labels/67_jpg.rf.426691e266211a826da7b3eca129fb75.txt  \n",
            " extracting: train/labels/67_jpg.rf.c35c9646fd51e610a614b8f2cc8baa5e.txt  \n",
            " extracting: train/labels/69_jpg.rf.88d667249f63329449b08c73f6a32d15.txt  \n",
            " extracting: train/labels/69_jpg.rf.96014f5834caecec4a04e549e3edcd46.txt  \n",
            " extracting: train/labels/69_jpg.rf.b7b1178bd73a77396c22945f086271c9.txt  \n",
            " extracting: train/labels/6_jpg.rf.bcec6c4b44ba8d1a7d0730f220d99f69.txt  \n",
            " extracting: train/labels/6_jpg.rf.c7c10aab76d16c1edb3725ec93fe7bef.txt  \n",
            " extracting: train/labels/6_jpg.rf.e3c6dcb9511864f4b8a10f6a5ecf1ad4.txt  \n",
            " extracting: train/labels/70_jpg.rf.14c6be90eaecaf578d848a82d09765b7.txt  \n",
            " extracting: train/labels/70_jpg.rf.2baa9f494ee8a424d888946eecfddc4f.txt  \n",
            " extracting: train/labels/70_jpg.rf.a65f594a718ba99f07659dfcce91e8ed.txt  \n",
            " extracting: train/labels/71_jpg.rf.02318a85f55cf4a0fb0a1c3768427bd4.txt  \n",
            " extracting: train/labels/71_jpg.rf.a7ac7dd3da4ab648b74e6694d33c36f6.txt  \n",
            " extracting: train/labels/71_jpg.rf.b320417b6901990903f7f637153ee0c7.txt  \n",
            " extracting: train/labels/72_jpg.rf.0c4b85b92f24370c39e3aa44fbb18d45.txt  \n",
            " extracting: train/labels/72_jpg.rf.655ab3813058dc59a7ce35e1ddc12223.txt  \n",
            " extracting: train/labels/72_jpg.rf.6a6a7574cf109ad9492d5ef40180ee50.txt  \n",
            " extracting: train/labels/73_jpg.rf.516dfe6d057e381c29e7a458fae124d5.txt  \n",
            " extracting: train/labels/73_jpg.rf.ce80a1bb335d4f064413632e7a6ba3a4.txt  \n",
            " extracting: train/labels/73_jpg.rf.dca05db9f9756e40fb3a577631aae1ab.txt  \n",
            " extracting: train/labels/74_jpg.rf.a25515f69926769e8b5647842335c240.txt  \n",
            " extracting: train/labels/74_jpg.rf.e94a0cd68b6a31061cd11f7243ea9255.txt  \n",
            " extracting: train/labels/74_jpg.rf.edc809141edb380331622ed3f6dd5c76.txt  \n",
            " extracting: train/labels/75_jpg.rf.337acd2020fe843e10692efbc594d202.txt  \n",
            " extracting: train/labels/75_jpg.rf.35506d3e39e88b0f7983863843b4c879.txt  \n",
            " extracting: train/labels/75_jpg.rf.b996b821dc69d45f4dfd677e4fe4ddd1.txt  \n",
            " extracting: train/labels/77_jpg.rf.38cdf164843ab98385f6bdc6ae690c80.txt  \n",
            " extracting: train/labels/77_jpg.rf.a1f0af98ffa7c2f721f24995fe46d10c.txt  \n",
            " extracting: train/labels/77_jpg.rf.a991b6cb4dd53f8f5f4327564dcdf8b9.txt  \n",
            " extracting: train/labels/78_jpg.rf.71a19daf7be4c99d698a88e47a998598.txt  \n",
            " extracting: train/labels/78_jpg.rf.7fff6de7b65bc3b5999c76cbc5fad699.txt  \n",
            " extracting: train/labels/78_jpg.rf.b01ede24730f0e31892cee0e52336d93.txt  \n",
            " extracting: train/labels/79_jpg.rf.1de025de4ee4381fea02fb4cf6a01431.txt  \n",
            " extracting: train/labels/79_jpg.rf.6604457846ca9eca3492ccff5e3d4b5e.txt  \n",
            " extracting: train/labels/79_jpg.rf.d754cee5dd4f509a36e054a992a1c7db.txt  \n",
            " extracting: train/labels/7_jpg.rf.00c010f41526d33bcfa5ba4ff7b25dcb.txt  \n",
            " extracting: train/labels/7_jpg.rf.26f7529f3ddcfa595a005b5393520d9b.txt  \n",
            " extracting: train/labels/7_jpg.rf.be403d2c3f4b2225e763dfa04c09f420.txt  \n",
            " extracting: train/labels/80_jpg.rf.01c56129406e270bf513e9d962d2e4ad.txt  \n",
            " extracting: train/labels/80_jpg.rf.62323ca048adebf298535268f4289e5f.txt  \n",
            " extracting: train/labels/80_jpg.rf.c4838dfffc6ced633996902cdc334dfc.txt  \n",
            " extracting: train/labels/81_jpg.rf.55cf94222584b1df06b04d3ea9d0e721.txt  \n",
            " extracting: train/labels/81_jpg.rf.d6b76678e44855b9ec623d3df7bc4698.txt  \n",
            " extracting: train/labels/81_jpg.rf.f2c7dc407a51da8adb11cccc5cf1e2e9.txt  \n",
            " extracting: train/labels/83_jpg.rf.83729a9864f2b31c29310be0db33889f.txt  \n",
            " extracting: train/labels/83_jpg.rf.b8f2344f94e5da144c2e00c30b30020e.txt  \n",
            " extracting: train/labels/83_jpg.rf.f51dcb46169ca5de7560123fb6cd4dd2.txt  \n",
            " extracting: train/labels/84_jpg.rf.099e8b9795a3b06252411cea32d794d2.txt  \n",
            " extracting: train/labels/84_jpg.rf.1bd861495a254ddbcf9d660a2a0a5b24.txt  \n",
            " extracting: train/labels/84_jpg.rf.4a48f5e7caa36f0146e3c204544cbbd9.txt  \n",
            " extracting: train/labels/85_jpg.rf.66308937a331bfd96f9abf16ef798638.txt  \n",
            " extracting: train/labels/85_jpg.rf.af2c97ca683da2ba2a7175d01da95df0.txt  \n",
            " extracting: train/labels/85_jpg.rf.cc70e4bd355909aa7f905fa866e16f9e.txt  \n",
            " extracting: train/labels/86_jpg.rf.0591417141e0ede6af5b5ab894f5a9f7.txt  \n",
            " extracting: train/labels/86_jpg.rf.2fe04dcdf160f826115c541e105eacc9.txt  \n",
            " extracting: train/labels/86_jpg.rf.6d5aa7ae4d8061d59f74c1b308fd58af.txt  \n",
            " extracting: train/labels/87_jpg.rf.1256e681a7dcb45d24bd4da8b8aea58f.txt  \n",
            " extracting: train/labels/87_jpg.rf.9a623c521bdc6a976e27ae3da0e4c44f.txt  \n",
            " extracting: train/labels/87_jpg.rf.d8fcc0733e4545a9e980219c6c659d46.txt  \n",
            " extracting: train/labels/88_jpg.rf.4ba03dbc739d94473ccf9eec4e4aa4a8.txt  \n",
            " extracting: train/labels/88_jpg.rf.8de4add4334196fb84b58e165797bc8d.txt  \n",
            " extracting: train/labels/88_jpg.rf.fe5c3e536ac4514997855b3f7a79be9e.txt  \n",
            " extracting: train/labels/89_jpg.rf.639ebe7fed3c3e2464bebfaab9903699.txt  \n",
            " extracting: train/labels/89_jpg.rf.8b45beb8cbe196fcb33fbc8fda6ed0ea.txt  \n",
            " extracting: train/labels/89_jpg.rf.9ec76f71374516286c5a99344c3e8cf3.txt  \n",
            " extracting: train/labels/8_jpg.rf.010302cfbf484305fb5cd94a2cba056c.txt  \n",
            " extracting: train/labels/8_jpg.rf.b394ab61aae8380075e631c5f72e9fe7.txt  \n",
            " extracting: train/labels/8_jpg.rf.c67987c092800041060bf2ebe7e1dca1.txt  \n",
            " extracting: train/labels/90_jpg.rf.c1dc063f3261ce0743e280a21b3b44a3.txt  \n",
            " extracting: train/labels/90_jpg.rf.d4455e0a5370c7a464dc8b1bfaffcb8b.txt  \n",
            " extracting: train/labels/90_jpg.rf.fa9b8ea09922f8a0eaef3b2b5c15d9e1.txt  \n",
            " extracting: train/labels/91_png.rf.97d53157e80d3110fae7791b4a8ecf5c.txt  \n",
            " extracting: train/labels/91_png.rf.a53ddaa83e7c35de0767d69ac4db7bc4.txt  \n",
            " extracting: train/labels/91_png.rf.fec100566c87cf50098679ed490c7413.txt  \n",
            " extracting: train/labels/94_jpg.rf.1cf666b273f4aec72966ebc44b39cc6d.txt  \n",
            " extracting: train/labels/94_jpg.rf.cf7ec5909c8971ed7735267b0ee59abb.txt  \n",
            " extracting: train/labels/94_jpg.rf.d131cb3b7154b22f50ba57869eb5017e.txt  \n",
            " extracting: train/labels/95_png.rf.25984b3115188910932165c734241a90.txt  \n",
            " extracting: train/labels/95_png.rf.4b93ba44a478fde6d0579ac5331a1670.txt  \n",
            " extracting: train/labels/95_png.rf.7dd3f272b4b14180611c365fa878866a.txt  \n",
            " extracting: train/labels/96_jpg.rf.094f7be147a97ee6645c9c7bea19c80f.txt  \n",
            " extracting: train/labels/96_jpg.rf.3129db27715efd3e8837bd79badb1b56.txt  \n",
            " extracting: train/labels/96_jpg.rf.83c992164ff43082ab0c4ba585a3041d.txt  \n",
            " extracting: train/labels/97_jpg.rf.82e4f413e18c811832737ada5e7e7edb.txt  \n",
            " extracting: train/labels/97_jpg.rf.a2e4b31f4ccbfa640249299c88d6a132.txt  \n",
            " extracting: train/labels/97_jpg.rf.f7d17cf52e8780c4788dc50cd71b170b.txt  \n",
            " extracting: train/labels/98_jpg.rf.2245a44386e9892a35a8c4cdf17887b5.txt  \n",
            " extracting: train/labels/98_jpg.rf.3a5686f5dd18146b37ea629f638357d6.txt  \n",
            " extracting: train/labels/98_jpg.rf.a022284476a91e5b1e5b892d90c9676f.txt  \n",
            " extracting: train/labels/99_jpg.rf.755ab04cef04acb298b2b29fb053db11.txt  \n",
            " extracting: train/labels/99_jpg.rf.878d5498cf6c0dfb50c79fef28c86dda.txt  \n",
            " extracting: train/labels/99_jpg.rf.aad9b472840a968f2477be329bcdd736.txt  \n",
            " extracting: train/labels/9_jpg.rf.50b05b2df85130b2fa3b6caf9eb44a51.txt  \n",
            " extracting: train/labels/9_jpg.rf.b533334c18d423100acb39441e74c757.txt  \n",
            " extracting: train/labels/9_jpg.rf.d5497c0ab5b267ec207dc66080f85b9c.txt  \n",
            " extracting: train/labels/yellow_stop_sign_jpg.rf.98a0ab4cc51aa30c0ac197828bf0d11c.txt  \n",
            " extracting: train/labels/yellow_stop_sign_jpg.rf.a84d7bea214f06a54f97ba0970ed53f7.txt  \n",
            " extracting: train/labels/yellow_stop_sign_jpg.rf.f5860588faf88a3b6f4d6b85fc0febc8.txt  \n",
            "   creating: valid/\n",
            "   creating: valid/images/\n",
            " extracting: valid/images/105_jpg.rf.6dbdffc97722180e5bd22b833a223d60.jpg  \n",
            " extracting: valid/images/118_jpg.rf.dae02b9658d58d539b3616b9b59620bf.jpg  \n",
            " extracting: valid/images/138_jpg.rf.1e68b1ddb03ec7fe706af8d4abb2b1c4.jpg  \n",
            " extracting: valid/images/14_jpg.rf.6ad0940f82603a88899032bef7b88204.jpg  \n",
            " extracting: valid/images/18_jpg.rf.7b0debbc18027674ac88221d71813ff5.jpg  \n",
            " extracting: valid/images/23_jpg.rf.5b5be02ddd148ab7fb8fc494f2311be3.jpg  \n",
            " extracting: valid/images/27_jpg.rf.8e128ae607197aa06ff57e98c3954dfb.jpg  \n",
            " extracting: valid/images/28_jpg.rf.98600026e13263d2380e00eeb22a6e95.jpg  \n",
            " extracting: valid/images/38_jpg.rf.fb5c5f22cca408982ef2363dbd749d1f.jpg  \n",
            " extracting: valid/images/39_jpg.rf.80e81bb2218cce232aeb63404d41601d.jpg  \n",
            " extracting: valid/images/64_jpg.rf.f79c4fc86fe789c0ef1d89927deb5ab3.jpg  \n",
            " extracting: valid/images/68_jpg.rf.21670ee578709f7aba1f94b96c7c427d.jpg  \n",
            " extracting: valid/images/76_png.rf.e50c7f385051ffdd22ec75cd2ee41c02.jpg  \n",
            " extracting: valid/images/82_jpg.rf.bac8c1a90b50145ca09b1d9968752680.jpg  \n",
            " extracting: valid/images/93_jpg.rf.fadfe9a81d47a0e75451e5b8e833fa55.jpg  \n",
            "   creating: valid/labels/\n",
            " extracting: valid/labels/105_jpg.rf.6dbdffc97722180e5bd22b833a223d60.txt  \n",
            " extracting: valid/labels/118_jpg.rf.dae02b9658d58d539b3616b9b59620bf.txt  \n",
            " extracting: valid/labels/138_jpg.rf.1e68b1ddb03ec7fe706af8d4abb2b1c4.txt  \n",
            " extracting: valid/labels/14_jpg.rf.6ad0940f82603a88899032bef7b88204.txt  \n",
            " extracting: valid/labels/18_jpg.rf.7b0debbc18027674ac88221d71813ff5.txt  \n",
            " extracting: valid/labels/23_jpg.rf.5b5be02ddd148ab7fb8fc494f2311be3.txt  \n",
            " extracting: valid/labels/27_jpg.rf.8e128ae607197aa06ff57e98c3954dfb.txt  \n",
            " extracting: valid/labels/28_jpg.rf.98600026e13263d2380e00eeb22a6e95.txt  \n",
            " extracting: valid/labels/38_jpg.rf.fb5c5f22cca408982ef2363dbd749d1f.txt  \n",
            " extracting: valid/labels/39_jpg.rf.80e81bb2218cce232aeb63404d41601d.txt  \n",
            " extracting: valid/labels/64_jpg.rf.f79c4fc86fe789c0ef1d89927deb5ab3.txt  \n",
            " extracting: valid/labels/68_jpg.rf.21670ee578709f7aba1f94b96c7c427d.txt  \n",
            " extracting: valid/labels/76_png.rf.e50c7f385051ffdd22ec75cd2ee41c02.txt  \n",
            " extracting: valid/labels/82_jpg.rf.bac8c1a90b50145ca09b1d9968752680.txt  \n",
            " extracting: valid/labels/93_jpg.rf.fadfe9a81d47a0e75451e5b8e833fa55.txt  \n"
          ]
        }
      ]
    },
    {
      "cell_type": "markdown",
      "source": [
        "### Edit the data yaml file to point to train and test img folders."
      ],
      "metadata": {
        "id": "x4O-5F8pqiBk"
      }
    },
    {
      "cell_type": "code",
      "source": [
        "%%writefile data.yaml\n",
        "train: ./train/images\n",
        "val: ./valid/images\n",
        "test: ./test/images\n",
        "\n",
        "nc: 1\n",
        "names: ['stop']"
      ],
      "metadata": {
        "colab": {
          "base_uri": "https://localhost:8080/"
        },
        "id": "a5JAj3tTGLb_",
        "outputId": "f1e2a6e0-6de8-4270-e87a-0460e12e17b9"
      },
      "execution_count": 5,
      "outputs": [
        {
          "output_type": "stream",
          "name": "stdout",
          "text": [
            "Overwriting data.yaml\n"
          ]
        }
      ]
    },
    {
      "cell_type": "markdown",
      "source": [
        "### Importing the YOLOV7 trainer class from modoptima"
      ],
      "metadata": {
        "id": "9--R_69WqyQ1"
      }
    },
    {
      "cell_type": "code",
      "source": [
        "from modoptima.MasterTrainer import YOLOV7"
      ],
      "metadata": {
        "colab": {
          "base_uri": "https://localhost:8080/"
        },
        "id": "-yQul3K5GREH",
        "outputId": "b39b6ee6-b85f-4fb0-b0a7-59379632d040"
      },
      "execution_count": 1,
      "outputs": [
        {
          "output_type": "stream",
          "name": "stdout",
          "text": [
            "Import onnx_graphsurgeon failure: No module named 'onnx_graphsurgeon'\n"
          ]
        }
      ]
    },
    {
      "cell_type": "code",
      "source": [
        "!rm -rf /content/optmodel"
      ],
      "metadata": {
        "id": "7Kqr-CJkwhW-"
      },
      "execution_count": 4,
      "outputs": []
    },
    {
      "cell_type": "markdown",
      "source": [
        "### Creating the pruned and quantized tiny YOLO V7 model.\n",
        "\n",
        "##### Here we are creating a pruned and quantized model for my stop sign datasets. The <i> epoch param </i> is used for setting the no of epochs for which we need to train the model,<i> data </i> param is used to specify the data yaml of the dataset in the same way as we do for training the yolo v7 model using official code,<i> weights </i> param in this case is set to weights meaning we want to initialize our weights from scratch. In case we want to resume training we can set the <i> weights </i> params to the model path. In case we want to do transfer learning from a already trained modoptima model we need to specify the path to the pt file and set transfer_learning params to True. The param <i> notest </i> is used to specify whether we want to test the model at each epoch in training,<i> quantization </i> param is set to true is we want to quantize the model. Setting it to false will just create a pruned model,<i>prun_start_epoch </i> param is used to specify the epoch from which pruning should begin and <i> prun_end_epoch </i> specify the epoch upto which the pruning should be continued. The <i> quant_start_epoch </i> is used to specify the epoch at which the quantization should begin."
      ],
      "metadata": {
        "id": "8J25bXvGq-Um"
      }
    },
    {
      "cell_type": "code",
      "source": [
        "tiny_yolo=YOLOV7(batch_size=32\n",
        "                                     ,epochs=150,\n",
        "                                     data='/content/data.yaml',\n",
        "                                     weights='weights',\n",
        "                                     device='cuda:0',\n",
        "                                     notest=False,quantize=True,prun_start_epoch=0,prun_end_epoch=90,quant_start_ep=97)\n",
        "#In case of transfer learning.\n",
        "\n",
        "# tiny_yolo=YOLOV7(batch_size=32\n",
        "#                                      ,epochs=100,\n",
        "#                                      data='/content/data.yaml',\n",
        "#                                      weights='/modelpath/model.pt',\n",
        "#                                      device='cuda:0',\n",
        "#                                      notest=False,quantize=True,prun_start_epoch=0,prun_end_epoch=90,quant_start_ep=97,transfer_learning=True)\n",
        "\n",
        "\n",
        "#For resuming the training from some epoch.\n",
        "\n",
        "# tiny_yolo=YOLOV7(batch_size=32\n",
        "#                                      ,epochs=100,\n",
        "#                                      data='/content/data.yaml',\n",
        "#                                      weights='/modelpath/ckpt.pt',\n",
        "#                                      device='cuda:0',\n",
        "#                                      notest=False,quantize=True,prun_start_epoch=0,prun_end_epoch=90,quant_start_ep=97)\n",
        "\n",
        "\n"
      ],
      "metadata": {
        "id": "nlnOw_Y8GhAw"
      },
      "execution_count": 5,
      "outputs": []
    },
    {
      "cell_type": "markdown",
      "source": [
        "### Calling this function to create the pruned and quantized model."
      ],
      "metadata": {
        "id": "xev2216btQHI"
      }
    },
    {
      "cell_type": "code",
      "source": [
        "tiny_yolo.create_optimized_model()"
      ],
      "metadata": {
        "colab": {
          "base_uri": "https://localhost:8080/"
        },
        "id": "WHuCRa_CGmOX",
        "outputId": "3d7f1370-e218-485e-ff51-a801b5336b7a"
      },
      "execution_count": 6,
      "outputs": [
        {
          "output_type": "stream",
          "name": "stdout",
          "text": [
            "\u001b[34m\u001b[1mgithub: \u001b[0mskipping check (not a git repository)\n",
            "\u001b[31m\u001b[1mrequirements:\u001b[0m /content/requirements.txt not found, check failed.\n",
            "\u001b[34m\u001b[1mwandb: \u001b[0mInstall Weights & Biases for YOLOR logging with 'pip install wandb' (recommended)\n"
          ]
        },
        {
          "output_type": "stream",
          "name": "stderr",
          "text": [
            "\u001b[34m\u001b[1mtrain: \u001b[0mScanning 'train/labels.cache' images and labels... 408 found, 0 missing, 0 empty, 0 corrupted: 100%|██████████| 408/408 [00:00<?, ?it/s]\n",
            "\u001b[34m\u001b[1mval: \u001b[0mScanning 'valid/labels.cache' images and labels... 15 found, 0 missing, 0 empty, 0 corrupted: 100%|██████████| 15/15 [00:00<?, ?it/s]\n"
          ]
        },
        {
          "output_type": "stream",
          "name": "stdout",
          "text": [
            "\n",
            "\u001b[34m\u001b[1mautoanchor: \u001b[0mAnalyzing anchors... anchors/target = 4.48, Best Possible Recall (BPR) = 1.0000\n"
          ]
        },
        {
          "output_type": "stream",
          "name": "stderr",
          "text": [
            "     0/149     7.81G   0.07548   0.01486         0   0.09034        48       640: 100%|██████████| 13/13 [00:21<00:00,  1.63s/it]\n"
          ]
        },
        {
          "output_type": "stream",
          "name": "stdout",
          "text": [
            "Testing with YOLOv5 AP metric...\n"
          ]
        },
        {
          "output_type": "stream",
          "name": "stderr",
          "text": [
            "               Class      Images      Labels           P           R      mAP@.5  mAP@.5:.95: 100%|██████████| 1/1 [00:01<00:00,  1.41s/it]\n"
          ]
        },
        {
          "output_type": "stream",
          "name": "stdout",
          "text": [
            "                 all          15          15     0.00649       0.467     0.00776     0.00163\n"
          ]
        },
        {
          "output_type": "stream",
          "name": "stderr",
          "text": [
            "     1/149     7.81G   0.07044   0.01333         0   0.08377        69       640: 100%|██████████| 13/13 [00:15<00:00,  1.23s/it]\n"
          ]
        },
        {
          "output_type": "stream",
          "name": "stdout",
          "text": [
            "Testing with YOLOv5 AP metric...\n"
          ]
        },
        {
          "output_type": "stream",
          "name": "stderr",
          "text": [
            "               Class      Images      Labels           P           R      mAP@.5  mAP@.5:.95: 100%|██████████| 1/1 [00:00<00:00,  2.16it/s]\n"
          ]
        },
        {
          "output_type": "stream",
          "name": "stdout",
          "text": [
            "                 all          15          15     0.00316       0.867     0.00333    0.000809\n"
          ]
        },
        {
          "output_type": "stream",
          "name": "stderr",
          "text": [
            "     2/149     7.82G   0.06824   0.01182         0   0.08006        52       640: 100%|██████████| 13/13 [00:20<00:00,  1.58s/it]\n"
          ]
        },
        {
          "output_type": "stream",
          "name": "stdout",
          "text": [
            "Testing with YOLOv5 AP metric...\n"
          ]
        },
        {
          "output_type": "stream",
          "name": "stderr",
          "text": [
            "               Class      Images      Labels           P           R      mAP@.5  mAP@.5:.95: 100%|██████████| 1/1 [00:00<00:00,  1.66it/s]\n"
          ]
        },
        {
          "output_type": "stream",
          "name": "stdout",
          "text": [
            "                 all          15          15     0.00311       0.933     0.00331    0.000676\n"
          ]
        },
        {
          "output_type": "stream",
          "name": "stderr",
          "text": [
            "     3/149     7.84G   0.06591   0.01131         0   0.07722        61       640: 100%|██████████| 13/13 [00:18<00:00,  1.44s/it]\n"
          ]
        },
        {
          "output_type": "stream",
          "name": "stdout",
          "text": [
            "Testing with YOLOv5 AP metric...\n"
          ]
        },
        {
          "output_type": "stream",
          "name": "stderr",
          "text": [
            "               Class      Images      Labels           P           R      mAP@.5  mAP@.5:.95: 100%|██████████| 1/1 [00:00<00:00,  3.07it/s]\n"
          ]
        },
        {
          "output_type": "stream",
          "name": "stdout",
          "text": [
            "                 all          15          15     0.00244       0.733     0.00241     0.00063\n"
          ]
        },
        {
          "output_type": "stream",
          "name": "stderr",
          "text": [
            "     4/149     7.86G   0.06539   0.01005         0   0.07544        59       640: 100%|██████████| 13/13 [00:19<00:00,  1.47s/it]\n"
          ]
        },
        {
          "output_type": "stream",
          "name": "stdout",
          "text": [
            "Testing with YOLOv5 AP metric...\n"
          ]
        },
        {
          "output_type": "stream",
          "name": "stderr",
          "text": [
            "               Class      Images      Labels           P           R      mAP@.5  mAP@.5:.95: 100%|██████████| 1/1 [00:00<00:00,  2.55it/s]\n"
          ]
        },
        {
          "output_type": "stream",
          "name": "stdout",
          "text": [
            "                 all          15          15     0.00241       0.467     0.00281    0.000732\n"
          ]
        },
        {
          "output_type": "stream",
          "name": "stderr",
          "text": [
            "     5/149     7.86G   0.06504  0.009666         0   0.07471        71       640: 100%|██████████| 13/13 [00:17<00:00,  1.31s/it]\n"
          ]
        },
        {
          "output_type": "stream",
          "name": "stdout",
          "text": [
            "Testing with YOLOv5 AP metric...\n"
          ]
        },
        {
          "output_type": "stream",
          "name": "stderr",
          "text": [
            "               Class      Images      Labels           P           R      mAP@.5  mAP@.5:.95: 100%|██████████| 1/1 [00:00<00:00,  2.83it/s]\n"
          ]
        },
        {
          "output_type": "stream",
          "name": "stdout",
          "text": [
            "                 all          15          15     0.00267         0.8     0.00298     0.00078\n"
          ]
        },
        {
          "output_type": "stream",
          "name": "stderr",
          "text": [
            "     6/149     7.86G   0.06485  0.009156         0     0.074        46       640: 100%|██████████| 13/13 [00:17<00:00,  1.32s/it]\n"
          ]
        },
        {
          "output_type": "stream",
          "name": "stdout",
          "text": [
            "Testing with YOLOv5 AP metric...\n"
          ]
        },
        {
          "output_type": "stream",
          "name": "stderr",
          "text": [
            "               Class      Images      Labels           P           R      mAP@.5  mAP@.5:.95: 100%|██████████| 1/1 [00:00<00:00,  2.12it/s]\n"
          ]
        },
        {
          "output_type": "stream",
          "name": "stdout",
          "text": [
            "                 all          15          15     0.00278         0.8     0.00389    0.000681\n"
          ]
        },
        {
          "output_type": "stream",
          "name": "stderr",
          "text": [
            "     7/149     7.86G   0.06397  0.009144         0   0.07311        47       640: 100%|██████████| 13/13 [00:15<00:00,  1.22s/it]\n"
          ]
        },
        {
          "output_type": "stream",
          "name": "stdout",
          "text": [
            "Testing with YOLOv5 AP metric...\n"
          ]
        },
        {
          "output_type": "stream",
          "name": "stderr",
          "text": [
            "               Class      Images      Labels           P           R      mAP@.5  mAP@.5:.95: 100%|██████████| 1/1 [00:00<00:00,  2.46it/s]\n"
          ]
        },
        {
          "output_type": "stream",
          "name": "stdout",
          "text": [
            "                 all          15          15     0.00506       0.467     0.00658     0.00111\n"
          ]
        },
        {
          "output_type": "stream",
          "name": "stderr",
          "text": [
            "     8/149     7.86G    0.0635  0.009475         0   0.07298        59       640: 100%|██████████| 13/13 [00:14<00:00,  1.12s/it]\n"
          ]
        },
        {
          "output_type": "stream",
          "name": "stdout",
          "text": [
            "Testing with YOLOv5 AP metric...\n"
          ]
        },
        {
          "output_type": "stream",
          "name": "stderr",
          "text": [
            "               Class      Images      Labels           P           R      mAP@.5  mAP@.5:.95: 100%|██████████| 1/1 [00:00<00:00,  2.66it/s]\n"
          ]
        },
        {
          "output_type": "stream",
          "name": "stdout",
          "text": [
            "                 all          15          15      0.0262      0.0667      0.0106     0.00142\n"
          ]
        },
        {
          "output_type": "stream",
          "name": "stderr",
          "text": [
            "     9/149     7.86G   0.06221  0.009238         0   0.07145        56       640: 100%|██████████| 13/13 [00:15<00:00,  1.20s/it]\n"
          ]
        },
        {
          "output_type": "stream",
          "name": "stdout",
          "text": [
            "Testing with YOLOv5 AP metric...\n"
          ]
        },
        {
          "output_type": "stream",
          "name": "stderr",
          "text": [
            "               Class      Images      Labels           P           R      mAP@.5  mAP@.5:.95: 100%|██████████| 1/1 [00:00<00:00,  2.56it/s]\n"
          ]
        },
        {
          "output_type": "stream",
          "name": "stdout",
          "text": [
            "                 all          15          15       0.104       0.133      0.0625      0.0118\n"
          ]
        },
        {
          "output_type": "stream",
          "name": "stderr",
          "text": [
            "    10/149     7.86G   0.06275  0.009429         0   0.07218        66       640: 100%|██████████| 13/13 [00:15<00:00,  1.18s/it]\n"
          ]
        },
        {
          "output_type": "stream",
          "name": "stdout",
          "text": [
            "Testing with YOLOv5 AP metric...\n"
          ]
        },
        {
          "output_type": "stream",
          "name": "stderr",
          "text": [
            "               Class      Images      Labels           P           R      mAP@.5  mAP@.5:.95: 100%|██████████| 1/1 [00:00<00:00,  2.95it/s]\n"
          ]
        },
        {
          "output_type": "stream",
          "name": "stdout",
          "text": [
            "                 all          15          15       0.164       0.333       0.187       0.047\n"
          ]
        },
        {
          "output_type": "stream",
          "name": "stderr",
          "text": [
            "    11/149     7.86G   0.06068  0.008941         0   0.06962        55       640: 100%|██████████| 13/13 [00:16<00:00,  1.26s/it]\n"
          ]
        },
        {
          "output_type": "stream",
          "name": "stdout",
          "text": [
            "Testing with YOLOv5 AP metric...\n"
          ]
        },
        {
          "output_type": "stream",
          "name": "stderr",
          "text": [
            "               Class      Images      Labels           P           R      mAP@.5  mAP@.5:.95: 100%|██████████| 1/1 [00:00<00:00,  3.09it/s]\n"
          ]
        },
        {
          "output_type": "stream",
          "name": "stdout",
          "text": [
            "                 all          15          15       0.248       0.132       0.137       0.026\n"
          ]
        },
        {
          "output_type": "stream",
          "name": "stderr",
          "text": [
            "    12/149     7.86G      0.06  0.009277         0   0.06928        56       640: 100%|██████████| 13/13 [00:15<00:00,  1.19s/it]\n"
          ]
        },
        {
          "output_type": "stream",
          "name": "stdout",
          "text": [
            "Testing with YOLOv5 AP metric...\n"
          ]
        },
        {
          "output_type": "stream",
          "name": "stderr",
          "text": [
            "               Class      Images      Labels           P           R      mAP@.5  mAP@.5:.95: 100%|██████████| 1/1 [00:00<00:00,  3.14it/s]\n"
          ]
        },
        {
          "output_type": "stream",
          "name": "stdout",
          "text": [
            "                 all          15          15       0.147         0.6       0.125      0.0392\n"
          ]
        },
        {
          "output_type": "stream",
          "name": "stderr",
          "text": [
            "    13/149     7.86G   0.05867  0.009457         0   0.06812        59       640: 100%|██████████| 13/13 [00:15<00:00,  1.22s/it]\n"
          ]
        },
        {
          "output_type": "stream",
          "name": "stdout",
          "text": [
            "Testing with YOLOv5 AP metric...\n"
          ]
        },
        {
          "output_type": "stream",
          "name": "stderr",
          "text": [
            "               Class      Images      Labels           P           R      mAP@.5  mAP@.5:.95: 100%|██████████| 1/1 [00:00<00:00,  3.48it/s]\n"
          ]
        },
        {
          "output_type": "stream",
          "name": "stdout",
          "text": [
            "                 all          15          15       0.228       0.467       0.186      0.0568\n"
          ]
        },
        {
          "output_type": "stream",
          "name": "stderr",
          "text": [
            "    14/149     7.86G   0.05811  0.008759         0   0.06687        65       640: 100%|██████████| 13/13 [00:15<00:00,  1.19s/it]\n"
          ]
        },
        {
          "output_type": "stream",
          "name": "stdout",
          "text": [
            "Testing with YOLOv5 AP metric...\n"
          ]
        },
        {
          "output_type": "stream",
          "name": "stderr",
          "text": [
            "               Class      Images      Labels           P           R      mAP@.5  mAP@.5:.95: 100%|██████████| 1/1 [00:00<00:00,  3.65it/s]\n"
          ]
        },
        {
          "output_type": "stream",
          "name": "stdout",
          "text": [
            "                 all          15          15       0.528         0.6       0.459      0.0716\n"
          ]
        },
        {
          "output_type": "stream",
          "name": "stderr",
          "text": [
            "    15/149     7.86G   0.05749  0.008937         0   0.06643        55       640: 100%|██████████| 13/13 [00:15<00:00,  1.18s/it]\n"
          ]
        },
        {
          "output_type": "stream",
          "name": "stdout",
          "text": [
            "Testing with YOLOv5 AP metric...\n"
          ]
        },
        {
          "output_type": "stream",
          "name": "stderr",
          "text": [
            "               Class      Images      Labels           P           R      mAP@.5  mAP@.5:.95: 100%|██████████| 1/1 [00:00<00:00,  3.80it/s]\n"
          ]
        },
        {
          "output_type": "stream",
          "name": "stdout",
          "text": [
            "                 all          15          15       0.459         0.4       0.332       0.101\n"
          ]
        },
        {
          "output_type": "stream",
          "name": "stderr",
          "text": [
            "    16/149     7.86G   0.05504  0.008777         0   0.06382        61       640: 100%|██████████| 13/13 [00:15<00:00,  1.19s/it]\n"
          ]
        },
        {
          "output_type": "stream",
          "name": "stdout",
          "text": [
            "Testing with YOLOv5 AP metric...\n"
          ]
        },
        {
          "output_type": "stream",
          "name": "stderr",
          "text": [
            "               Class      Images      Labels           P           R      mAP@.5  mAP@.5:.95: 100%|██████████| 1/1 [00:00<00:00,  4.05it/s]\n"
          ]
        },
        {
          "output_type": "stream",
          "name": "stdout",
          "text": [
            "                 all          15          15       0.426         0.4       0.299      0.0862\n"
          ]
        },
        {
          "output_type": "stream",
          "name": "stderr",
          "text": [
            "    17/149     7.86G   0.05472  0.008573         0   0.06329        56       640: 100%|██████████| 13/13 [00:14<00:00,  1.12s/it]\n"
          ]
        },
        {
          "output_type": "stream",
          "name": "stdout",
          "text": [
            "Testing with YOLOv5 AP metric...\n"
          ]
        },
        {
          "output_type": "stream",
          "name": "stderr",
          "text": [
            "               Class      Images      Labels           P           R      mAP@.5  mAP@.5:.95: 100%|██████████| 1/1 [00:00<00:00,  3.57it/s]\n"
          ]
        },
        {
          "output_type": "stream",
          "name": "stdout",
          "text": [
            "                 all          15          15       0.644       0.733         0.7       0.125\n"
          ]
        },
        {
          "output_type": "stream",
          "name": "stderr",
          "text": [
            "    18/149     7.86G   0.05386  0.008635         0   0.06249        69       640: 100%|██████████| 13/13 [00:14<00:00,  1.13s/it]\n"
          ]
        },
        {
          "output_type": "stream",
          "name": "stdout",
          "text": [
            "Testing with YOLOv5 AP metric...\n"
          ]
        },
        {
          "output_type": "stream",
          "name": "stderr",
          "text": [
            "               Class      Images      Labels           P           R      mAP@.5  mAP@.5:.95: 100%|██████████| 1/1 [00:00<00:00,  3.82it/s]\n"
          ]
        },
        {
          "output_type": "stream",
          "name": "stdout",
          "text": [
            "                 all          15          15       0.543         0.8        0.52       0.149\n"
          ]
        },
        {
          "output_type": "stream",
          "name": "stderr",
          "text": [
            "    19/149     7.86G   0.05376   0.00872         0   0.06248        66       640: 100%|██████████| 13/13 [00:17<00:00,  1.36s/it]\n"
          ]
        },
        {
          "output_type": "stream",
          "name": "stdout",
          "text": [
            "Testing with YOLOv5 AP metric...\n"
          ]
        },
        {
          "output_type": "stream",
          "name": "stderr",
          "text": [
            "               Class      Images      Labels           P           R      mAP@.5  mAP@.5:.95: 100%|██████████| 1/1 [00:00<00:00,  2.93it/s]\n"
          ]
        },
        {
          "output_type": "stream",
          "name": "stdout",
          "text": [
            "                 all          15          15       0.426         0.6        0.37      0.0768\n"
          ]
        },
        {
          "output_type": "stream",
          "name": "stderr",
          "text": [
            "    20/149     7.86G     0.053  0.008093         0    0.0611        63       640: 100%|██████████| 13/13 [00:15<00:00,  1.22s/it]\n"
          ]
        },
        {
          "output_type": "stream",
          "name": "stdout",
          "text": [
            "Testing with YOLOv5 AP metric...\n"
          ]
        },
        {
          "output_type": "stream",
          "name": "stderr",
          "text": [
            "               Class      Images      Labels           P           R      mAP@.5  mAP@.5:.95: 100%|██████████| 1/1 [00:00<00:00,  4.09it/s]\n"
          ]
        },
        {
          "output_type": "stream",
          "name": "stdout",
          "text": [
            "                 all          15          15       0.571       0.533       0.472       0.144\n"
          ]
        },
        {
          "output_type": "stream",
          "name": "stderr",
          "text": [
            "    21/149     7.86G   0.05237  0.007935         0   0.06031        63       640: 100%|██████████| 13/13 [00:14<00:00,  1.12s/it]\n"
          ]
        },
        {
          "output_type": "stream",
          "name": "stdout",
          "text": [
            "Testing with YOLOv5 AP metric...\n"
          ]
        },
        {
          "output_type": "stream",
          "name": "stderr",
          "text": [
            "               Class      Images      Labels           P           R      mAP@.5  mAP@.5:.95: 100%|██████████| 1/1 [00:00<00:00,  3.55it/s]\n"
          ]
        },
        {
          "output_type": "stream",
          "name": "stdout",
          "text": [
            "                 all          15          15       0.498       0.667       0.574        0.19\n"
          ]
        },
        {
          "output_type": "stream",
          "name": "stderr",
          "text": [
            "    22/149     7.86G    0.0529  0.008103         0   0.06101        67       640: 100%|██████████| 13/13 [00:15<00:00,  1.18s/it]\n"
          ]
        },
        {
          "output_type": "stream",
          "name": "stdout",
          "text": [
            "Testing with YOLOv5 AP metric...\n"
          ]
        },
        {
          "output_type": "stream",
          "name": "stderr",
          "text": [
            "               Class      Images      Labels           P           R      mAP@.5  mAP@.5:.95: 100%|██████████| 1/1 [00:00<00:00,  4.39it/s]\n"
          ]
        },
        {
          "output_type": "stream",
          "name": "stdout",
          "text": [
            "                 all          15          15       0.406       0.867       0.417       0.164\n"
          ]
        },
        {
          "output_type": "stream",
          "name": "stderr",
          "text": [
            "    23/149     7.86G   0.05019  0.008244         0   0.05843        52       640: 100%|██████████| 13/13 [00:15<00:00,  1.18s/it]\n"
          ]
        },
        {
          "output_type": "stream",
          "name": "stdout",
          "text": [
            "Testing with YOLOv5 AP metric...\n"
          ]
        },
        {
          "output_type": "stream",
          "name": "stderr",
          "text": [
            "               Class      Images      Labels           P           R      mAP@.5  mAP@.5:.95: 100%|██████████| 1/1 [00:00<00:00,  4.10it/s]\n"
          ]
        },
        {
          "output_type": "stream",
          "name": "stdout",
          "text": [
            "                 all          15          15       0.131           1       0.131      0.0467\n"
          ]
        },
        {
          "output_type": "stream",
          "name": "stderr",
          "text": [
            "    24/149     7.86G    0.0515  0.007852         0   0.05935        62       640: 100%|██████████| 13/13 [00:15<00:00,  1.22s/it]\n"
          ]
        },
        {
          "output_type": "stream",
          "name": "stdout",
          "text": [
            "Testing with YOLOv5 AP metric...\n"
          ]
        },
        {
          "output_type": "stream",
          "name": "stderr",
          "text": [
            "               Class      Images      Labels           P           R      mAP@.5  mAP@.5:.95: 100%|██████████| 1/1 [00:00<00:00,  4.09it/s]\n"
          ]
        },
        {
          "output_type": "stream",
          "name": "stdout",
          "text": [
            "                 all          15          15       0.764       0.867       0.902       0.511\n"
          ]
        },
        {
          "output_type": "stream",
          "name": "stderr",
          "text": [
            "    25/149     7.86G   0.05129  0.007124         0   0.05841        50       640: 100%|██████████| 13/13 [00:14<00:00,  1.15s/it]\n"
          ]
        },
        {
          "output_type": "stream",
          "name": "stdout",
          "text": [
            "Testing with YOLOv5 AP metric...\n"
          ]
        },
        {
          "output_type": "stream",
          "name": "stderr",
          "text": [
            "               Class      Images      Labels           P           R      mAP@.5  mAP@.5:.95: 100%|██████████| 1/1 [00:00<00:00,  3.52it/s]\n"
          ]
        },
        {
          "output_type": "stream",
          "name": "stdout",
          "text": [
            "                 all          15          15         0.6         0.8       0.747       0.248\n"
          ]
        },
        {
          "output_type": "stream",
          "name": "stderr",
          "text": [
            "    26/149     7.86G   0.05295  0.007024         0   0.05998        56       640: 100%|██████████| 13/13 [00:14<00:00,  1.14s/it]\n"
          ]
        },
        {
          "output_type": "stream",
          "name": "stdout",
          "text": [
            "Testing with YOLOv5 AP metric...\n"
          ]
        },
        {
          "output_type": "stream",
          "name": "stderr",
          "text": [
            "               Class      Images      Labels           P           R      mAP@.5  mAP@.5:.95: 100%|██████████| 1/1 [00:00<00:00,  4.52it/s]\n"
          ]
        },
        {
          "output_type": "stream",
          "name": "stdout",
          "text": [
            "                 all          15          15       0.733       0.733       0.814       0.292\n"
          ]
        },
        {
          "output_type": "stream",
          "name": "stderr",
          "text": [
            "    27/149     7.86G   0.05355  0.006876         0   0.06043        52       640: 100%|██████████| 13/13 [00:19<00:00,  1.53s/it]\n"
          ]
        },
        {
          "output_type": "stream",
          "name": "stdout",
          "text": [
            "Testing with YOLOv5 AP metric...\n"
          ]
        },
        {
          "output_type": "stream",
          "name": "stderr",
          "text": [
            "               Class      Images      Labels           P           R      mAP@.5  mAP@.5:.95: 100%|██████████| 1/1 [00:00<00:00,  3.27it/s]\n"
          ]
        },
        {
          "output_type": "stream",
          "name": "stdout",
          "text": [
            "                 all          15          15       0.928       0.867       0.844       0.427\n"
          ]
        },
        {
          "output_type": "stream",
          "name": "stderr",
          "text": [
            "    28/149     7.86G   0.05306   0.00685         0   0.05991        59       640: 100%|██████████| 13/13 [00:16<00:00,  1.27s/it]\n"
          ]
        },
        {
          "output_type": "stream",
          "name": "stdout",
          "text": [
            "Testing with YOLOv5 AP metric...\n"
          ]
        },
        {
          "output_type": "stream",
          "name": "stderr",
          "text": [
            "               Class      Images      Labels           P           R      mAP@.5  mAP@.5:.95: 100%|██████████| 1/1 [00:00<00:00,  4.23it/s]\n"
          ]
        },
        {
          "output_type": "stream",
          "name": "stdout",
          "text": [
            "                 all          15          15       0.812       0.866       0.914        0.36\n"
          ]
        },
        {
          "output_type": "stream",
          "name": "stderr",
          "text": [
            "    29/149     7.86G   0.05056  0.007457         0   0.05801        70       640: 100%|██████████| 13/13 [00:15<00:00,  1.17s/it]\n"
          ]
        },
        {
          "output_type": "stream",
          "name": "stdout",
          "text": [
            "Testing with YOLOv5 AP metric...\n"
          ]
        },
        {
          "output_type": "stream",
          "name": "stderr",
          "text": [
            "               Class      Images      Labels           P           R      mAP@.5  mAP@.5:.95: 100%|██████████| 1/1 [00:00<00:00,  4.26it/s]\n"
          ]
        },
        {
          "output_type": "stream",
          "name": "stdout",
          "text": [
            "                 all          15          15       0.928       0.867       0.934       0.501\n"
          ]
        },
        {
          "output_type": "stream",
          "name": "stderr",
          "text": [
            "    30/149     7.86G   0.05249  0.007852         0   0.06035        44       640: 100%|██████████| 13/13 [00:14<00:00,  1.12s/it]\n"
          ]
        },
        {
          "output_type": "stream",
          "name": "stdout",
          "text": [
            "Testing with YOLOv5 AP metric...\n"
          ]
        },
        {
          "output_type": "stream",
          "name": "stderr",
          "text": [
            "               Class      Images      Labels           P           R      mAP@.5  mAP@.5:.95: 100%|██████████| 1/1 [00:00<00:00,  4.21it/s]\n"
          ]
        },
        {
          "output_type": "stream",
          "name": "stdout",
          "text": [
            "                 all          15          15       0.789       0.998       0.869       0.539\n"
          ]
        },
        {
          "output_type": "stream",
          "name": "stderr",
          "text": [
            "    31/149     7.86G   0.04788  0.007566         0   0.05544        65       640: 100%|██████████| 13/13 [00:15<00:00,  1.20s/it]\n"
          ]
        },
        {
          "output_type": "stream",
          "name": "stdout",
          "text": [
            "Testing with YOLOv5 AP metric...\n"
          ]
        },
        {
          "output_type": "stream",
          "name": "stderr",
          "text": [
            "               Class      Images      Labels           P           R      mAP@.5  mAP@.5:.95: 100%|██████████| 1/1 [00:00<00:00,  4.53it/s]\n"
          ]
        },
        {
          "output_type": "stream",
          "name": "stdout",
          "text": [
            "                 all          15          15       0.259       0.467       0.202      0.0819\n"
          ]
        },
        {
          "output_type": "stream",
          "name": "stderr",
          "text": [
            "    32/149     7.86G   0.04703  0.007304         0   0.05433        45       640: 100%|██████████| 13/13 [00:15<00:00,  1.19s/it]\n"
          ]
        },
        {
          "output_type": "stream",
          "name": "stdout",
          "text": [
            "Testing with YOLOv5 AP metric...\n"
          ]
        },
        {
          "output_type": "stream",
          "name": "stderr",
          "text": [
            "               Class      Images      Labels           P           R      mAP@.5  mAP@.5:.95: 100%|██████████| 1/1 [00:00<00:00,  3.89it/s]\n"
          ]
        },
        {
          "output_type": "stream",
          "name": "stdout",
          "text": [
            "                 all          15          15       0.866       0.867        0.92       0.575\n"
          ]
        },
        {
          "output_type": "stream",
          "name": "stderr",
          "text": [
            "    33/149     7.86G   0.04848   0.00726         0   0.05574        54       640: 100%|██████████| 13/13 [00:15<00:00,  1.20s/it]\n"
          ]
        },
        {
          "output_type": "stream",
          "name": "stdout",
          "text": [
            "Testing with YOLOv5 AP metric...\n"
          ]
        },
        {
          "output_type": "stream",
          "name": "stderr",
          "text": [
            "               Class      Images      Labels           P           R      mAP@.5  mAP@.5:.95: 100%|██████████| 1/1 [00:00<00:00,  4.41it/s]\n"
          ]
        },
        {
          "output_type": "stream",
          "name": "stdout",
          "text": [
            "                 all          15          15       0.676       0.973       0.885        0.49\n"
          ]
        },
        {
          "output_type": "stream",
          "name": "stderr",
          "text": [
            "    34/149     7.86G   0.04964  0.007061         0    0.0567        62       640: 100%|██████████| 13/13 [00:14<00:00,  1.10s/it]\n"
          ]
        },
        {
          "output_type": "stream",
          "name": "stdout",
          "text": [
            "Testing with YOLOv5 AP metric...\n"
          ]
        },
        {
          "output_type": "stream",
          "name": "stderr",
          "text": [
            "               Class      Images      Labels           P           R      mAP@.5  mAP@.5:.95: 100%|██████████| 1/1 [00:00<00:00,  4.14it/s]\n"
          ]
        },
        {
          "output_type": "stream",
          "name": "stdout",
          "text": [
            "                 all          15          15       0.713       0.667       0.757       0.321\n"
          ]
        },
        {
          "output_type": "stream",
          "name": "stderr",
          "text": [
            "    35/149     7.86G   0.04724  0.006842         0   0.05408        39       640: 100%|██████████| 13/13 [00:15<00:00,  1.16s/it]\n"
          ]
        },
        {
          "output_type": "stream",
          "name": "stdout",
          "text": [
            "Testing with YOLOv5 AP metric...\n"
          ]
        },
        {
          "output_type": "stream",
          "name": "stderr",
          "text": [
            "               Class      Images      Labels           P           R      mAP@.5  mAP@.5:.95: 100%|██████████| 1/1 [00:00<00:00,  4.25it/s]\n"
          ]
        },
        {
          "output_type": "stream",
          "name": "stdout",
          "text": [
            "                 all          15          15        0.59       0.867       0.761       0.423\n"
          ]
        },
        {
          "output_type": "stream",
          "name": "stderr",
          "text": [
            "    36/149     7.86G   0.04583  0.007114         0   0.05294        57       640: 100%|██████████| 13/13 [00:15<00:00,  1.16s/it]\n"
          ]
        },
        {
          "output_type": "stream",
          "name": "stdout",
          "text": [
            "Testing with YOLOv5 AP metric...\n"
          ]
        },
        {
          "output_type": "stream",
          "name": "stderr",
          "text": [
            "               Class      Images      Labels           P           R      mAP@.5  mAP@.5:.95: 100%|██████████| 1/1 [00:00<00:00,  4.19it/s]\n"
          ]
        },
        {
          "output_type": "stream",
          "name": "stdout",
          "text": [
            "                 all          15          15       0.833           1       0.935       0.587\n"
          ]
        },
        {
          "output_type": "stream",
          "name": "stderr",
          "text": [
            "    37/149     7.86G   0.04764   0.00666         0    0.0543        50       640: 100%|██████████| 13/13 [00:17<00:00,  1.36s/it]\n"
          ]
        },
        {
          "output_type": "stream",
          "name": "stdout",
          "text": [
            "Testing with YOLOv5 AP metric...\n"
          ]
        },
        {
          "output_type": "stream",
          "name": "stderr",
          "text": [
            "               Class      Images      Labels           P           R      mAP@.5  mAP@.5:.95: 100%|██████████| 1/1 [00:00<00:00,  6.32it/s]\n"
          ]
        },
        {
          "output_type": "stream",
          "name": "stdout",
          "text": [
            "                 all          15          15       0.882           1        0.97       0.595\n"
          ]
        },
        {
          "output_type": "stream",
          "name": "stderr",
          "text": [
            "    38/149     7.86G   0.04954  0.006727         0   0.05627        62       640: 100%|██████████| 13/13 [00:15<00:00,  1.21s/it]\n"
          ]
        },
        {
          "output_type": "stream",
          "name": "stdout",
          "text": [
            "Testing with YOLOv5 AP metric...\n"
          ]
        },
        {
          "output_type": "stream",
          "name": "stderr",
          "text": [
            "               Class      Images      Labels           P           R      mAP@.5  mAP@.5:.95: 100%|██████████| 1/1 [00:00<00:00,  4.45it/s]\n"
          ]
        },
        {
          "output_type": "stream",
          "name": "stdout",
          "text": [
            "                 all          15          15       0.897         0.6       0.764         0.4\n"
          ]
        },
        {
          "output_type": "stream",
          "name": "stderr",
          "text": [
            "    39/149     7.86G   0.04912  0.007535         0   0.05666        57       640: 100%|██████████| 13/13 [00:14<00:00,  1.15s/it]\n"
          ]
        },
        {
          "output_type": "stream",
          "name": "stdout",
          "text": [
            "Testing with YOLOv5 AP metric...\n"
          ]
        },
        {
          "output_type": "stream",
          "name": "stderr",
          "text": [
            "               Class      Images      Labels           P           R      mAP@.5  mAP@.5:.95: 100%|██████████| 1/1 [00:00<00:00,  5.10it/s]\n"
          ]
        },
        {
          "output_type": "stream",
          "name": "stdout",
          "text": [
            "                 all          15          15       0.998       0.933       0.985       0.463\n"
          ]
        },
        {
          "output_type": "stream",
          "name": "stderr",
          "text": [
            "    40/149     7.86G   0.04943  0.007118         0   0.05655        48       640: 100%|██████████| 13/13 [00:15<00:00,  1.19s/it]\n"
          ]
        },
        {
          "output_type": "stream",
          "name": "stdout",
          "text": [
            "Testing with YOLOv5 AP metric...\n"
          ]
        },
        {
          "output_type": "stream",
          "name": "stderr",
          "text": [
            "               Class      Images      Labels           P           R      mAP@.5  mAP@.5:.95: 100%|██████████| 1/1 [00:00<00:00,  3.57it/s]\n"
          ]
        },
        {
          "output_type": "stream",
          "name": "stdout",
          "text": [
            "                 all          15          15       0.747         0.4       0.486       0.183\n"
          ]
        },
        {
          "output_type": "stream",
          "name": "stderr",
          "text": [
            "    41/149     7.86G   0.05187  0.007016         0   0.05889        50       640: 100%|██████████| 13/13 [00:14<00:00,  1.13s/it]\n"
          ]
        },
        {
          "output_type": "stream",
          "name": "stdout",
          "text": [
            "Testing with YOLOv5 AP metric...\n"
          ]
        },
        {
          "output_type": "stream",
          "name": "stderr",
          "text": [
            "               Class      Images      Labels           P           R      mAP@.5  mAP@.5:.95: 100%|██████████| 1/1 [00:00<00:00,  4.32it/s]\n"
          ]
        },
        {
          "output_type": "stream",
          "name": "stdout",
          "text": [
            "                 all          15          15       0.647       0.867       0.815       0.477\n"
          ]
        },
        {
          "output_type": "stream",
          "name": "stderr",
          "text": [
            "    42/149     7.86G   0.04929  0.007098         0   0.05639        67       640: 100%|██████████| 13/13 [00:15<00:00,  1.18s/it]\n"
          ]
        },
        {
          "output_type": "stream",
          "name": "stdout",
          "text": [
            "Testing with YOLOv5 AP metric...\n"
          ]
        },
        {
          "output_type": "stream",
          "name": "stderr",
          "text": [
            "               Class      Images      Labels           P           R      mAP@.5  mAP@.5:.95: 100%|██████████| 1/1 [00:00<00:00,  4.01it/s]\n"
          ]
        },
        {
          "output_type": "stream",
          "name": "stdout",
          "text": [
            "                 all          15          15       0.704         0.8         0.8       0.458\n"
          ]
        },
        {
          "output_type": "stream",
          "name": "stderr",
          "text": [
            "    43/149     7.86G   0.04786  0.007013         0   0.05487        44       640: 100%|██████████| 13/13 [00:13<00:00,  1.07s/it]\n"
          ]
        },
        {
          "output_type": "stream",
          "name": "stdout",
          "text": [
            "Testing with YOLOv5 AP metric...\n"
          ]
        },
        {
          "output_type": "stream",
          "name": "stderr",
          "text": [
            "               Class      Images      Labels           P           R      mAP@.5  mAP@.5:.95: 100%|██████████| 1/1 [00:00<00:00,  4.29it/s]\n"
          ]
        },
        {
          "output_type": "stream",
          "name": "stdout",
          "text": [
            "                 all          15          15        0.75           1       0.864       0.485\n"
          ]
        },
        {
          "output_type": "stream",
          "name": "stderr",
          "text": [
            "    44/149     7.86G   0.04691  0.007689         0    0.0546        68       640: 100%|██████████| 13/13 [00:15<00:00,  1.21s/it]\n"
          ]
        },
        {
          "output_type": "stream",
          "name": "stdout",
          "text": [
            "Testing with YOLOv5 AP metric...\n"
          ]
        },
        {
          "output_type": "stream",
          "name": "stderr",
          "text": [
            "               Class      Images      Labels           P           R      mAP@.5  mAP@.5:.95: 100%|██████████| 1/1 [00:00<00:00,  4.20it/s]\n"
          ]
        },
        {
          "output_type": "stream",
          "name": "stdout",
          "text": [
            "                 all          15          15         0.6       0.998       0.797       0.505\n"
          ]
        },
        {
          "output_type": "stream",
          "name": "stderr",
          "text": [
            "    45/149     7.86G   0.04713  0.007348         0   0.05448        72       640: 100%|██████████| 13/13 [00:15<00:00,  1.17s/it]\n"
          ]
        },
        {
          "output_type": "stream",
          "name": "stdout",
          "text": [
            "Testing with YOLOv5 AP metric...\n"
          ]
        },
        {
          "output_type": "stream",
          "name": "stderr",
          "text": [
            "               Class      Images      Labels           P           R      mAP@.5  mAP@.5:.95: 100%|██████████| 1/1 [00:00<00:00,  4.69it/s]\n"
          ]
        },
        {
          "output_type": "stream",
          "name": "stdout",
          "text": [
            "                 all          15          15       0.681           1        0.83       0.378\n"
          ]
        },
        {
          "output_type": "stream",
          "name": "stderr",
          "text": [
            "    46/149     7.86G   0.05003  0.006948         0   0.05698        60       640: 100%|██████████| 13/13 [00:15<00:00,  1.16s/it]\n"
          ]
        },
        {
          "output_type": "stream",
          "name": "stdout",
          "text": [
            "Testing with YOLOv5 AP metric...\n"
          ]
        },
        {
          "output_type": "stream",
          "name": "stderr",
          "text": [
            "               Class      Images      Labels           P           R      mAP@.5  mAP@.5:.95: 100%|██████████| 1/1 [00:00<00:00,  3.72it/s]\n"
          ]
        },
        {
          "output_type": "stream",
          "name": "stdout",
          "text": [
            "                 all          15          15       0.713       0.993       0.891       0.425\n"
          ]
        },
        {
          "output_type": "stream",
          "name": "stderr",
          "text": [
            "    47/149     7.86G   0.05122  0.006087         0   0.05731        61       640: 100%|██████████| 13/13 [00:14<00:00,  1.10s/it]\n"
          ]
        },
        {
          "output_type": "stream",
          "name": "stdout",
          "text": [
            "Testing with YOLOv5 AP metric...\n"
          ]
        },
        {
          "output_type": "stream",
          "name": "stderr",
          "text": [
            "               Class      Images      Labels           P           R      mAP@.5  mAP@.5:.95: 100%|██████████| 1/1 [00:00<00:00,  4.71it/s]\n"
          ]
        },
        {
          "output_type": "stream",
          "name": "stdout",
          "text": [
            "                 all          15          15        0.75           1        0.82       0.444\n"
          ]
        },
        {
          "output_type": "stream",
          "name": "stderr",
          "text": [
            "    48/149     7.86G   0.04873  0.006714         0   0.05545        59       640: 100%|██████████| 13/13 [00:14<00:00,  1.10s/it]\n"
          ]
        },
        {
          "output_type": "stream",
          "name": "stdout",
          "text": [
            "Testing with YOLOv5 AP metric...\n"
          ]
        },
        {
          "output_type": "stream",
          "name": "stderr",
          "text": [
            "               Class      Images      Labels           P           R      mAP@.5  mAP@.5:.95: 100%|██████████| 1/1 [00:00<00:00,  4.14it/s]\n"
          ]
        },
        {
          "output_type": "stream",
          "name": "stdout",
          "text": [
            "                 all          15          15       0.661         0.8       0.833       0.558\n"
          ]
        },
        {
          "output_type": "stream",
          "name": "stderr",
          "text": [
            "    49/149     7.86G   0.05091  0.006612         0   0.05752        59       640: 100%|██████████| 13/13 [00:15<00:00,  1.18s/it]\n"
          ]
        },
        {
          "output_type": "stream",
          "name": "stdout",
          "text": [
            "Testing with YOLOv5 AP metric...\n"
          ]
        },
        {
          "output_type": "stream",
          "name": "stderr",
          "text": [
            "               Class      Images      Labels           P           R      mAP@.5  mAP@.5:.95: 100%|██████████| 1/1 [00:00<00:00,  4.16it/s]\n"
          ]
        },
        {
          "output_type": "stream",
          "name": "stdout",
          "text": [
            "                 all          15          15       0.554       0.667        0.61       0.305\n"
          ]
        },
        {
          "output_type": "stream",
          "name": "stderr",
          "text": [
            "    50/149     7.86G   0.05337  0.006571         0   0.05994        61       640: 100%|██████████| 13/13 [00:13<00:00,  1.07s/it]\n"
          ]
        },
        {
          "output_type": "stream",
          "name": "stdout",
          "text": [
            "Testing with YOLOv5 AP metric...\n"
          ]
        },
        {
          "output_type": "stream",
          "name": "stderr",
          "text": [
            "               Class      Images      Labels           P           R      mAP@.5  mAP@.5:.95: 100%|██████████| 1/1 [00:00<00:00,  4.57it/s]\n"
          ]
        },
        {
          "output_type": "stream",
          "name": "stdout",
          "text": [
            "                 all          15          15           1       0.667       0.871       0.444\n"
          ]
        },
        {
          "output_type": "stream",
          "name": "stderr",
          "text": [
            "    51/149     7.86G   0.04264  0.006861         0    0.0495        63       640: 100%|██████████| 13/13 [00:14<00:00,  1.13s/it]\n"
          ]
        },
        {
          "output_type": "stream",
          "name": "stdout",
          "text": [
            "Testing with YOLOv5 AP metric...\n"
          ]
        },
        {
          "output_type": "stream",
          "name": "stderr",
          "text": [
            "               Class      Images      Labels           P           R      mAP@.5  mAP@.5:.95: 100%|██████████| 1/1 [00:00<00:00,  3.91it/s]\n"
          ]
        },
        {
          "output_type": "stream",
          "name": "stdout",
          "text": [
            "                 all          15          15           1       0.866       0.971       0.523\n"
          ]
        },
        {
          "output_type": "stream",
          "name": "stderr",
          "text": [
            "    52/149     7.86G   0.04799  0.006425         0   0.05441        51       640: 100%|██████████| 13/13 [00:15<00:00,  1.16s/it]\n"
          ]
        },
        {
          "output_type": "stream",
          "name": "stdout",
          "text": [
            "Testing with YOLOv5 AP metric...\n"
          ]
        },
        {
          "output_type": "stream",
          "name": "stderr",
          "text": [
            "               Class      Images      Labels           P           R      mAP@.5  mAP@.5:.95: 100%|██████████| 1/1 [00:00<00:00,  3.62it/s]\n"
          ]
        },
        {
          "output_type": "stream",
          "name": "stdout",
          "text": [
            "                 all          15          15           1       0.666       0.876       0.552\n"
          ]
        },
        {
          "output_type": "stream",
          "name": "stderr",
          "text": [
            "    53/149     7.86G   0.04901  0.006831         0   0.05584        63       640: 100%|██████████| 13/13 [00:14<00:00,  1.15s/it]\n"
          ]
        },
        {
          "output_type": "stream",
          "name": "stdout",
          "text": [
            "Testing with YOLOv5 AP metric...\n"
          ]
        },
        {
          "output_type": "stream",
          "name": "stderr",
          "text": [
            "               Class      Images      Labels           P           R      mAP@.5  mAP@.5:.95: 100%|██████████| 1/1 [00:00<00:00,  5.79it/s]\n"
          ]
        },
        {
          "output_type": "stream",
          "name": "stdout",
          "text": [
            "                 all          15          15       0.536           1       0.716       0.368\n"
          ]
        },
        {
          "output_type": "stream",
          "name": "stderr",
          "text": [
            "    54/149     7.86G   0.04707   0.00683         0    0.0539        55       640: 100%|██████████| 13/13 [00:15<00:00,  1.23s/it]\n"
          ]
        },
        {
          "output_type": "stream",
          "name": "stdout",
          "text": [
            "Testing with YOLOv5 AP metric...\n"
          ]
        },
        {
          "output_type": "stream",
          "name": "stderr",
          "text": [
            "               Class      Images      Labels           P           R      mAP@.5  mAP@.5:.95: 100%|██████████| 1/1 [00:00<00:00,  3.93it/s]\n"
          ]
        },
        {
          "output_type": "stream",
          "name": "stdout",
          "text": [
            "                 all          15          15       0.823       0.933        0.92       0.584\n"
          ]
        },
        {
          "output_type": "stream",
          "name": "stderr",
          "text": [
            "    55/149     7.86G   0.04692  0.006897         0   0.05382        66       640: 100%|██████████| 13/13 [00:17<00:00,  1.35s/it]\n"
          ]
        },
        {
          "output_type": "stream",
          "name": "stdout",
          "text": [
            "Testing with YOLOv5 AP metric...\n"
          ]
        },
        {
          "output_type": "stream",
          "name": "stderr",
          "text": [
            "               Class      Images      Labels           P           R      mAP@.5  mAP@.5:.95: 100%|██████████| 1/1 [00:00<00:00,  4.11it/s]\n"
          ]
        },
        {
          "output_type": "stream",
          "name": "stdout",
          "text": [
            "                 all          15          15       0.929       0.867       0.946       0.679\n"
          ]
        },
        {
          "output_type": "stream",
          "name": "stderr",
          "text": [
            "    56/149     7.88G   0.04671  0.006382         0   0.05309        51       640: 100%|██████████| 13/13 [00:15<00:00,  1.20s/it]\n"
          ]
        },
        {
          "output_type": "stream",
          "name": "stdout",
          "text": [
            "Testing with YOLOv5 AP metric...\n"
          ]
        },
        {
          "output_type": "stream",
          "name": "stderr",
          "text": [
            "               Class      Images      Labels           P           R      mAP@.5  mAP@.5:.95: 100%|██████████| 1/1 [00:00<00:00,  4.00it/s]\n"
          ]
        },
        {
          "output_type": "stream",
          "name": "stdout",
          "text": [
            "                 all          15          15       0.933       0.933        0.98        0.72\n"
          ]
        },
        {
          "output_type": "stream",
          "name": "stderr",
          "text": [
            "    57/149     7.89G   0.04553  0.006649         0   0.05218        61       640: 100%|██████████| 13/13 [00:14<00:00,  1.12s/it]\n"
          ]
        },
        {
          "output_type": "stream",
          "name": "stdout",
          "text": [
            "Testing with YOLOv5 AP metric...\n"
          ]
        },
        {
          "output_type": "stream",
          "name": "stderr",
          "text": [
            "               Class      Images      Labels           P           R      mAP@.5  mAP@.5:.95: 100%|██████████| 1/1 [00:00<00:00,  5.98it/s]\n"
          ]
        },
        {
          "output_type": "stream",
          "name": "stdout",
          "text": [
            "                 all          15          15        0.75           1       0.895       0.555\n"
          ]
        },
        {
          "output_type": "stream",
          "name": "stderr",
          "text": [
            "    58/149     7.89G   0.04547  0.006564         0   0.05204        61       640: 100%|██████████| 13/13 [00:15<00:00,  1.16s/it]\n"
          ]
        },
        {
          "output_type": "stream",
          "name": "stdout",
          "text": [
            "Testing with YOLOv5 AP metric...\n"
          ]
        },
        {
          "output_type": "stream",
          "name": "stderr",
          "text": [
            "               Class      Images      Labels           P           R      mAP@.5  mAP@.5:.95: 100%|██████████| 1/1 [00:00<00:00,  4.46it/s]\n"
          ]
        },
        {
          "output_type": "stream",
          "name": "stdout",
          "text": [
            "                 all          15          15       0.788           1       0.928       0.638\n"
          ]
        },
        {
          "output_type": "stream",
          "name": "stderr",
          "text": [
            "    59/149     7.89G   0.04643  0.006187         0   0.05262        54       640: 100%|██████████| 13/13 [00:15<00:00,  1.16s/it]\n"
          ]
        },
        {
          "output_type": "stream",
          "name": "stdout",
          "text": [
            "Testing with YOLOv5 AP metric...\n"
          ]
        },
        {
          "output_type": "stream",
          "name": "stderr",
          "text": [
            "               Class      Images      Labels           P           R      mAP@.5  mAP@.5:.95: 100%|██████████| 1/1 [00:00<00:00,  4.88it/s]\n"
          ]
        },
        {
          "output_type": "stream",
          "name": "stdout",
          "text": [
            "                 all          15          15       0.786       0.732       0.804       0.509\n"
          ]
        },
        {
          "output_type": "stream",
          "name": "stderr",
          "text": [
            "    60/149     7.89G   0.04299  0.006537         0   0.04953        56       640: 100%|██████████| 13/13 [00:14<00:00,  1.14s/it]\n"
          ]
        },
        {
          "output_type": "stream",
          "name": "stdout",
          "text": [
            "Testing with YOLOv5 AP metric...\n"
          ]
        },
        {
          "output_type": "stream",
          "name": "stderr",
          "text": [
            "               Class      Images      Labels           P           R      mAP@.5  mAP@.5:.95: 100%|██████████| 1/1 [00:00<00:00,  4.43it/s]\n"
          ]
        },
        {
          "output_type": "stream",
          "name": "stdout",
          "text": [
            "                 all          15          15           1       0.866       0.973       0.678\n"
          ]
        },
        {
          "output_type": "stream",
          "name": "stderr",
          "text": [
            "    61/149     7.89G    0.0402  0.006548         0   0.04674        48       640: 100%|██████████| 13/13 [00:15<00:00,  1.17s/it]\n"
          ]
        },
        {
          "output_type": "stream",
          "name": "stdout",
          "text": [
            "Testing with YOLOv5 AP metric...\n"
          ]
        },
        {
          "output_type": "stream",
          "name": "stderr",
          "text": [
            "               Class      Images      Labels           P           R      mAP@.5  mAP@.5:.95: 100%|██████████| 1/1 [00:00<00:00,  4.33it/s]\n"
          ]
        },
        {
          "output_type": "stream",
          "name": "stdout",
          "text": [
            "                 all          15          15       0.875       0.933       0.957       0.713\n"
          ]
        },
        {
          "output_type": "stream",
          "name": "stderr",
          "text": [
            "    62/149     7.89G   0.04375  0.006422         0   0.05017        56       640: 100%|██████████| 13/13 [00:13<00:00,  1.05s/it]\n"
          ]
        },
        {
          "output_type": "stream",
          "name": "stdout",
          "text": [
            "Testing with YOLOv5 AP metric...\n"
          ]
        },
        {
          "output_type": "stream",
          "name": "stderr",
          "text": [
            "               Class      Images      Labels           P           R      mAP@.5  mAP@.5:.95: 100%|██████████| 1/1 [00:00<00:00,  4.73it/s]\n"
          ]
        },
        {
          "output_type": "stream",
          "name": "stdout",
          "text": [
            "                 all          15          15       0.833       0.667       0.812        0.57\n"
          ]
        },
        {
          "output_type": "stream",
          "name": "stderr",
          "text": [
            "    63/149     7.89G   0.04304  0.006258         0    0.0493        49       640: 100%|██████████| 13/13 [00:15<00:00,  1.19s/it]\n"
          ]
        },
        {
          "output_type": "stream",
          "name": "stdout",
          "text": [
            "Testing with YOLOv5 AP metric...\n"
          ]
        },
        {
          "output_type": "stream",
          "name": "stderr",
          "text": [
            "               Class      Images      Labels           P           R      mAP@.5  mAP@.5:.95: 100%|██████████| 1/1 [00:00<00:00,  4.24it/s]\n"
          ]
        },
        {
          "output_type": "stream",
          "name": "stdout",
          "text": [
            "                 all          15          15       0.888       0.533       0.704        0.43\n"
          ]
        },
        {
          "output_type": "stream",
          "name": "stderr",
          "text": [
            "    64/149     7.89G   0.04386  0.005704         0   0.04957        53       640: 100%|██████████| 13/13 [00:14<00:00,  1.14s/it]\n"
          ]
        },
        {
          "output_type": "stream",
          "name": "stdout",
          "text": [
            "Testing with YOLOv5 AP metric...\n"
          ]
        },
        {
          "output_type": "stream",
          "name": "stderr",
          "text": [
            "               Class      Images      Labels           P           R      mAP@.5  mAP@.5:.95: 100%|██████████| 1/1 [00:00<00:00,  3.91it/s]\n"
          ]
        },
        {
          "output_type": "stream",
          "name": "stdout",
          "text": [
            "                 all          15          15       0.882           1       0.931       0.613\n"
          ]
        },
        {
          "output_type": "stream",
          "name": "stderr",
          "text": [
            "    65/149     7.89G   0.04092  0.006603         0   0.04752        59       640: 100%|██████████| 13/13 [00:15<00:00,  1.16s/it]\n"
          ]
        },
        {
          "output_type": "stream",
          "name": "stdout",
          "text": [
            "Testing with YOLOv5 AP metric...\n"
          ]
        },
        {
          "output_type": "stream",
          "name": "stderr",
          "text": [
            "               Class      Images      Labels           P           R      mAP@.5  mAP@.5:.95: 100%|██████████| 1/1 [00:00<00:00,  4.42it/s]\n"
          ]
        },
        {
          "output_type": "stream",
          "name": "stdout",
          "text": [
            "                 all          15          15       0.882           1       0.933       0.651\n"
          ]
        },
        {
          "output_type": "stream",
          "name": "stderr",
          "text": [
            "    66/149     7.89G   0.04286  0.006118         0   0.04898        51       640: 100%|██████████| 13/13 [00:14<00:00,  1.09s/it]\n"
          ]
        },
        {
          "output_type": "stream",
          "name": "stdout",
          "text": [
            "Testing with YOLOv5 AP metric...\n"
          ]
        },
        {
          "output_type": "stream",
          "name": "stderr",
          "text": [
            "               Class      Images      Labels           P           R      mAP@.5  mAP@.5:.95: 100%|██████████| 1/1 [00:00<00:00,  3.69it/s]\n"
          ]
        },
        {
          "output_type": "stream",
          "name": "stdout",
          "text": [
            "                 all          15          15       0.856         0.8        0.88       0.531\n"
          ]
        },
        {
          "output_type": "stream",
          "name": "stderr",
          "text": [
            "    67/149     7.89G   0.04031  0.006158         0   0.04646        45       640: 100%|██████████| 13/13 [00:16<00:00,  1.27s/it]\n"
          ]
        },
        {
          "output_type": "stream",
          "name": "stdout",
          "text": [
            "Testing with YOLOv5 AP metric...\n"
          ]
        },
        {
          "output_type": "stream",
          "name": "stderr",
          "text": [
            "               Class      Images      Labels           P           R      mAP@.5  mAP@.5:.95: 100%|██████████| 1/1 [00:00<00:00,  3.51it/s]\n"
          ]
        },
        {
          "output_type": "stream",
          "name": "stdout",
          "text": [
            "                 all          15          15       0.882           1       0.975       0.706\n"
          ]
        },
        {
          "output_type": "stream",
          "name": "stderr",
          "text": [
            "    68/149     7.89G   0.04135  0.006168         0   0.04752        69       640: 100%|██████████| 13/13 [00:16<00:00,  1.23s/it]\n"
          ]
        },
        {
          "output_type": "stream",
          "name": "stdout",
          "text": [
            "Testing with YOLOv5 AP metric...\n"
          ]
        },
        {
          "output_type": "stream",
          "name": "stderr",
          "text": [
            "               Class      Images      Labels           P           R      mAP@.5  mAP@.5:.95: 100%|██████████| 1/1 [00:00<00:00,  4.30it/s]\n"
          ]
        },
        {
          "output_type": "stream",
          "name": "stdout",
          "text": [
            "                 all          15          15       0.933       0.933        0.98       0.716\n"
          ]
        },
        {
          "output_type": "stream",
          "name": "stderr",
          "text": [
            "    69/149     7.89G    0.0417  0.005699         0   0.04739        55       640: 100%|██████████| 13/13 [00:16<00:00,  1.29s/it]\n"
          ]
        },
        {
          "output_type": "stream",
          "name": "stdout",
          "text": [
            "Testing with YOLOv5 AP metric...\n"
          ]
        },
        {
          "output_type": "stream",
          "name": "stderr",
          "text": [
            "               Class      Images      Labels           P           R      mAP@.5  mAP@.5:.95: 100%|██████████| 1/1 [00:00<00:00,  3.29it/s]\n"
          ]
        },
        {
          "output_type": "stream",
          "name": "stdout",
          "text": [
            "                 all          15          15           1       0.998       0.995       0.738\n"
          ]
        },
        {
          "output_type": "stream",
          "name": "stderr",
          "text": [
            "    70/149     7.89G   0.03877  0.006308         0   0.04507        40       640: 100%|██████████| 13/13 [00:16<00:00,  1.29s/it]\n"
          ]
        },
        {
          "output_type": "stream",
          "name": "stdout",
          "text": [
            "Testing with YOLOv5 AP metric...\n"
          ]
        },
        {
          "output_type": "stream",
          "name": "stderr",
          "text": [
            "               Class      Images      Labels           P           R      mAP@.5  mAP@.5:.95: 100%|██████████| 1/1 [00:00<00:00,  3.45it/s]\n"
          ]
        },
        {
          "output_type": "stream",
          "name": "stdout",
          "text": [
            "                 all          15          15           1       0.933       0.988       0.753\n"
          ]
        },
        {
          "output_type": "stream",
          "name": "stderr",
          "text": [
            "    71/149     7.89G   0.04094  0.006083         0   0.04702        51       640: 100%|██████████| 13/13 [00:15<00:00,  1.18s/it]\n"
          ]
        },
        {
          "output_type": "stream",
          "name": "stdout",
          "text": [
            "Testing with YOLOv5 AP metric...\n"
          ]
        },
        {
          "output_type": "stream",
          "name": "stderr",
          "text": [
            "               Class      Images      Labels           P           R      mAP@.5  mAP@.5:.95: 100%|██████████| 1/1 [00:00<00:00,  4.48it/s]\n"
          ]
        },
        {
          "output_type": "stream",
          "name": "stdout",
          "text": [
            "                 all          15          15       0.875       0.933       0.969       0.726\n"
          ]
        },
        {
          "output_type": "stream",
          "name": "stderr",
          "text": [
            "    72/149     7.89G   0.04129  0.005756         0   0.04705        60       640: 100%|██████████| 13/13 [00:18<00:00,  1.40s/it]\n"
          ]
        },
        {
          "output_type": "stream",
          "name": "stdout",
          "text": [
            "Testing with YOLOv5 AP metric...\n"
          ]
        },
        {
          "output_type": "stream",
          "name": "stderr",
          "text": [
            "               Class      Images      Labels           P           R      mAP@.5  mAP@.5:.95: 100%|██████████| 1/1 [00:00<00:00,  3.70it/s]\n"
          ]
        },
        {
          "output_type": "stream",
          "name": "stdout",
          "text": [
            "                 all          15          15       0.999         0.8       0.949       0.635\n"
          ]
        },
        {
          "output_type": "stream",
          "name": "stderr",
          "text": [
            "    73/149     7.89G   0.03837  0.005835         0   0.04421        58       640: 100%|██████████| 13/13 [00:15<00:00,  1.16s/it]\n"
          ]
        },
        {
          "output_type": "stream",
          "name": "stdout",
          "text": [
            "Testing with YOLOv5 AP metric...\n"
          ]
        },
        {
          "output_type": "stream",
          "name": "stderr",
          "text": [
            "               Class      Images      Labels           P           R      mAP@.5  mAP@.5:.95: 100%|██████████| 1/1 [00:00<00:00,  4.18it/s]\n"
          ]
        },
        {
          "output_type": "stream",
          "name": "stdout",
          "text": [
            "                 all          15          15       0.929       0.866       0.946       0.659\n"
          ]
        },
        {
          "output_type": "stream",
          "name": "stderr",
          "text": [
            "    74/149     7.89G    0.0397  0.005726         0   0.04543        56       640: 100%|██████████| 13/13 [00:14<00:00,  1.14s/it]\n"
          ]
        },
        {
          "output_type": "stream",
          "name": "stdout",
          "text": [
            "Testing with YOLOv5 AP metric...\n"
          ]
        },
        {
          "output_type": "stream",
          "name": "stderr",
          "text": [
            "               Class      Images      Labels           P           R      mAP@.5  mAP@.5:.95: 100%|██████████| 1/1 [00:00<00:00,  4.11it/s]\n"
          ]
        },
        {
          "output_type": "stream",
          "name": "stdout",
          "text": [
            "                 all          15          15       0.937           1       0.974       0.626\n"
          ]
        },
        {
          "output_type": "stream",
          "name": "stderr",
          "text": [
            "    75/149     7.89G   0.04001  0.006061         0   0.04608        57       640: 100%|██████████| 13/13 [00:15<00:00,  1.16s/it]\n"
          ]
        },
        {
          "output_type": "stream",
          "name": "stdout",
          "text": [
            "Testing with YOLOv5 AP metric...\n"
          ]
        },
        {
          "output_type": "stream",
          "name": "stderr",
          "text": [
            "               Class      Images      Labels           P           R      mAP@.5  mAP@.5:.95: 100%|██████████| 1/1 [00:00<00:00,  4.23it/s]\n"
          ]
        },
        {
          "output_type": "stream",
          "name": "stdout",
          "text": [
            "                 all          15          15           1           1       0.995       0.782\n"
          ]
        },
        {
          "output_type": "stream",
          "name": "stderr",
          "text": [
            "    76/149     7.89G   0.04141  0.005916         0   0.04732        63       640: 100%|██████████| 13/13 [00:14<00:00,  1.13s/it]\n"
          ]
        },
        {
          "output_type": "stream",
          "name": "stdout",
          "text": [
            "Testing with YOLOv5 AP metric...\n"
          ]
        },
        {
          "output_type": "stream",
          "name": "stderr",
          "text": [
            "               Class      Images      Labels           P           R      mAP@.5  mAP@.5:.95: 100%|██████████| 1/1 [00:00<00:00,  4.74it/s]\n"
          ]
        },
        {
          "output_type": "stream",
          "name": "stdout",
          "text": [
            "                 all          15          15       0.999           1       0.995       0.746\n"
          ]
        },
        {
          "output_type": "stream",
          "name": "stderr",
          "text": [
            "    77/149     7.89G   0.03843  0.006087         0   0.04452        59       640: 100%|██████████| 13/13 [00:15<00:00,  1.17s/it]\n"
          ]
        },
        {
          "output_type": "stream",
          "name": "stdout",
          "text": [
            "Testing with YOLOv5 AP metric...\n"
          ]
        },
        {
          "output_type": "stream",
          "name": "stderr",
          "text": [
            "               Class      Images      Labels           P           R      mAP@.5  mAP@.5:.95: 100%|██████████| 1/1 [00:00<00:00,  4.52it/s]\n"
          ]
        },
        {
          "output_type": "stream",
          "name": "stdout",
          "text": [
            "                 all          15          15       0.999       0.933       0.988       0.734\n"
          ]
        },
        {
          "output_type": "stream",
          "name": "stderr",
          "text": [
            "    78/149     7.89G   0.03949  0.005736         0   0.04523        60       640: 100%|██████████| 13/13 [00:14<00:00,  1.11s/it]\n"
          ]
        },
        {
          "output_type": "stream",
          "name": "stdout",
          "text": [
            "Testing with YOLOv5 AP metric...\n"
          ]
        },
        {
          "output_type": "stream",
          "name": "stderr",
          "text": [
            "               Class      Images      Labels           P           R      mAP@.5  mAP@.5:.95: 100%|██████████| 1/1 [00:00<00:00,  4.41it/s]\n"
          ]
        },
        {
          "output_type": "stream",
          "name": "stdout",
          "text": [
            "                 all          15          15       0.933       0.933       0.969       0.738\n"
          ]
        },
        {
          "output_type": "stream",
          "name": "stderr",
          "text": [
            "    79/149     7.89G   0.03563  0.005542         0   0.04118        46       640: 100%|██████████| 13/13 [00:14<00:00,  1.13s/it]\n"
          ]
        },
        {
          "output_type": "stream",
          "name": "stdout",
          "text": [
            "Testing with YOLOv5 AP metric...\n"
          ]
        },
        {
          "output_type": "stream",
          "name": "stderr",
          "text": [
            "               Class      Images      Labels           P           R      mAP@.5  mAP@.5:.95: 100%|██████████| 1/1 [00:00<00:00,  4.33it/s]\n"
          ]
        },
        {
          "output_type": "stream",
          "name": "stdout",
          "text": [
            "                 all          15          15       0.875       0.933       0.945       0.685\n"
          ]
        },
        {
          "output_type": "stream",
          "name": "stderr",
          "text": [
            "    80/149     7.89G   0.03904  0.005779         0   0.04482        62       640: 100%|██████████| 13/13 [00:15<00:00,  1.19s/it]\n"
          ]
        },
        {
          "output_type": "stream",
          "name": "stdout",
          "text": [
            "Testing with YOLOv5 AP metric...\n"
          ]
        },
        {
          "output_type": "stream",
          "name": "stderr",
          "text": [
            "               Class      Images      Labels           P           R      mAP@.5  mAP@.5:.95: 100%|██████████| 1/1 [00:00<00:00,  4.36it/s]\n"
          ]
        },
        {
          "output_type": "stream",
          "name": "stdout",
          "text": [
            "                 all          15          15       0.937           1       0.966       0.731\n"
          ]
        },
        {
          "output_type": "stream",
          "name": "stderr",
          "text": [
            "    81/149     7.89G   0.03791  0.005474         0   0.04338        52       640: 100%|██████████| 13/13 [00:15<00:00,  1.15s/it]\n"
          ]
        },
        {
          "output_type": "stream",
          "name": "stdout",
          "text": [
            "Testing with YOLOv5 AP metric...\n"
          ]
        },
        {
          "output_type": "stream",
          "name": "stderr",
          "text": [
            "               Class      Images      Labels           P           R      mAP@.5  mAP@.5:.95: 100%|██████████| 1/1 [00:00<00:00,  4.05it/s]\n"
          ]
        },
        {
          "output_type": "stream",
          "name": "stdout",
          "text": [
            "                 all          15          15       0.867       0.867       0.895       0.655\n"
          ]
        },
        {
          "output_type": "stream",
          "name": "stderr",
          "text": [
            "    82/149     7.89G   0.03683  0.005779         0   0.04261        43       640: 100%|██████████| 13/13 [00:15<00:00,  1.19s/it]\n"
          ]
        },
        {
          "output_type": "stream",
          "name": "stdout",
          "text": [
            "Testing with YOLOv5 AP metric...\n"
          ]
        },
        {
          "output_type": "stream",
          "name": "stderr",
          "text": [
            "               Class      Images      Labels           P           R      mAP@.5  mAP@.5:.95: 100%|██████████| 1/1 [00:00<00:00,  4.20it/s]\n"
          ]
        },
        {
          "output_type": "stream",
          "name": "stdout",
          "text": [
            "                 all          15          15       0.714       0.999       0.881       0.612\n"
          ]
        },
        {
          "output_type": "stream",
          "name": "stderr",
          "text": [
            "    83/149     7.89G   0.03713  0.005832         0   0.04296        48       640: 100%|██████████| 13/13 [00:16<00:00,  1.26s/it]\n"
          ]
        },
        {
          "output_type": "stream",
          "name": "stdout",
          "text": [
            "Testing with YOLOv5 AP metric...\n"
          ]
        },
        {
          "output_type": "stream",
          "name": "stderr",
          "text": [
            "               Class      Images      Labels           P           R      mAP@.5  mAP@.5:.95: 100%|██████████| 1/1 [00:00<00:00,  3.94it/s]\n"
          ]
        },
        {
          "output_type": "stream",
          "name": "stdout",
          "text": [
            "                 all          15          15       0.937       0.999       0.974       0.716\n"
          ]
        },
        {
          "output_type": "stream",
          "name": "stderr",
          "text": [
            "    84/149     7.89G   0.03708  0.005522         0    0.0426        52       640: 100%|██████████| 13/13 [00:14<00:00,  1.13s/it]\n"
          ]
        },
        {
          "output_type": "stream",
          "name": "stdout",
          "text": [
            "Testing with YOLOv5 AP metric...\n"
          ]
        },
        {
          "output_type": "stream",
          "name": "stderr",
          "text": [
            "               Class      Images      Labels           P           R      mAP@.5  mAP@.5:.95: 100%|██████████| 1/1 [00:00<00:00,  3.60it/s]\n"
          ]
        },
        {
          "output_type": "stream",
          "name": "stdout",
          "text": [
            "                 all          15          15           1       0.733       0.929       0.695\n"
          ]
        },
        {
          "output_type": "stream",
          "name": "stderr",
          "text": [
            "    85/149     7.89G   0.03785   0.00594         0   0.04379        62       640: 100%|██████████| 13/13 [00:15<00:00,  1.23s/it]\n"
          ]
        },
        {
          "output_type": "stream",
          "name": "stdout",
          "text": [
            "Testing with YOLOv5 AP metric...\n"
          ]
        },
        {
          "output_type": "stream",
          "name": "stderr",
          "text": [
            "               Class      Images      Labels           P           R      mAP@.5  mAP@.5:.95: 100%|██████████| 1/1 [00:00<00:00,  6.26it/s]\n"
          ]
        },
        {
          "output_type": "stream",
          "name": "stdout",
          "text": [
            "                 all          15          15           1           1       0.995       0.785\n"
          ]
        },
        {
          "output_type": "stream",
          "name": "stderr",
          "text": [
            "    86/149     7.89G   0.03487  0.005963         0   0.04083        51       640: 100%|██████████| 13/13 [00:14<00:00,  1.12s/it]\n"
          ]
        },
        {
          "output_type": "stream",
          "name": "stdout",
          "text": [
            "Testing with YOLOv5 AP metric...\n"
          ]
        },
        {
          "output_type": "stream",
          "name": "stderr",
          "text": [
            "               Class      Images      Labels           P           R      mAP@.5  mAP@.5:.95: 100%|██████████| 1/1 [00:00<00:00,  4.72it/s]\n"
          ]
        },
        {
          "output_type": "stream",
          "name": "stdout",
          "text": [
            "                 all          15          15           1       0.999       0.995       0.771\n"
          ]
        },
        {
          "output_type": "stream",
          "name": "stderr",
          "text": [
            "    87/149     7.89G    0.0366   0.00565         0   0.04225        50       640: 100%|██████████| 13/13 [00:15<00:00,  1.20s/it]\n"
          ]
        },
        {
          "output_type": "stream",
          "name": "stdout",
          "text": [
            "Testing with YOLOv5 AP metric...\n"
          ]
        },
        {
          "output_type": "stream",
          "name": "stderr",
          "text": [
            "               Class      Images      Labels           P           R      mAP@.5  mAP@.5:.95: 100%|██████████| 1/1 [00:00<00:00,  4.25it/s]\n"
          ]
        },
        {
          "output_type": "stream",
          "name": "stdout",
          "text": [
            "                 all          15          15           1           1       0.995       0.763\n"
          ]
        },
        {
          "output_type": "stream",
          "name": "stderr",
          "text": [
            "    88/149     7.89G   0.03558  0.005757         0   0.04134        68       640: 100%|██████████| 13/13 [00:16<00:00,  1.29s/it]\n"
          ]
        },
        {
          "output_type": "stream",
          "name": "stdout",
          "text": [
            "Testing with YOLOv5 AP metric...\n"
          ]
        },
        {
          "output_type": "stream",
          "name": "stderr",
          "text": [
            "               Class      Images      Labels           P           R      mAP@.5  mAP@.5:.95: 100%|██████████| 1/1 [00:00<00:00,  4.12it/s]\n"
          ]
        },
        {
          "output_type": "stream",
          "name": "stdout",
          "text": [
            "                 all          15          15           1       0.933       0.982       0.742\n"
          ]
        },
        {
          "output_type": "stream",
          "name": "stderr",
          "text": [
            "    89/149     7.89G    0.0414  0.005444         0   0.04684        53       640: 100%|██████████| 13/13 [00:22<00:00,  1.72s/it]\n"
          ]
        },
        {
          "output_type": "stream",
          "name": "stdout",
          "text": [
            "Testing with YOLOv5 AP metric...\n"
          ]
        },
        {
          "output_type": "stream",
          "name": "stderr",
          "text": [
            "               Class      Images      Labels           P           R      mAP@.5  mAP@.5:.95: 100%|██████████| 1/1 [00:00<00:00,  5.02it/s]\n"
          ]
        },
        {
          "output_type": "stream",
          "name": "stdout",
          "text": [
            "                 all          15          15       0.882       0.999       0.983       0.752\n"
          ]
        },
        {
          "output_type": "stream",
          "name": "stderr",
          "text": [
            "    90/149     7.89G   0.03564  0.005295         0   0.04093        50       640: 100%|██████████| 13/13 [00:15<00:00,  1.18s/it]\n"
          ]
        },
        {
          "output_type": "stream",
          "name": "stdout",
          "text": [
            "Testing with YOLOv5 AP metric...\n"
          ]
        },
        {
          "output_type": "stream",
          "name": "stderr",
          "text": [
            "               Class      Images      Labels           P           R      mAP@.5  mAP@.5:.95: 100%|██████████| 1/1 [00:00<00:00,  3.85it/s]\n"
          ]
        },
        {
          "output_type": "stream",
          "name": "stdout",
          "text": [
            "                 all          15          15       0.882           1       0.979        0.74\n"
          ]
        },
        {
          "output_type": "stream",
          "name": "stderr",
          "text": [
            "    91/149     7.89G    0.0332  0.005212         0   0.03841        39       640: 100%|██████████| 13/13 [00:14<00:00,  1.15s/it]\n"
          ]
        },
        {
          "output_type": "stream",
          "name": "stdout",
          "text": [
            "Testing with YOLOv5 AP metric...\n"
          ]
        },
        {
          "output_type": "stream",
          "name": "stderr",
          "text": [
            "               Class      Images      Labels           P           R      mAP@.5  mAP@.5:.95: 100%|██████████| 1/1 [00:00<00:00,  3.86it/s]\n"
          ]
        },
        {
          "output_type": "stream",
          "name": "stdout",
          "text": [
            "                 all          15          15       0.996       0.867       0.974       0.747\n"
          ]
        },
        {
          "output_type": "stream",
          "name": "stderr",
          "text": [
            "    92/149     7.89G   0.03622  0.006124         0   0.04235        59       640: 100%|██████████| 13/13 [00:15<00:00,  1.17s/it]\n"
          ]
        },
        {
          "output_type": "stream",
          "name": "stdout",
          "text": [
            "Testing with YOLOv5 AP metric...\n"
          ]
        },
        {
          "output_type": "stream",
          "name": "stderr",
          "text": [
            "               Class      Images      Labels           P           R      mAP@.5  mAP@.5:.95: 100%|██████████| 1/1 [00:00<00:00,  3.46it/s]\n"
          ]
        },
        {
          "output_type": "stream",
          "name": "stdout",
          "text": [
            "                 all          15          15           1       0.926       0.988       0.803\n"
          ]
        },
        {
          "output_type": "stream",
          "name": "stderr",
          "text": [
            "    93/149     7.89G   0.03451  0.005621         0   0.04013        57       640: 100%|██████████| 13/13 [00:14<00:00,  1.13s/it]\n"
          ]
        },
        {
          "output_type": "stream",
          "name": "stdout",
          "text": [
            "Testing with YOLOv5 AP metric...\n"
          ]
        },
        {
          "output_type": "stream",
          "name": "stderr",
          "text": [
            "               Class      Images      Labels           P           R      mAP@.5  mAP@.5:.95: 100%|██████████| 1/1 [00:00<00:00,  4.47it/s]\n"
          ]
        },
        {
          "output_type": "stream",
          "name": "stdout",
          "text": [
            "                 all          15          15       0.933       0.933       0.969       0.738\n"
          ]
        },
        {
          "output_type": "stream",
          "name": "stderr",
          "text": [
            "    94/149     7.89G   0.03247  0.005566         0   0.03804        56       640: 100%|██████████| 13/13 [00:15<00:00,  1.19s/it]\n"
          ]
        },
        {
          "output_type": "stream",
          "name": "stdout",
          "text": [
            "Testing with YOLOv5 AP metric...\n"
          ]
        },
        {
          "output_type": "stream",
          "name": "stderr",
          "text": [
            "               Class      Images      Labels           P           R      mAP@.5  mAP@.5:.95: 100%|██████████| 1/1 [00:00<00:00,  4.48it/s]\n"
          ]
        },
        {
          "output_type": "stream",
          "name": "stdout",
          "text": [
            "                 all          15          15       0.937           1       0.991       0.776\n"
          ]
        },
        {
          "output_type": "stream",
          "name": "stderr",
          "text": [
            "    95/149     7.89G   0.03487  0.005866         0   0.04073        62       640: 100%|██████████| 13/13 [00:15<00:00,  1.22s/it]\n"
          ]
        },
        {
          "output_type": "stream",
          "name": "stdout",
          "text": [
            "Testing with YOLOv5 AP metric...\n"
          ]
        },
        {
          "output_type": "stream",
          "name": "stderr",
          "text": [
            "               Class      Images      Labels           P           R      mAP@.5  mAP@.5:.95: 100%|██████████| 1/1 [00:00<00:00,  4.20it/s]\n"
          ]
        },
        {
          "output_type": "stream",
          "name": "stdout",
          "text": [
            "                 all          15          15           1           1       0.995       0.775\n"
          ]
        },
        {
          "output_type": "stream",
          "name": "stderr",
          "text": [
            "    96/149     7.89G   0.03367  0.005461         0   0.03913        52       640: 100%|██████████| 13/13 [00:14<00:00,  1.14s/it]\n"
          ]
        },
        {
          "output_type": "stream",
          "name": "stdout",
          "text": [
            "Testing with YOLOv5 AP metric...\n"
          ]
        },
        {
          "output_type": "stream",
          "name": "stderr",
          "text": [
            "               Class      Images      Labels           P           R      mAP@.5  mAP@.5:.95: 100%|██████████| 1/1 [00:00<00:00,  4.28it/s]\n"
          ]
        },
        {
          "output_type": "stream",
          "name": "stdout",
          "text": [
            "                 all          15          15           1           1       0.995       0.787\n"
          ]
        },
        {
          "output_type": "stream",
          "name": "stderr",
          "text": [
            "    97/149     14.2G   0.03414  0.005403         0   0.03955        60       640: 100%|██████████| 13/13 [00:21<00:00,  1.63s/it]\n"
          ]
        },
        {
          "output_type": "stream",
          "name": "stdout",
          "text": [
            "Testing with YOLOv5 AP metric...\n"
          ]
        },
        {
          "output_type": "stream",
          "name": "stderr",
          "text": [
            "               Class      Images      Labels           P           R      mAP@.5  mAP@.5:.95: 100%|██████████| 1/1 [00:00<00:00,  2.01it/s]\n"
          ]
        },
        {
          "output_type": "stream",
          "name": "stdout",
          "text": [
            "                 all          15          15       0.933       0.933        0.98        0.78\n"
          ]
        },
        {
          "output_type": "stream",
          "name": "stderr",
          "text": [
            "    98/149     14.2G   0.03377  0.005618         0   0.03939        64       640: 100%|██████████| 13/13 [00:19<00:00,  1.52s/it]\n"
          ]
        },
        {
          "output_type": "stream",
          "name": "stdout",
          "text": [
            "Testing with YOLOv5 AP metric...\n"
          ]
        },
        {
          "output_type": "stream",
          "name": "stderr",
          "text": [
            "               Class      Images      Labels           P           R      mAP@.5  mAP@.5:.95: 100%|██████████| 1/1 [00:00<00:00,  2.38it/s]\n"
          ]
        },
        {
          "output_type": "stream",
          "name": "stdout",
          "text": [
            "                 all          15          15           1       0.867       0.973       0.802\n"
          ]
        },
        {
          "output_type": "stream",
          "name": "stderr",
          "text": [
            "    99/149     14.2G   0.03316  0.005532         0   0.03869        59       640: 100%|██████████| 13/13 [00:19<00:00,  1.50s/it]\n"
          ]
        },
        {
          "output_type": "stream",
          "name": "stdout",
          "text": [
            "Testing with YOLOv5 AP metric...\n"
          ]
        },
        {
          "output_type": "stream",
          "name": "stderr",
          "text": [
            "               Class      Images      Labels           P           R      mAP@.5  mAP@.5:.95: 100%|██████████| 1/1 [00:00<00:00,  1.98it/s]\n"
          ]
        },
        {
          "output_type": "stream",
          "name": "stdout",
          "text": [
            "                 all          15          15       0.937           1       0.991       0.803\n"
          ]
        },
        {
          "output_type": "stream",
          "name": "stderr",
          "text": [
            "   100/149     14.2G   0.03317  0.005894         0   0.03907        63       640: 100%|██████████| 13/13 [00:19<00:00,  1.52s/it]\n"
          ]
        },
        {
          "output_type": "stream",
          "name": "stdout",
          "text": [
            "Testing with YOLOv5 AP metric...\n"
          ]
        },
        {
          "output_type": "stream",
          "name": "stderr",
          "text": [
            "               Class      Images      Labels           P           R      mAP@.5  mAP@.5:.95: 100%|██████████| 1/1 [00:00<00:00,  2.08it/s]\n"
          ]
        },
        {
          "output_type": "stream",
          "name": "stdout",
          "text": [
            "                 all          15          15       0.882           1       0.983       0.782\n"
          ]
        },
        {
          "output_type": "stream",
          "name": "stderr",
          "text": [
            "   101/149     14.2G   0.03407  0.005513         0   0.03959        56       640: 100%|██████████| 13/13 [00:19<00:00,  1.51s/it]\n"
          ]
        },
        {
          "output_type": "stream",
          "name": "stdout",
          "text": [
            "Testing with YOLOv5 AP metric...\n"
          ]
        },
        {
          "output_type": "stream",
          "name": "stderr",
          "text": [
            "               Class      Images      Labels           P           R      mAP@.5  mAP@.5:.95: 100%|██████████| 1/1 [00:00<00:00,  2.43it/s]\n"
          ]
        },
        {
          "output_type": "stream",
          "name": "stdout",
          "text": [
            "                 all          15          15           1           1       0.995       0.776\n"
          ]
        },
        {
          "output_type": "stream",
          "name": "stderr",
          "text": [
            "   102/149     14.2G   0.03231  0.005237         0   0.03755        48       640: 100%|██████████| 13/13 [00:19<00:00,  1.47s/it]\n"
          ]
        },
        {
          "output_type": "stream",
          "name": "stdout",
          "text": [
            "Testing with YOLOv5 AP metric...\n"
          ]
        },
        {
          "output_type": "stream",
          "name": "stderr",
          "text": [
            "               Class      Images      Labels           P           R      mAP@.5  mAP@.5:.95: 100%|██████████| 1/1 [00:00<00:00,  2.11it/s]\n"
          ]
        },
        {
          "output_type": "stream",
          "name": "stdout",
          "text": [
            "                 all          15          15           1           1       0.995       0.791\n"
          ]
        },
        {
          "output_type": "stream",
          "name": "stderr",
          "text": [
            "   103/149     14.2G   0.03429  0.005458         0   0.03975        54       640: 100%|██████████| 13/13 [00:21<00:00,  1.66s/it]\n"
          ]
        },
        {
          "output_type": "stream",
          "name": "stdout",
          "text": [
            "Testing with YOLOv5 AP metric...\n"
          ]
        },
        {
          "output_type": "stream",
          "name": "stderr",
          "text": [
            "               Class      Images      Labels           P           R      mAP@.5  mAP@.5:.95: 100%|██████████| 1/1 [00:00<00:00,  2.10it/s]\n"
          ]
        },
        {
          "output_type": "stream",
          "name": "stdout",
          "text": [
            "                 all          15          15           1           1       0.995       0.785\n"
          ]
        },
        {
          "output_type": "stream",
          "name": "stderr",
          "text": [
            "   104/149     14.2G   0.03279  0.005158         0   0.03795        52       640: 100%|██████████| 13/13 [00:19<00:00,  1.53s/it]\n"
          ]
        },
        {
          "output_type": "stream",
          "name": "stdout",
          "text": [
            "Testing with YOLOv5 AP metric...\n"
          ]
        },
        {
          "output_type": "stream",
          "name": "stderr",
          "text": [
            "               Class      Images      Labels           P           R      mAP@.5  mAP@.5:.95: 100%|██████████| 1/1 [00:00<00:00,  2.05it/s]\n"
          ]
        },
        {
          "output_type": "stream",
          "name": "stdout",
          "text": [
            "                 all          15          15       0.882           1       0.983       0.795\n"
          ]
        },
        {
          "output_type": "stream",
          "name": "stderr",
          "text": [
            "   105/149     14.2G   0.03232  0.005242         0   0.03756        60       640: 100%|██████████| 13/13 [00:19<00:00,  1.50s/it]\n"
          ]
        },
        {
          "output_type": "stream",
          "name": "stdout",
          "text": [
            "Testing with YOLOv5 AP metric...\n"
          ]
        },
        {
          "output_type": "stream",
          "name": "stderr",
          "text": [
            "               Class      Images      Labels           P           R      mAP@.5  mAP@.5:.95: 100%|██████████| 1/1 [00:00<00:00,  2.06it/s]\n"
          ]
        },
        {
          "output_type": "stream",
          "name": "stdout",
          "text": [
            "                 all          15          15           1           1       0.995       0.785\n"
          ]
        },
        {
          "output_type": "stream",
          "name": "stderr",
          "text": [
            "   106/149     14.2G   0.03196  0.005555         0   0.03751        63       640: 100%|██████████| 13/13 [00:19<00:00,  1.50s/it]\n"
          ]
        },
        {
          "output_type": "stream",
          "name": "stdout",
          "text": [
            "Testing with YOLOv5 AP metric...\n"
          ]
        },
        {
          "output_type": "stream",
          "name": "stderr",
          "text": [
            "               Class      Images      Labels           P           R      mAP@.5  mAP@.5:.95: 100%|██████████| 1/1 [00:00<00:00,  1.83it/s]\n"
          ]
        },
        {
          "output_type": "stream",
          "name": "stdout",
          "text": [
            "                 all          15          15           1           1       0.995        0.81\n"
          ]
        },
        {
          "output_type": "stream",
          "name": "stderr",
          "text": [
            "   107/149     14.2G   0.03581  0.005211         0   0.04102        75       640: 100%|██████████| 13/13 [00:19<00:00,  1.51s/it]\n"
          ]
        },
        {
          "output_type": "stream",
          "name": "stdout",
          "text": [
            "Testing with YOLOv5 AP metric...\n"
          ]
        },
        {
          "output_type": "stream",
          "name": "stderr",
          "text": [
            "               Class      Images      Labels           P           R      mAP@.5  mAP@.5:.95: 100%|██████████| 1/1 [00:00<00:00,  2.12it/s]\n"
          ]
        },
        {
          "output_type": "stream",
          "name": "stdout",
          "text": [
            "                 all          15          15           1           1       0.995       0.807\n"
          ]
        },
        {
          "output_type": "stream",
          "name": "stderr",
          "text": [
            "   108/149     14.2G   0.03215  0.005359         0   0.03751        51       640: 100%|██████████| 13/13 [00:20<00:00,  1.54s/it]\n"
          ]
        },
        {
          "output_type": "stream",
          "name": "stdout",
          "text": [
            "Testing with YOLOv5 AP metric...\n"
          ]
        },
        {
          "output_type": "stream",
          "name": "stderr",
          "text": [
            "               Class      Images      Labels           P           R      mAP@.5  mAP@.5:.95: 100%|██████████| 1/1 [00:00<00:00,  2.18it/s]\n"
          ]
        },
        {
          "output_type": "stream",
          "name": "stdout",
          "text": [
            "                 all          15          15       0.999           1       0.995       0.765\n"
          ]
        },
        {
          "output_type": "stream",
          "name": "stderr",
          "text": [
            "   109/149     14.2G   0.03238  0.004846         0   0.03723        47       640: 100%|██████████| 13/13 [00:19<00:00,  1.49s/it]\n"
          ]
        },
        {
          "output_type": "stream",
          "name": "stdout",
          "text": [
            "Testing with YOLOv5 AP metric...\n"
          ]
        },
        {
          "output_type": "stream",
          "name": "stderr",
          "text": [
            "               Class      Images      Labels           P           R      mAP@.5  mAP@.5:.95: 100%|██████████| 1/1 [00:00<00:00,  2.88it/s]\n"
          ]
        },
        {
          "output_type": "stream",
          "name": "stdout",
          "text": [
            "                 all          15          15       0.936           1       0.991       0.777\n"
          ]
        },
        {
          "output_type": "stream",
          "name": "stderr",
          "text": [
            "   110/149     14.2G   0.02963  0.005147         0   0.03477        59       640: 100%|██████████| 13/13 [00:19<00:00,  1.49s/it]\n"
          ]
        },
        {
          "output_type": "stream",
          "name": "stdout",
          "text": [
            "Testing with YOLOv5 AP metric...\n"
          ]
        },
        {
          "output_type": "stream",
          "name": "stderr",
          "text": [
            "               Class      Images      Labels           P           R      mAP@.5  mAP@.5:.95: 100%|██████████| 1/1 [00:00<00:00,  2.04it/s]\n"
          ]
        },
        {
          "output_type": "stream",
          "name": "stdout",
          "text": [
            "                 all          15          15           1           1       0.995       0.772\n"
          ]
        },
        {
          "output_type": "stream",
          "name": "stderr",
          "text": [
            "   111/149     14.2G   0.03303  0.005605         0   0.03863        71       640: 100%|██████████| 13/13 [00:20<00:00,  1.55s/it]\n"
          ]
        },
        {
          "output_type": "stream",
          "name": "stdout",
          "text": [
            "Testing with YOLOv5 AP metric...\n"
          ]
        },
        {
          "output_type": "stream",
          "name": "stderr",
          "text": [
            "               Class      Images      Labels           P           R      mAP@.5  mAP@.5:.95: 100%|██████████| 1/1 [00:00<00:00,  2.26it/s]\n"
          ]
        },
        {
          "output_type": "stream",
          "name": "stdout",
          "text": [
            "                 all          15          15           1           1       0.995       0.813\n"
          ]
        },
        {
          "output_type": "stream",
          "name": "stderr",
          "text": [
            "   112/149     14.2G   0.03258  0.005504         0   0.03808        57       640: 100%|██████████| 13/13 [00:19<00:00,  1.48s/it]\n"
          ]
        },
        {
          "output_type": "stream",
          "name": "stdout",
          "text": [
            "Testing with YOLOv5 AP metric...\n"
          ]
        },
        {
          "output_type": "stream",
          "name": "stderr",
          "text": [
            "               Class      Images      Labels           P           R      mAP@.5  mAP@.5:.95: 100%|██████████| 1/1 [00:00<00:00,  2.13it/s]\n"
          ]
        },
        {
          "output_type": "stream",
          "name": "stdout",
          "text": [
            "                 all          15          15           1           1       0.995       0.783\n"
          ]
        },
        {
          "output_type": "stream",
          "name": "stderr",
          "text": [
            "   113/149     14.2G   0.03124  0.005272         0   0.03651        58       640: 100%|██████████| 13/13 [00:19<00:00,  1.49s/it]\n"
          ]
        },
        {
          "output_type": "stream",
          "name": "stdout",
          "text": [
            "Testing with YOLOv5 AP metric...\n"
          ]
        },
        {
          "output_type": "stream",
          "name": "stderr",
          "text": [
            "               Class      Images      Labels           P           R      mAP@.5  mAP@.5:.95: 100%|██████████| 1/1 [00:00<00:00,  2.24it/s]\n"
          ]
        },
        {
          "output_type": "stream",
          "name": "stdout",
          "text": [
            "                 all          15          15           1           1       0.995       0.772\n"
          ]
        },
        {
          "output_type": "stream",
          "name": "stderr",
          "text": [
            "   114/149     14.2G   0.03256  0.005623         0   0.03818        64       640: 100%|██████████| 13/13 [00:20<00:00,  1.54s/it]\n"
          ]
        },
        {
          "output_type": "stream",
          "name": "stdout",
          "text": [
            "Testing with YOLOv5 AP metric...\n"
          ]
        },
        {
          "output_type": "stream",
          "name": "stderr",
          "text": [
            "               Class      Images      Labels           P           R      mAP@.5  mAP@.5:.95: 100%|██████████| 1/1 [00:00<00:00,  2.23it/s]\n"
          ]
        },
        {
          "output_type": "stream",
          "name": "stdout",
          "text": [
            "                 all          15          15           1           1       0.995       0.797\n"
          ]
        },
        {
          "output_type": "stream",
          "name": "stderr",
          "text": [
            "   115/149     14.2G   0.03384  0.005151         0   0.03899        60       640: 100%|██████████| 13/13 [00:21<00:00,  1.64s/it]\n"
          ]
        },
        {
          "output_type": "stream",
          "name": "stdout",
          "text": [
            "Testing with YOLOv5 AP metric...\n"
          ]
        },
        {
          "output_type": "stream",
          "name": "stderr",
          "text": [
            "               Class      Images      Labels           P           R      mAP@.5  mAP@.5:.95: 100%|██████████| 1/1 [00:00<00:00,  2.04it/s]\n"
          ]
        },
        {
          "output_type": "stream",
          "name": "stdout",
          "text": [
            "                 all          15          15           1           1       0.995       0.808\n"
          ]
        },
        {
          "output_type": "stream",
          "name": "stderr",
          "text": [
            "   116/149     14.2G   0.03159  0.005151         0   0.03674        54       640: 100%|██████████| 13/13 [00:19<00:00,  1.51s/it]\n"
          ]
        },
        {
          "output_type": "stream",
          "name": "stdout",
          "text": [
            "Testing with YOLOv5 AP metric...\n"
          ]
        },
        {
          "output_type": "stream",
          "name": "stderr",
          "text": [
            "               Class      Images      Labels           P           R      mAP@.5  mAP@.5:.95: 100%|██████████| 1/1 [00:00<00:00,  1.99it/s]\n"
          ]
        },
        {
          "output_type": "stream",
          "name": "stdout",
          "text": [
            "                 all          15          15           1           1       0.995       0.807\n"
          ]
        },
        {
          "output_type": "stream",
          "name": "stderr",
          "text": [
            "   117/149     14.2G   0.03175  0.005559         0   0.03731        73       640: 100%|██████████| 13/13 [00:19<00:00,  1.49s/it]\n"
          ]
        },
        {
          "output_type": "stream",
          "name": "stdout",
          "text": [
            "Testing with YOLOv5 AP metric...\n"
          ]
        },
        {
          "output_type": "stream",
          "name": "stderr",
          "text": [
            "               Class      Images      Labels           P           R      mAP@.5  mAP@.5:.95: 100%|██████████| 1/1 [00:00<00:00,  2.77it/s]\n"
          ]
        },
        {
          "output_type": "stream",
          "name": "stdout",
          "text": [
            "                 all          15          15           1           1       0.995       0.783\n"
          ]
        },
        {
          "output_type": "stream",
          "name": "stderr",
          "text": [
            "   118/149     14.2G   0.03352  0.005434         0   0.03896        59       640: 100%|██████████| 13/13 [00:19<00:00,  1.50s/it]\n"
          ]
        },
        {
          "output_type": "stream",
          "name": "stdout",
          "text": [
            "Testing with YOLOv5 AP metric...\n"
          ]
        },
        {
          "output_type": "stream",
          "name": "stderr",
          "text": [
            "               Class      Images      Labels           P           R      mAP@.5  mAP@.5:.95: 100%|██████████| 1/1 [00:00<00:00,  2.74it/s]\n"
          ]
        },
        {
          "output_type": "stream",
          "name": "stdout",
          "text": [
            "                 all          15          15           1           1       0.995       0.782\n"
          ]
        },
        {
          "output_type": "stream",
          "name": "stderr",
          "text": [
            "   119/149     14.2G   0.03395  0.005459         0   0.03941        67       640: 100%|██████████| 13/13 [00:19<00:00,  1.52s/it]\n"
          ]
        },
        {
          "output_type": "stream",
          "name": "stdout",
          "text": [
            "Testing with YOLOv5 AP metric...\n"
          ]
        },
        {
          "output_type": "stream",
          "name": "stderr",
          "text": [
            "               Class      Images      Labels           P           R      mAP@.5  mAP@.5:.95: 100%|██████████| 1/1 [00:00<00:00,  2.45it/s]\n"
          ]
        },
        {
          "output_type": "stream",
          "name": "stdout",
          "text": [
            "                 all          15          15           1           1       0.995       0.749\n"
          ]
        },
        {
          "output_type": "stream",
          "name": "stderr",
          "text": [
            "   120/149     14.2G   0.03347  0.005072         0   0.03855        58       640: 100%|██████████| 13/13 [00:19<00:00,  1.47s/it]\n"
          ]
        },
        {
          "output_type": "stream",
          "name": "stdout",
          "text": [
            "Testing with YOLOv5 AP metric...\n"
          ]
        },
        {
          "output_type": "stream",
          "name": "stderr",
          "text": [
            "               Class      Images      Labels           P           R      mAP@.5  mAP@.5:.95: 100%|██████████| 1/1 [00:00<00:00,  1.92it/s]\n"
          ]
        },
        {
          "output_type": "stream",
          "name": "stdout",
          "text": [
            "                 all          15          15           1           1       0.995       0.799\n"
          ]
        },
        {
          "output_type": "stream",
          "name": "stderr",
          "text": [
            "   121/149     14.2G   0.03189  0.005361         0   0.03725        48       640: 100%|██████████| 13/13 [00:19<00:00,  1.50s/it]\n"
          ]
        },
        {
          "output_type": "stream",
          "name": "stdout",
          "text": [
            "Testing with YOLOv5 AP metric...\n"
          ]
        },
        {
          "output_type": "stream",
          "name": "stderr",
          "text": [
            "               Class      Images      Labels           P           R      mAP@.5  mAP@.5:.95: 100%|██████████| 1/1 [00:00<00:00,  2.77it/s]\n"
          ]
        },
        {
          "output_type": "stream",
          "name": "stdout",
          "text": [
            "                 all          15          15           1           1       0.995        0.79\n"
          ]
        },
        {
          "output_type": "stream",
          "name": "stderr",
          "text": [
            "   122/149     14.2G   0.03292  0.005377         0   0.03829        76       640: 100%|██████████| 13/13 [00:19<00:00,  1.54s/it]\n"
          ]
        },
        {
          "output_type": "stream",
          "name": "stdout",
          "text": [
            "Testing with YOLOv5 AP metric...\n"
          ]
        },
        {
          "output_type": "stream",
          "name": "stderr",
          "text": [
            "               Class      Images      Labels           P           R      mAP@.5  mAP@.5:.95: 100%|██████████| 1/1 [00:00<00:00,  2.73it/s]\n"
          ]
        },
        {
          "output_type": "stream",
          "name": "stdout",
          "text": [
            "                 all          15          15           1           1       0.995       0.797\n"
          ]
        },
        {
          "output_type": "stream",
          "name": "stderr",
          "text": [
            "   123/149     14.2G   0.03172  0.005344         0   0.03706        55       640: 100%|██████████| 13/13 [00:19<00:00,  1.52s/it]\n"
          ]
        },
        {
          "output_type": "stream",
          "name": "stdout",
          "text": [
            "Testing with YOLOv5 AP metric...\n"
          ]
        },
        {
          "output_type": "stream",
          "name": "stderr",
          "text": [
            "               Class      Images      Labels           P           R      mAP@.5  mAP@.5:.95: 100%|██████████| 1/1 [00:00<00:00,  2.03it/s]\n"
          ]
        },
        {
          "output_type": "stream",
          "name": "stdout",
          "text": [
            "                 all          15          15           1           1       0.995        0.79\n"
          ]
        },
        {
          "output_type": "stream",
          "name": "stderr",
          "text": [
            "   124/149     14.2G   0.03189  0.005457         0   0.03734        64       640: 100%|██████████| 13/13 [00:19<00:00,  1.50s/it]\n"
          ]
        },
        {
          "output_type": "stream",
          "name": "stdout",
          "text": [
            "Testing with YOLOv5 AP metric...\n"
          ]
        },
        {
          "output_type": "stream",
          "name": "stderr",
          "text": [
            "               Class      Images      Labels           P           R      mAP@.5  mAP@.5:.95: 100%|██████████| 1/1 [00:00<00:00,  2.35it/s]\n"
          ]
        },
        {
          "output_type": "stream",
          "name": "stdout",
          "text": [
            "                 all          15          15           1           1       0.995       0.788\n"
          ]
        },
        {
          "output_type": "stream",
          "name": "stderr",
          "text": [
            "   125/149     14.2G   0.03101  0.005503         0   0.03652        72       640: 100%|██████████| 13/13 [00:19<00:00,  1.50s/it]\n"
          ]
        },
        {
          "output_type": "stream",
          "name": "stdout",
          "text": [
            "Testing with YOLOv5 AP metric...\n"
          ]
        },
        {
          "output_type": "stream",
          "name": "stderr",
          "text": [
            "               Class      Images      Labels           P           R      mAP@.5  mAP@.5:.95: 100%|██████████| 1/1 [00:00<00:00,  2.07it/s]\n"
          ]
        },
        {
          "output_type": "stream",
          "name": "stdout",
          "text": [
            "                 all          15          15           1           1       0.995       0.816\n"
          ]
        },
        {
          "output_type": "stream",
          "name": "stderr",
          "text": [
            "   126/149     14.2G   0.03166  0.005279         0   0.03694        55       640: 100%|██████████| 13/13 [00:19<00:00,  1.48s/it]\n"
          ]
        },
        {
          "output_type": "stream",
          "name": "stdout",
          "text": [
            "Testing with YOLOv5 AP metric...\n"
          ]
        },
        {
          "output_type": "stream",
          "name": "stderr",
          "text": [
            "               Class      Images      Labels           P           R      mAP@.5  mAP@.5:.95: 100%|██████████| 1/1 [00:00<00:00,  2.76it/s]\n"
          ]
        },
        {
          "output_type": "stream",
          "name": "stdout",
          "text": [
            "                 all          15          15           1           1       0.995       0.807\n"
          ]
        },
        {
          "output_type": "stream",
          "name": "stderr",
          "text": [
            "   127/149     14.2G   0.03224  0.005278         0   0.03752        59       640: 100%|██████████| 13/13 [00:21<00:00,  1.65s/it]\n"
          ]
        },
        {
          "output_type": "stream",
          "name": "stdout",
          "text": [
            "Testing with YOLOv5 AP metric...\n"
          ]
        },
        {
          "output_type": "stream",
          "name": "stderr",
          "text": [
            "               Class      Images      Labels           P           R      mAP@.5  mAP@.5:.95: 100%|██████████| 1/1 [00:00<00:00,  2.01it/s]\n"
          ]
        },
        {
          "output_type": "stream",
          "name": "stdout",
          "text": [
            "                 all          15          15           1       0.999       0.995       0.786\n"
          ]
        },
        {
          "output_type": "stream",
          "name": "stderr",
          "text": [
            "   128/149     14.2G   0.03312  0.005111         0   0.03823        58       640: 100%|██████████| 13/13 [00:19<00:00,  1.49s/it]\n"
          ]
        },
        {
          "output_type": "stream",
          "name": "stdout",
          "text": [
            "Testing with YOLOv5 AP metric...\n"
          ]
        },
        {
          "output_type": "stream",
          "name": "stderr",
          "text": [
            "               Class      Images      Labels           P           R      mAP@.5  mAP@.5:.95: 100%|██████████| 1/1 [00:00<00:00,  1.79it/s]\n"
          ]
        },
        {
          "output_type": "stream",
          "name": "stdout",
          "text": [
            "                 all          15          15       0.937       0.996       0.991        0.79\n"
          ]
        },
        {
          "output_type": "stream",
          "name": "stderr",
          "text": [
            "   129/149     14.2G   0.03245  0.005093         0   0.03755        58       640: 100%|██████████| 13/13 [00:19<00:00,  1.52s/it]\n"
          ]
        },
        {
          "output_type": "stream",
          "name": "stdout",
          "text": [
            "Testing with YOLOv5 AP metric...\n"
          ]
        },
        {
          "output_type": "stream",
          "name": "stderr",
          "text": [
            "               Class      Images      Labels           P           R      mAP@.5  mAP@.5:.95: 100%|██████████| 1/1 [00:00<00:00,  2.16it/s]\n"
          ]
        },
        {
          "output_type": "stream",
          "name": "stdout",
          "text": [
            "                 all          15          15           1           1       0.995       0.808\n"
          ]
        },
        {
          "output_type": "stream",
          "name": "stderr",
          "text": [
            "   130/149     14.2G   0.03133  0.005151         0   0.03648        59       640: 100%|██████████| 13/13 [00:20<00:00,  1.56s/it]\n"
          ]
        },
        {
          "output_type": "stream",
          "name": "stdout",
          "text": [
            "Testing with YOLOv5 AP metric...\n"
          ]
        },
        {
          "output_type": "stream",
          "name": "stderr",
          "text": [
            "               Class      Images      Labels           P           R      mAP@.5  mAP@.5:.95: 100%|██████████| 1/1 [00:00<00:00,  2.10it/s]\n"
          ]
        },
        {
          "output_type": "stream",
          "name": "stdout",
          "text": [
            "                 all          15          15           1           1       0.995       0.798\n"
          ]
        },
        {
          "output_type": "stream",
          "name": "stderr",
          "text": [
            "   131/149     14.2G   0.03017  0.004858         0   0.03502        47       640: 100%|██████████| 13/13 [00:19<00:00,  1.52s/it]\n"
          ]
        },
        {
          "output_type": "stream",
          "name": "stdout",
          "text": [
            "Testing with YOLOv5 AP metric...\n"
          ]
        },
        {
          "output_type": "stream",
          "name": "stderr",
          "text": [
            "               Class      Images      Labels           P           R      mAP@.5  mAP@.5:.95: 100%|██████████| 1/1 [00:00<00:00,  2.68it/s]\n"
          ]
        },
        {
          "output_type": "stream",
          "name": "stdout",
          "text": [
            "                 all          15          15           1           1       0.995       0.822\n"
          ]
        },
        {
          "output_type": "stream",
          "name": "stderr",
          "text": [
            "   132/149     14.2G    0.0308  0.004975         0   0.03577        53       640: 100%|██████████| 13/13 [00:19<00:00,  1.51s/it]\n"
          ]
        },
        {
          "output_type": "stream",
          "name": "stdout",
          "text": [
            "Testing with YOLOv5 AP metric...\n"
          ]
        },
        {
          "output_type": "stream",
          "name": "stderr",
          "text": [
            "               Class      Images      Labels           P           R      mAP@.5  mAP@.5:.95: 100%|██████████| 1/1 [00:00<00:00,  1.90it/s]\n"
          ]
        },
        {
          "output_type": "stream",
          "name": "stdout",
          "text": [
            "                 all          15          15           1           1       0.995       0.758\n"
          ]
        },
        {
          "output_type": "stream",
          "name": "stderr",
          "text": [
            "   133/149     14.2G   0.03322  0.005179         0    0.0384        43       640: 100%|██████████| 13/13 [00:20<00:00,  1.55s/it]\n"
          ]
        },
        {
          "output_type": "stream",
          "name": "stdout",
          "text": [
            "Testing with YOLOv5 AP metric...\n"
          ]
        },
        {
          "output_type": "stream",
          "name": "stderr",
          "text": [
            "               Class      Images      Labels           P           R      mAP@.5  mAP@.5:.95: 100%|██████████| 1/1 [00:00<00:00,  2.05it/s]\n"
          ]
        },
        {
          "output_type": "stream",
          "name": "stdout",
          "text": [
            "                 all          15          15           1           1       0.995       0.806\n"
          ]
        },
        {
          "output_type": "stream",
          "name": "stderr",
          "text": [
            "   134/149     14.2G   0.02982  0.005399         0   0.03522        48       640: 100%|██████████| 13/13 [00:19<00:00,  1.49s/it]\n"
          ]
        },
        {
          "output_type": "stream",
          "name": "stdout",
          "text": [
            "Testing with YOLOv5 AP metric...\n"
          ]
        },
        {
          "output_type": "stream",
          "name": "stderr",
          "text": [
            "               Class      Images      Labels           P           R      mAP@.5  mAP@.5:.95: 100%|██████████| 1/1 [00:00<00:00,  1.80it/s]\n"
          ]
        },
        {
          "output_type": "stream",
          "name": "stdout",
          "text": [
            "                 all          15          15           1           1       0.995       0.805\n"
          ]
        },
        {
          "output_type": "stream",
          "name": "stderr",
          "text": [
            "   135/149     14.2G   0.03095  0.005187         0   0.03614        48       640: 100%|██████████| 13/13 [00:19<00:00,  1.50s/it]\n"
          ]
        },
        {
          "output_type": "stream",
          "name": "stdout",
          "text": [
            "Testing with YOLOv5 AP metric...\n"
          ]
        },
        {
          "output_type": "stream",
          "name": "stderr",
          "text": [
            "               Class      Images      Labels           P           R      mAP@.5  mAP@.5:.95: 100%|██████████| 1/1 [00:00<00:00,  2.30it/s]\n"
          ]
        },
        {
          "output_type": "stream",
          "name": "stdout",
          "text": [
            "                 all          15          15           1           1       0.995       0.792\n"
          ]
        },
        {
          "output_type": "stream",
          "name": "stderr",
          "text": [
            "   136/149     14.2G   0.03103  0.004945         0   0.03597        54       640: 100%|██████████| 13/13 [00:19<00:00,  1.49s/it]\n"
          ]
        },
        {
          "output_type": "stream",
          "name": "stdout",
          "text": [
            "Testing with YOLOv5 AP metric...\n"
          ]
        },
        {
          "output_type": "stream",
          "name": "stderr",
          "text": [
            "               Class      Images      Labels           P           R      mAP@.5  mAP@.5:.95: 100%|██████████| 1/1 [00:00<00:00,  2.01it/s]\n"
          ]
        },
        {
          "output_type": "stream",
          "name": "stdout",
          "text": [
            "                 all          15          15           1           1       0.995       0.794\n"
          ]
        },
        {
          "output_type": "stream",
          "name": "stderr",
          "text": [
            "   137/149     14.2G   0.03098    0.0054         0   0.03638        41       640: 100%|██████████| 13/13 [00:19<00:00,  1.54s/it]\n"
          ]
        },
        {
          "output_type": "stream",
          "name": "stdout",
          "text": [
            "Testing with YOLOv5 AP metric...\n"
          ]
        },
        {
          "output_type": "stream",
          "name": "stderr",
          "text": [
            "               Class      Images      Labels           P           R      mAP@.5  mAP@.5:.95: 100%|██████████| 1/1 [00:00<00:00,  2.00it/s]\n"
          ]
        },
        {
          "output_type": "stream",
          "name": "stdout",
          "text": [
            "                 all          15          15           1           1       0.995        0.77\n"
          ]
        },
        {
          "output_type": "stream",
          "name": "stderr",
          "text": [
            "   138/149     14.2G   0.03112  0.005342         0   0.03647        66       640: 100%|██████████| 13/13 [00:21<00:00,  1.65s/it]\n"
          ]
        },
        {
          "output_type": "stream",
          "name": "stdout",
          "text": [
            "Testing with YOLOv5 AP metric...\n"
          ]
        },
        {
          "output_type": "stream",
          "name": "stderr",
          "text": [
            "               Class      Images      Labels           P           R      mAP@.5  mAP@.5:.95: 100%|██████████| 1/1 [00:00<00:00,  1.99it/s]\n"
          ]
        },
        {
          "output_type": "stream",
          "name": "stdout",
          "text": [
            "                 all          15          15           1           1       0.995       0.777\n"
          ]
        },
        {
          "output_type": "stream",
          "name": "stderr",
          "text": [
            "   139/149     14.2G   0.03069  0.005469         0   0.03616        60       640: 100%|██████████| 13/13 [00:19<00:00,  1.51s/it]\n"
          ]
        },
        {
          "output_type": "stream",
          "name": "stdout",
          "text": [
            "Testing with YOLOv5 AP metric...\n"
          ]
        },
        {
          "output_type": "stream",
          "name": "stderr",
          "text": [
            "               Class      Images      Labels           P           R      mAP@.5  mAP@.5:.95: 100%|██████████| 1/1 [00:00<00:00,  2.03it/s]\n"
          ]
        },
        {
          "output_type": "stream",
          "name": "stdout",
          "text": [
            "                 all          15          15           1           1       0.995       0.776\n"
          ]
        },
        {
          "output_type": "stream",
          "name": "stderr",
          "text": [
            "   140/149     14.2G   0.03064  0.005559         0    0.0362        66       640: 100%|██████████| 13/13 [00:19<00:00,  1.54s/it]\n"
          ]
        },
        {
          "output_type": "stream",
          "name": "stdout",
          "text": [
            "Testing with YOLOv5 AP metric...\n"
          ]
        },
        {
          "output_type": "stream",
          "name": "stderr",
          "text": [
            "               Class      Images      Labels           P           R      mAP@.5  mAP@.5:.95: 100%|██████████| 1/1 [00:00<00:00,  2.04it/s]\n"
          ]
        },
        {
          "output_type": "stream",
          "name": "stdout",
          "text": [
            "                 all          15          15           1           1       0.995       0.788\n"
          ]
        },
        {
          "output_type": "stream",
          "name": "stderr",
          "text": [
            "   141/149     14.2G   0.03005  0.005226         0   0.03527        64       640: 100%|██████████| 13/13 [00:19<00:00,  1.52s/it]\n"
          ]
        },
        {
          "output_type": "stream",
          "name": "stdout",
          "text": [
            "Testing with YOLOv5 AP metric...\n"
          ]
        },
        {
          "output_type": "stream",
          "name": "stderr",
          "text": [
            "               Class      Images      Labels           P           R      mAP@.5  mAP@.5:.95: 100%|██████████| 1/1 [00:00<00:00,  2.16it/s]\n"
          ]
        },
        {
          "output_type": "stream",
          "name": "stdout",
          "text": [
            "                 all          15          15           1           1       0.995         0.8\n"
          ]
        },
        {
          "output_type": "stream",
          "name": "stderr",
          "text": [
            "   142/149     14.2G   0.02933  0.004844         0   0.03417        48       640: 100%|██████████| 13/13 [00:19<00:00,  1.51s/it]\n"
          ]
        },
        {
          "output_type": "stream",
          "name": "stdout",
          "text": [
            "Testing with YOLOv5 AP metric...\n"
          ]
        },
        {
          "output_type": "stream",
          "name": "stderr",
          "text": [
            "               Class      Images      Labels           P           R      mAP@.5  mAP@.5:.95: 100%|██████████| 1/1 [00:00<00:00,  2.68it/s]\n"
          ]
        },
        {
          "output_type": "stream",
          "name": "stdout",
          "text": [
            "                 all          15          15           1           1       0.995       0.807\n"
          ]
        },
        {
          "output_type": "stream",
          "name": "stderr",
          "text": [
            "   143/149     14.2G   0.02846  0.004777         0   0.03324        51       640: 100%|██████████| 13/13 [00:19<00:00,  1.49s/it]\n"
          ]
        },
        {
          "output_type": "stream",
          "name": "stdout",
          "text": [
            "Testing with YOLOv5 AP metric...\n"
          ]
        },
        {
          "output_type": "stream",
          "name": "stderr",
          "text": [
            "               Class      Images      Labels           P           R      mAP@.5  mAP@.5:.95: 100%|██████████| 1/1 [00:00<00:00,  1.91it/s]\n"
          ]
        },
        {
          "output_type": "stream",
          "name": "stdout",
          "text": [
            "                 all          15          15           1           1       0.995       0.789\n"
          ]
        },
        {
          "output_type": "stream",
          "name": "stderr",
          "text": [
            "   144/149     14.2G   0.03003  0.005654         0   0.03569        62       640: 100%|██████████| 13/13 [00:19<00:00,  1.54s/it]\n"
          ]
        },
        {
          "output_type": "stream",
          "name": "stdout",
          "text": [
            "Testing with YOLOv5 AP metric...\n"
          ]
        },
        {
          "output_type": "stream",
          "name": "stderr",
          "text": [
            "               Class      Images      Labels           P           R      mAP@.5  mAP@.5:.95: 100%|██████████| 1/1 [00:00<00:00,  1.85it/s]\n"
          ]
        },
        {
          "output_type": "stream",
          "name": "stdout",
          "text": [
            "                 all          15          15           1           1       0.995       0.781\n"
          ]
        },
        {
          "output_type": "stream",
          "name": "stderr",
          "text": [
            "   145/149     14.2G   0.02967  0.005542         0   0.03521        70       640: 100%|██████████| 13/13 [00:20<00:00,  1.55s/it]\n"
          ]
        },
        {
          "output_type": "stream",
          "name": "stdout",
          "text": [
            "Testing with YOLOv5 AP metric...\n"
          ]
        },
        {
          "output_type": "stream",
          "name": "stderr",
          "text": [
            "               Class      Images      Labels           P           R      mAP@.5  mAP@.5:.95: 100%|██████████| 1/1 [00:00<00:00,  1.96it/s]\n"
          ]
        },
        {
          "output_type": "stream",
          "name": "stdout",
          "text": [
            "                 all          15          15           1           1       0.995       0.764\n"
          ]
        },
        {
          "output_type": "stream",
          "name": "stderr",
          "text": [
            "   146/149     14.2G   0.03126   0.00526         0   0.03652        53       640: 100%|██████████| 13/13 [00:20<00:00,  1.54s/it]\n"
          ]
        },
        {
          "output_type": "stream",
          "name": "stdout",
          "text": [
            "Testing with YOLOv5 AP metric...\n"
          ]
        },
        {
          "output_type": "stream",
          "name": "stderr",
          "text": [
            "               Class      Images      Labels           P           R      mAP@.5  mAP@.5:.95: 100%|██████████| 1/1 [00:00<00:00,  2.00it/s]\n"
          ]
        },
        {
          "output_type": "stream",
          "name": "stdout",
          "text": [
            "                 all          15          15           1           1       0.995       0.775\n"
          ]
        },
        {
          "output_type": "stream",
          "name": "stderr",
          "text": [
            "   147/149     14.2G   0.02917  0.005256         0   0.03442        79       640: 100%|██████████| 13/13 [00:19<00:00,  1.53s/it]\n"
          ]
        },
        {
          "output_type": "stream",
          "name": "stdout",
          "text": [
            "Testing with YOLOv5 AP metric...\n"
          ]
        },
        {
          "output_type": "stream",
          "name": "stderr",
          "text": [
            "               Class      Images      Labels           P           R      mAP@.5  mAP@.5:.95: 100%|██████████| 1/1 [00:00<00:00,  2.67it/s]\n"
          ]
        },
        {
          "output_type": "stream",
          "name": "stdout",
          "text": [
            "                 all          15          15           1           1       0.995       0.769\n"
          ]
        },
        {
          "output_type": "stream",
          "name": "stderr",
          "text": [
            "   148/149     14.2G   0.03172  0.005576         0   0.03729        56       640: 100%|██████████| 13/13 [00:20<00:00,  1.58s/it]\n"
          ]
        },
        {
          "output_type": "stream",
          "name": "stdout",
          "text": [
            "Testing with YOLOv5 AP metric...\n"
          ]
        },
        {
          "output_type": "stream",
          "name": "stderr",
          "text": [
            "               Class      Images      Labels           P           R      mAP@.5  mAP@.5:.95: 100%|██████████| 1/1 [00:00<00:00,  1.78it/s]\n"
          ]
        },
        {
          "output_type": "stream",
          "name": "stdout",
          "text": [
            "                 all          15          15           1           1       0.995       0.766\n"
          ]
        },
        {
          "output_type": "stream",
          "name": "stderr",
          "text": [
            "   149/149     14.2G   0.03006  0.005609         0   0.03567        58       640: 100%|██████████| 13/13 [00:21<00:00,  1.68s/it]\n"
          ]
        },
        {
          "output_type": "stream",
          "name": "stdout",
          "text": [
            "Testing with YOLOv5 AP metric...\n"
          ]
        },
        {
          "output_type": "stream",
          "name": "stderr",
          "text": [
            "               Class      Images      Labels           P           R      mAP@.5  mAP@.5:.95: 100%|██████████| 1/1 [00:00<00:00,  1.61it/s]\n"
          ]
        },
        {
          "output_type": "stream",
          "name": "stdout",
          "text": [
            "                 all          15          15           1           1       0.995       0.791\n"
          ]
        }
      ]
    },
    {
      "cell_type": "markdown",
      "source": [
        "### Exporting model for inference with size 512x512.(Size could be anything depending on the need and given that original YOLO model supports.)"
      ],
      "metadata": {
        "id": "mRkffxKJtX3-"
      }
    },
    {
      "cell_type": "code",
      "source": [
        "tiny_yolo.export_model(\"/content/optmodel/exp/weights/best.pt\",img_size=[512,512])"
      ],
      "metadata": {
        "colab": {
          "base_uri": "https://localhost:8080/"
        },
        "id": "wT2OBinoGrKQ",
        "outputId": "a002e0b4-033e-430d-8206-70ebc6a92ef2"
      },
      "execution_count": 7,
      "outputs": [
        {
          "output_type": "stream",
          "name": "stdout",
          "text": [
            "\n",
            "Starting ONNX export with onnx 1.12.0...\n"
          ]
        },
        {
          "output_type": "stream",
          "name": "stderr",
          "text": [
            "/usr/local/lib/python3.8/dist-packages/torch/onnx/utils.py:439: UserWarning: It is recommended that constant folding be turned off ('do_constant_folding=False') when exporting the model in training-amenable mode, i.e. with 'training=TrainingMode.TRAIN' or 'training=TrainingMode.PRESERVE' (when model is in training mode). Otherwise, some learnable model parameters may not translate correctly in the exported ONNX model because constant folding mutates model parameters. Please consider turning off constant folding or setting the training=TrainingMode.EVAL.\n",
            "  warnings.warn(\n",
            "/usr/local/lib/python3.8/dist-packages/modoptima-0.1.0-py3.8.egg/modoptima/Train/yolov7tiny/models/yolo.py:582: TracerWarning: Converting a tensor to a Python boolean might cause the trace to be incorrect. We can't record the data flow of Python values, so this value will be treated as a constant in the future. This means that the trace might not generalize to other inputs!\n",
            "  if augment:\n",
            "/usr/local/lib/python3.8/dist-packages/modoptima-0.1.0-py3.8.egg/modoptima/Train/yolov7tiny/models/yolo.py:614: TracerWarning: Converting a tensor to a Python boolean might cause the trace to be incorrect. We can't record the data flow of Python values, so this value will be treated as a constant in the future. This means that the trace might not generalize to other inputs!\n",
            "  if profile:\n",
            "/usr/local/lib/python3.8/dist-packages/modoptima-0.1.0-py3.8.egg/modoptima/Train/yolov7tiny/models/yolo.py:629: TracerWarning: Converting a tensor to a Python boolean might cause the trace to be incorrect. We can't record the data flow of Python values, so this value will be treated as a constant in the future. This means that the trace might not generalize to other inputs!\n",
            "  if profile:\n",
            "2023-01-12 17:10:35 sparseml.pytorch.sparsification.quantization.quantize_qat_export INFO     Model initial QuantizeLinear node(s) deleted and inputs set to uint8\n",
            "INFO:sparseml.pytorch.sparsification.quantization.quantize_qat_export:Model initial QuantizeLinear node(s) deleted and inputs set to uint8\n"
          ]
        },
        {
          "output_type": "stream",
          "name": "stdout",
          "text": [
            "ONNX export success, saved as /content/optmodel/exp/weights/best.onnx\n",
            "CoreML export failure: No module named 'coremltools'\n",
            "\n",
            "Export complete (39.27s).\n"
          ]
        }
      ]
    }
  ]
}